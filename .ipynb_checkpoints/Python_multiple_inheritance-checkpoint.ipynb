{
 "cells": [
  {
   "cell_type": "code",
   "execution_count": 5,
   "id": "aceb4e12-6683-4efa-a5d1-e6c51cff8fbb",
   "metadata": {},
   "outputs": [
    {
     "name": "stdout",
     "output_type": "stream",
     "text": [
      "Base init\n",
      "B class\n",
      "A class\n",
      "C class\n"
     ]
    }
   ],
   "source": [
    "class PreBase:\n",
    "    def __init__(self):\n",
    "        print('Prebase init')\n",
    "\n",
    "class Base(PreBase):\n",
    "    def __init__(self):\n",
    "        super().__init__()\n",
    "        print('Base init')\n",
    "        \n",
    "class A(Base):\n",
    "    def __init__(self):\n",
    "        super().__init__()\n",
    "        print('A class')\n",
    "        \n",
    "class B(Base):\n",
    "    def __init__(self):\n",
    "        super().__init__()\n",
    "        print('B class')\n",
    "\n",
    "class C(A,B):\n",
    "    def __init__(self):\n",
    "        super().__init__()\n",
    "        print('C class')\n",
    "        \n",
    "temp = C()"
   ]
  },
  {
   "cell_type": "code",
   "execution_count": null,
   "id": "b257a96e-2620-473e-86aa-2b0e1a17c10f",
   "metadata": {},
   "outputs": [],
   "source": []
  }
 ],
 "metadata": {
  "kernelspec": {
   "display_name": "Python 3",
   "language": "python",
   "name": "python3"
  },
  "language_info": {
   "codemirror_mode": {
    "name": "ipython",
    "version": 3
   },
   "file_extension": ".py",
   "mimetype": "text/x-python",
   "name": "python",
   "nbconvert_exporter": "python",
   "pygments_lexer": "ipython3",
   "version": "3.8.8"
  }
 },
 "nbformat": 4,
 "nbformat_minor": 5
}
