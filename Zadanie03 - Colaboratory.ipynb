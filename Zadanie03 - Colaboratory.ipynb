{
  "nbformat": 4,
  "nbformat_minor": 0,
  "metadata": {
    "colab": {
      "name": "Zadanie03.ipynb",
      "provenance": [],
      "collapsed_sections": []
    },
    "kernelspec": {
      "name": "python3",
      "display_name": "Python 3"
    },
    "language_info": {
      "name": "python"
    }
  },
  "cells": [
    {
      "cell_type": "code",
      "metadata": {
        "id": "Y1vKHZQxh4vb",
        "colab": {
          "base_uri": "https://localhost:8080/"
        },
        "outputId": "41a20fcb-e649-4268-e31a-d56b52c580ad"
      },
      "source": [
        "# instalacja pakietu pyspark\n",
        "\n",
        "!pip install pyspark==3.0.1 py4j==0.10.9"
      ],
      "execution_count": 1,
      "outputs": [
        {
          "output_type": "stream",
          "name": "stdout",
          "text": [
            "Collecting pyspark==3.0.1\n",
            "  Downloading pyspark-3.0.1.tar.gz (204.2 MB)\n",
            "\u001b[K     |████████████████████████████████| 204.2 MB 33 kB/s \n",
            "\u001b[?25hCollecting py4j==0.10.9\n",
            "  Downloading py4j-0.10.9-py2.py3-none-any.whl (198 kB)\n",
            "\u001b[K     |████████████████████████████████| 198 kB 18.7 MB/s \n",
            "\u001b[?25hBuilding wheels for collected packages: pyspark\n",
            "  Building wheel for pyspark (setup.py) ... \u001b[?25l\u001b[?25hdone\n",
            "  Created wheel for pyspark: filename=pyspark-3.0.1-py2.py3-none-any.whl size=204612246 sha256=33b4689bbfb9c0ea2c9a1bb34e4e51f9ab826286dc8962f40063951b4bb8e0ed\n",
            "  Stored in directory: /root/.cache/pip/wheels/5e/34/fa/b37b5cef503fc5148b478b2495043ba61b079120b7ff379f9b\n",
            "Successfully built pyspark\n",
            "Installing collected packages: py4j, pyspark\n",
            "Successfully installed py4j-0.10.9 pyspark-3.0.1\n"
          ]
        }
      ]
    },
    {
      "cell_type": "code",
      "metadata": {
        "id": "EPjfDZCjtq8n"
      },
      "source": [
        "from pyspark.sql import SparkSession\n",
        "\n",
        "# utworzenie sesji\n",
        "spark = SparkSession\\\n",
        "        .builder\\\n",
        "        .master('local[4]')\\\n",
        "        .appName('zadanie_4')\\\n",
        "        .getOrCreate()"
      ],
      "execution_count": 2,
      "outputs": []
    },
    {
      "cell_type": "code",
      "metadata": {
        "id": "y4WVdhsPt9Wt"
      },
      "source": [
        "csv_file = r\"/content/IHME_DAH_DATABASE_1990_2020_Y2021M09D22.CSV\"\n",
        "\n",
        "# pobranie danych z pliku CSV\n",
        "data = spark.read.csv(csv_file, header=True)"
      ],
      "execution_count": 30,
      "outputs": []
    },
    {
      "cell_type": "code",
      "metadata": {
        "colab": {
          "base_uri": "https://localhost:8080/"
        },
        "id": "mz0H2h95vliX",
        "outputId": "0c6718aa-b16c-4c1d-d9d5-a1031b1fcf62"
      },
      "source": [
        "# wyświetlenie 5 wierszy danych\n",
        "data.show(5)"
      ],
      "execution_count": 31,
      "outputs": [
        {
          "output_type": "stream",
          "name": "stdout",
          "text": [
            "+----+---------+-------+-----------------+-----------------+---------------+-------------+--------------+--------------------+-------------+------------------+------------------+-------+----------+------+-------------+-------------+--------------------+------------------+----------------+--------------+--------------+----------------+--------------------+------------------+----------------+---------------+----------------+----------------+-------------+--------------+---------------+--------------------+------------------+--------------+---------------+--------------------+------------------+-------------------+------------------+------------------+----------------+-------------------+----------------+--------------+---------------+---------------+--------------+-------------------+-----------------+-------------+--------------------+------------------+--------------+---------------+----------------+----------------+--------------+--------------------+------------------+----------------+-----------------+----------------+---------------------+-------------------+------------------+------------+----------+----------+----------+----------+----------+---------+---------------------+----------+--------------+\n",
            "|year|   source|channel|recipient_isocode|recipient_country|gbd_location_id|wb_regioncode|wb_location_id|          gbd_region|gbd_region_id|   gbd_superregion|gbd_superregion_id|elim_ch|prelim_est|dah_20|rmh_fp_dah_20|rmh_mh_dah_20|rmh_hss_other_dah_20|rmh_hss_hrh_dah_20|rmh_other_dah_20|nch_cnn_dah_20|nch_cnv_dah_20|nch_other_dah_20|nch_hss_other_dah_20|nch_hss_hrh_dah_20|hiv_treat_dah_20|hiv_prev_dah_20|hiv_pmtct_dah_20|hiv_other_dah_20|hiv_ct_dah_20|hiv_ovc_dah_20|hiv_care_dah_20|hiv_hss_other_dah_20|hiv_hss_hrh_dah_20|hiv_amr_dah_20|mal_diag_dah_20|mal_hss_other_dah_20|mal_hss_hrh_dah_20|mal_con_nets_dah_20|mal_con_irs_dah_20|mal_con_oth_dah_20|mal_treat_dah_20|mal_comm_con_dah_20|mal_other_dah_20|mal_amr_dah_20|tb_other_dah_20|tb_treat_dah_20|tb_diag_dah_20|tb_hss_other_dah_20|tb_hss_hrh_dah_20|tb_amr_dah_20|oid_hss_other_dah_20|oid_hss_hrh_dah_20|oid_ebz_dah_20|oid_zika_dah_20|oid_covid_dah_20|oid_other_dah_20|oid_amr_dah_20|ncd_hss_other_dah_20|ncd_hss_hrh_dah_20|ncd_tobac_dah_20|ncd_mental_dah_20|ncd_other_dah_20|swap_hss_other_dah_20|swap_hss_hrh_dah_20|swap_hss_pp_dah_20|other_dah_20|rmh_dah_20|nch_dah_20|ncd_dah_20|hiv_dah_20|mal_dah_20|tb_dah_20|swap_hss_total_dah_20|oid_dah_20|unalloc_dah_20|\n",
            "+----+---------+-------+-----------------+-----------------+---------------+-------------+--------------+--------------------+-------------+------------------+------------------+-------+----------+------+-------------+-------------+--------------------+------------------+----------------+--------------+--------------+----------------+--------------------+------------------+----------------+---------------+----------------+----------------+-------------+--------------+---------------+--------------------+------------------+--------------+---------------+--------------------+------------------+-------------------+------------------+------------------+----------------+-------------------+----------------+--------------+---------------+---------------+--------------+-------------------+-----------------+-------------+--------------------+------------------+--------------+---------------+----------------+----------------+--------------+--------------------+------------------+----------------+-----------------+----------------+---------------------+-------------------+------------------+------------+----------+----------+----------+----------+----------+---------+---------------------+----------+--------------+\n",
            "|1990|Australia|BIL_AUS|              AGO|           Angola|            168|          SSA|           242|Sub-Saharan Afric...|          167|Sub-Saharan Africa|               166|      0|         0|    14|            1|            1|                   0|                 2|               0|             0|             0|               0|                   0|                 0|               0|              7|               0|               0|            0|             0|              0|                   0|                 0|             0|              0|                   0|                 2|                  0|                 0|                 0|               1|                  0|               0|             0|              0|              0|             0|                  0|                0|            0|                   0|                 0|             0|              0|               0|               0|             0|                   0|                 0|               0|                0|               0|                    0|                  0|                 0|           0|         5|         0|         0|         7|         3|        0|                    0|         0|             -|\n",
            "|1990|Australia|BIL_AUS|              BDI|          Burundi|            175|          SSA|           242|Sub-Saharan Afric...|          174|Sub-Saharan Africa|               166|      0|         0|    12|            1|            2|                   0|                 3|               0|             0|             0|               0|                   0|                 0|               0|              5|               0|               0|            0|             0|              0|                   0|                 0|             0|              0|                   0|                 1|                  0|                 0|                 0|               -|                  0|               0|             0|              0|              0|             0|                  0|                0|            0|                   0|                 0|             0|              0|               0|               0|             0|                   0|                 0|               0|                0|               0|                    0|                  0|                 0|           0|         6|         0|         0|         5|         1|        0|                    0|         0|             0|\n",
            "|1990|Australia|BIL_AUS|              BEN|            Benin|            200|          SSA|           242|Sub-Saharan Afric...|          199|Sub-Saharan Africa|               166|      0|         0|    12|            1|            2|                   0|                 2|               0|             0|             0|               0|                   0|                 0|               0|              5|               0|               0|            0|             0|              0|                   0|                 0|             0|              0|                   0|                 1|                  0|                 0|                 0|               -|                  0|               0|             0|              0|              0|             0|                  0|                0|            0|                   0|                 0|             0|              0|               0|               0|             0|                   0|                 0|               0|                0|               0|                    0|                  0|                 0|           0|         6|         0|         0|         5|         2|        0|                    0|         0|             0|\n",
            "|1990|Australia|BIL_AUS|              BFA|     Burkina Faso|            201|          SSA|           242|Sub-Saharan Afric...|          199|Sub-Saharan Africa|               166|      0|         0|    13|            2|            1|                   0|                 2|               0|             0|             0|               0|                   0|                 0|               0|              7|               0|               0|            0|             0|              0|                   0|                 0|             0|              0|                   0|                 1|                  0|                 0|                 0|               -|                  0|               0|             0|              0|              0|             0|                  0|                0|            0|                   0|                 0|             0|              0|               0|               0|             0|                   0|                 0|               0|                0|               0|                    0|                  0|                 0|           0|         5|         0|         0|         7|         2|        0|                    0|         0|             0|\n",
            "|1990|Australia|BIL_AUS|              BWA|         Botswana|            193|          SSA|           242|Sub-Saharan Afric...|          192|Sub-Saharan Africa|               166|      0|         0|    25|            1|            -|                   0|                 -|               0|             0|             0|               0|                   0|                 0|               0|             23|               0|               0|            0|             0|              0|                   0|                 0|             0|              0|                   0|                 -|                  0|                 0|                 0|               -|                  0|               0|             0|              0|              0|             0|                  0|                0|            0|                   0|                 0|             0|              0|               0|               0|             0|                   0|                 0|               0|                0|               0|                    0|                  0|                 0|           0|         1|         0|         0|        23|         -|        0|                    0|         0|             -|\n",
            "+----+---------+-------+-----------------+-----------------+---------------+-------------+--------------+--------------------+-------------+------------------+------------------+-------+----------+------+-------------+-------------+--------------------+------------------+----------------+--------------+--------------+----------------+--------------------+------------------+----------------+---------------+----------------+----------------+-------------+--------------+---------------+--------------------+------------------+--------------+---------------+--------------------+------------------+-------------------+------------------+------------------+----------------+-------------------+----------------+--------------+---------------+---------------+--------------+-------------------+-----------------+-------------+--------------------+------------------+--------------+---------------+----------------+----------------+--------------+--------------------+------------------+----------------+-----------------+----------------+---------------------+-------------------+------------------+------------+----------+----------+----------+----------+----------+---------+---------------------+----------+--------------+\n",
            "only showing top 5 rows\n",
            "\n"
          ]
        }
      ]
    },
    {
      "cell_type": "code",
      "metadata": {
        "colab": {
          "base_uri": "https://localhost:8080/"
        },
        "id": "w9dNGWz6uSgN",
        "outputId": "08c813a8-4d16-4c04-e458-5c8c4dc507c0"
      },
      "source": [
        "# wyświetlenie schematu danych\n",
        "data.printSchema()"
      ],
      "execution_count": 32,
      "outputs": [
        {
          "output_type": "stream",
          "name": "stdout",
          "text": [
            "root\n",
            " |-- year: string (nullable = true)\n",
            " |-- source: string (nullable = true)\n",
            " |-- channel: string (nullable = true)\n",
            " |-- recipient_isocode: string (nullable = true)\n",
            " |-- recipient_country: string (nullable = true)\n",
            " |-- gbd_location_id: string (nullable = true)\n",
            " |-- wb_regioncode: string (nullable = true)\n",
            " |-- wb_location_id: string (nullable = true)\n",
            " |-- gbd_region: string (nullable = true)\n",
            " |-- gbd_region_id: string (nullable = true)\n",
            " |-- gbd_superregion: string (nullable = true)\n",
            " |-- gbd_superregion_id: string (nullable = true)\n",
            " |-- elim_ch: string (nullable = true)\n",
            " |-- prelim_est: string (nullable = true)\n",
            " |-- dah_20: string (nullable = true)\n",
            " |-- rmh_fp_dah_20: string (nullable = true)\n",
            " |-- rmh_mh_dah_20: string (nullable = true)\n",
            " |-- rmh_hss_other_dah_20: string (nullable = true)\n",
            " |-- rmh_hss_hrh_dah_20: string (nullable = true)\n",
            " |-- rmh_other_dah_20: string (nullable = true)\n",
            " |-- nch_cnn_dah_20: string (nullable = true)\n",
            " |-- nch_cnv_dah_20: string (nullable = true)\n",
            " |-- nch_other_dah_20: string (nullable = true)\n",
            " |-- nch_hss_other_dah_20: string (nullable = true)\n",
            " |-- nch_hss_hrh_dah_20: string (nullable = true)\n",
            " |-- hiv_treat_dah_20: string (nullable = true)\n",
            " |-- hiv_prev_dah_20: string (nullable = true)\n",
            " |-- hiv_pmtct_dah_20: string (nullable = true)\n",
            " |-- hiv_other_dah_20: string (nullable = true)\n",
            " |-- hiv_ct_dah_20: string (nullable = true)\n",
            " |-- hiv_ovc_dah_20: string (nullable = true)\n",
            " |-- hiv_care_dah_20: string (nullable = true)\n",
            " |-- hiv_hss_other_dah_20: string (nullable = true)\n",
            " |-- hiv_hss_hrh_dah_20: string (nullable = true)\n",
            " |-- hiv_amr_dah_20: string (nullable = true)\n",
            " |-- mal_diag_dah_20: string (nullable = true)\n",
            " |-- mal_hss_other_dah_20: string (nullable = true)\n",
            " |-- mal_hss_hrh_dah_20: string (nullable = true)\n",
            " |-- mal_con_nets_dah_20: string (nullable = true)\n",
            " |-- mal_con_irs_dah_20: string (nullable = true)\n",
            " |-- mal_con_oth_dah_20: string (nullable = true)\n",
            " |-- mal_treat_dah_20: string (nullable = true)\n",
            " |-- mal_comm_con_dah_20: string (nullable = true)\n",
            " |-- mal_other_dah_20: string (nullable = true)\n",
            " |-- mal_amr_dah_20: string (nullable = true)\n",
            " |-- tb_other_dah_20: string (nullable = true)\n",
            " |-- tb_treat_dah_20: string (nullable = true)\n",
            " |-- tb_diag_dah_20: string (nullable = true)\n",
            " |-- tb_hss_other_dah_20: string (nullable = true)\n",
            " |-- tb_hss_hrh_dah_20: string (nullable = true)\n",
            " |-- tb_amr_dah_20: string (nullable = true)\n",
            " |-- oid_hss_other_dah_20: string (nullable = true)\n",
            " |-- oid_hss_hrh_dah_20: string (nullable = true)\n",
            " |-- oid_ebz_dah_20: string (nullable = true)\n",
            " |-- oid_zika_dah_20: string (nullable = true)\n",
            " |-- oid_covid_dah_20: string (nullable = true)\n",
            " |-- oid_other_dah_20: string (nullable = true)\n",
            " |-- oid_amr_dah_20: string (nullable = true)\n",
            " |-- ncd_hss_other_dah_20: string (nullable = true)\n",
            " |-- ncd_hss_hrh_dah_20: string (nullable = true)\n",
            " |-- ncd_tobac_dah_20: string (nullable = true)\n",
            " |-- ncd_mental_dah_20: string (nullable = true)\n",
            " |-- ncd_other_dah_20: string (nullable = true)\n",
            " |-- swap_hss_other_dah_20: string (nullable = true)\n",
            " |-- swap_hss_hrh_dah_20: string (nullable = true)\n",
            " |-- swap_hss_pp_dah_20: string (nullable = true)\n",
            " |-- other_dah_20: string (nullable = true)\n",
            " |-- rmh_dah_20: string (nullable = true)\n",
            " |-- nch_dah_20: string (nullable = true)\n",
            " |-- ncd_dah_20: string (nullable = true)\n",
            " |-- hiv_dah_20: string (nullable = true)\n",
            " |-- mal_dah_20: string (nullable = true)\n",
            " |-- tb_dah_20: string (nullable = true)\n",
            " |-- swap_hss_total_dah_20: string (nullable = true)\n",
            " |-- oid_dah_20: string (nullable = true)\n",
            " |-- unalloc_dah_20: string (nullable = true)\n",
            "\n"
          ]
        }
      ]
    },
    {
      "cell_type": "code",
      "metadata": {
        "id": "WikBzODGuYKI"
      },
      "source": [
        "from pyspark.sql.types import *\n",
        "\n",
        "# utworzenie schematu danych\n",
        "data_schema = [\n",
        "      StructField('year', IntegerType(), True),\n",
        "      StructField('source', StringType(), True),\n",
        "      StructField('channel', StringType(), True),\n",
        "      StructField('recipient_isocode', StringType(), True),\n",
        "      StructField('recipient_country', StringType(), True),\n",
        "      StructField('gbd_location_id', IntegerType(), True),\n",
        "      StructField('wb_regioncode', StringType(), True),\n",
        "      StructField('wb_location_id', IntegerType(), True),\n",
        "      StructField('gbd_region', StringType(), True),\n",
        "      StructField('gbd_region_id', IntegerType(), True),\n",
        "      StructField('gbd_superregion', StringType(), True),\n",
        "      StructField('gbd_superregion_id', IntegerType(), True),\n",
        "      StructField('elim_ch', IntegerType(), True),\n",
        "      StructField('prelim_est', IntegerType(), True),\n",
        "      StructField('dah_20', IntegerType(), True),\n",
        "      StructField('rmh_fp_dah_20', IntegerType(), True),\n",
        "      StructField('rmh_mh_dah_20', IntegerType(), True),\n",
        "      StructField('rmh_hss_other_dah_20', IntegerType(), True),\n",
        "      StructField('rmh_hss_hrh_dah_20', IntegerType(), True),\n",
        "      StructField('rmh_other_dah_20', IntegerType(), True),\n",
        "      StructField('nch_cnn_dah_20', IntegerType(), True),\n",
        "      StructField('nch_cnv_dah_20', IntegerType(), True),\n",
        "      StructField('nch_other_dah_20', IntegerType(), True),\n",
        "      StructField('nch_hss_other_dah_20', IntegerType(), True),\n",
        "      StructField('nch_hss_hrh_dah_20', IntegerType(), True),\n",
        "      StructField('hiv_treat_dah_20', IntegerType(), True),\n",
        "      StructField('hiv_prev_dah_20', IntegerType(), True),\n",
        "      StructField('hiv_pmtct_dah_20', IntegerType(), True),\n",
        "      StructField('hiv_other_dah_20', IntegerType(), True),\n",
        "      StructField('hiv_ct_dah_20', IntegerType(), True),\n",
        "      StructField('hiv_ovc_dah_20', IntegerType(), True),\n",
        "      StructField('hiv_care_dah_20', IntegerType(), True),\n",
        "      StructField('hiv_hss_other_dah_20', IntegerType(), True),\n",
        "      StructField('hiv_hss_hrh_dah_20', IntegerType(), True),\n",
        "      StructField('hiv_amr_dah_20', IntegerType(), True),\n",
        "      StructField('mal_diag_dah_20', IntegerType(), True),\n",
        "      StructField('mal_hss_other_dah_20', IntegerType(), True),\n",
        "      StructField('mal_hss_hrh_dah_20', IntegerType(), True),\n",
        "      StructField('mal_con_nets_dah_20', IntegerType(), True),\n",
        "      StructField('mal_con_irs_dah_20', IntegerType(), True),\n",
        "      StructField('mal_con_oth_dah_20', IntegerType(), True),\n",
        "      StructField('mal_treat_dah_20', IntegerType(), True),\n",
        "      StructField('mal_comm_con_dah_20', IntegerType(), True),\n",
        "      StructField('mal_other_dah_20', IntegerType(), True),\n",
        "      StructField('mal_amr_dah_20', IntegerType(), True),\n",
        "      StructField('tb_other_dah_20', IntegerType(), True),\n",
        "      StructField('tb_treat_dah_20', IntegerType(), True),\n",
        "      StructField('tb_diag_dah_20', IntegerType(), True),\n",
        "      StructField('tb_hss_other_dah_20', IntegerType(), True),\n",
        "      StructField('tb_hss_hrh_dah_20', IntegerType(), True),\n",
        "      StructField('tb_amr_dah_20', IntegerType(), True),\n",
        "      StructField('oid_hss_other_dah_20', IntegerType(), True),\n",
        "      StructField('oid_hss_hrh_dah_20', IntegerType(), True),\n",
        "      StructField('oid_ebz_dah_20', IntegerType(), True),\n",
        "      StructField('oid_zika_dah_20', IntegerType(), True),\n",
        "      StructField('oid_covid_dah_20', IntegerType(), True),\n",
        "      StructField('oid_other_dah_20', IntegerType(), True),\n",
        "      StructField('oid_amr_dah_20', IntegerType(), True),\n",
        "      StructField('ncd_hss_other_dah_20', IntegerType(), True),\n",
        "      StructField('ncd_hss_hrh_dah_20', IntegerType(), True),\n",
        "      StructField('ncd_tobac_dah_20', IntegerType(), True),\n",
        "      StructField('ncd_mental_dah_20', IntegerType(), True),\n",
        "      StructField('ncd_other_dah_20', IntegerType(), True),\n",
        "      StructField('swap_hss_other_dah_20', IntegerType(), True),\n",
        "      StructField('swap_hss_hrh_dah_20', IntegerType(), True),\n",
        "      StructField('swap_hss_pp_dah_20', IntegerType(), True),\n",
        "      StructField('other_dah_20', IntegerType(), True),\n",
        "      StructField('rmh_dah_20', IntegerType(), True),\n",
        "      StructField('nch_dah_20', IntegerType(), True),\n",
        "      StructField('ncd_dah_20', IntegerType(), True),\n",
        "      StructField('hiv_dah_20', IntegerType(), True),\n",
        "      StructField('mal_dah_20', IntegerType(), True),\n",
        "      StructField('tb_dah_20', IntegerType(), True),\n",
        "      StructField('swap_hss_total_dah_20', IntegerType(), True),\n",
        "      StructField('oid_dah_20', IntegerType(), True),\n",
        "      StructField('unalloc_dah_20', IntegerType(), True),  \n",
        "]\n",
        "\n",
        "data_struc = StructType(fields = data_schema)"
      ],
      "execution_count": 33,
      "outputs": []
    },
    {
      "cell_type": "code",
      "metadata": {
        "colab": {
          "base_uri": "https://localhost:8080/"
        },
        "id": "fboPMGxIwjPl",
        "outputId": "baa52d9f-d2a2-4d62-f1fc-e9bc8512e0c2"
      },
      "source": [
        "# dodanie schematu do danych\n",
        "data2 = spark.read.csv(csv_file, header=True, schema=data_struc)\n",
        "\n",
        "data2.printSchema()"
      ],
      "execution_count": 34,
      "outputs": [
        {
          "output_type": "stream",
          "name": "stdout",
          "text": [
            "root\n",
            " |-- year: integer (nullable = true)\n",
            " |-- source: string (nullable = true)\n",
            " |-- channel: string (nullable = true)\n",
            " |-- recipient_isocode: string (nullable = true)\n",
            " |-- recipient_country: string (nullable = true)\n",
            " |-- gbd_location_id: integer (nullable = true)\n",
            " |-- wb_regioncode: string (nullable = true)\n",
            " |-- wb_location_id: integer (nullable = true)\n",
            " |-- gbd_region: string (nullable = true)\n",
            " |-- gbd_region_id: integer (nullable = true)\n",
            " |-- gbd_superregion: string (nullable = true)\n",
            " |-- gbd_superregion_id: integer (nullable = true)\n",
            " |-- elim_ch: integer (nullable = true)\n",
            " |-- prelim_est: integer (nullable = true)\n",
            " |-- dah_20: integer (nullable = true)\n",
            " |-- rmh_fp_dah_20: integer (nullable = true)\n",
            " |-- rmh_mh_dah_20: integer (nullable = true)\n",
            " |-- rmh_hss_other_dah_20: integer (nullable = true)\n",
            " |-- rmh_hss_hrh_dah_20: integer (nullable = true)\n",
            " |-- rmh_other_dah_20: integer (nullable = true)\n",
            " |-- nch_cnn_dah_20: integer (nullable = true)\n",
            " |-- nch_cnv_dah_20: integer (nullable = true)\n",
            " |-- nch_other_dah_20: integer (nullable = true)\n",
            " |-- nch_hss_other_dah_20: integer (nullable = true)\n",
            " |-- nch_hss_hrh_dah_20: integer (nullable = true)\n",
            " |-- hiv_treat_dah_20: integer (nullable = true)\n",
            " |-- hiv_prev_dah_20: integer (nullable = true)\n",
            " |-- hiv_pmtct_dah_20: integer (nullable = true)\n",
            " |-- hiv_other_dah_20: integer (nullable = true)\n",
            " |-- hiv_ct_dah_20: integer (nullable = true)\n",
            " |-- hiv_ovc_dah_20: integer (nullable = true)\n",
            " |-- hiv_care_dah_20: integer (nullable = true)\n",
            " |-- hiv_hss_other_dah_20: integer (nullable = true)\n",
            " |-- hiv_hss_hrh_dah_20: integer (nullable = true)\n",
            " |-- hiv_amr_dah_20: integer (nullable = true)\n",
            " |-- mal_diag_dah_20: integer (nullable = true)\n",
            " |-- mal_hss_other_dah_20: integer (nullable = true)\n",
            " |-- mal_hss_hrh_dah_20: integer (nullable = true)\n",
            " |-- mal_con_nets_dah_20: integer (nullable = true)\n",
            " |-- mal_con_irs_dah_20: integer (nullable = true)\n",
            " |-- mal_con_oth_dah_20: integer (nullable = true)\n",
            " |-- mal_treat_dah_20: integer (nullable = true)\n",
            " |-- mal_comm_con_dah_20: integer (nullable = true)\n",
            " |-- mal_other_dah_20: integer (nullable = true)\n",
            " |-- mal_amr_dah_20: integer (nullable = true)\n",
            " |-- tb_other_dah_20: integer (nullable = true)\n",
            " |-- tb_treat_dah_20: integer (nullable = true)\n",
            " |-- tb_diag_dah_20: integer (nullable = true)\n",
            " |-- tb_hss_other_dah_20: integer (nullable = true)\n",
            " |-- tb_hss_hrh_dah_20: integer (nullable = true)\n",
            " |-- tb_amr_dah_20: integer (nullable = true)\n",
            " |-- oid_hss_other_dah_20: integer (nullable = true)\n",
            " |-- oid_hss_hrh_dah_20: integer (nullable = true)\n",
            " |-- oid_ebz_dah_20: integer (nullable = true)\n",
            " |-- oid_zika_dah_20: integer (nullable = true)\n",
            " |-- oid_covid_dah_20: integer (nullable = true)\n",
            " |-- oid_other_dah_20: integer (nullable = true)\n",
            " |-- oid_amr_dah_20: integer (nullable = true)\n",
            " |-- ncd_hss_other_dah_20: integer (nullable = true)\n",
            " |-- ncd_hss_hrh_dah_20: integer (nullable = true)\n",
            " |-- ncd_tobac_dah_20: integer (nullable = true)\n",
            " |-- ncd_mental_dah_20: integer (nullable = true)\n",
            " |-- ncd_other_dah_20: integer (nullable = true)\n",
            " |-- swap_hss_other_dah_20: integer (nullable = true)\n",
            " |-- swap_hss_hrh_dah_20: integer (nullable = true)\n",
            " |-- swap_hss_pp_dah_20: integer (nullable = true)\n",
            " |-- other_dah_20: integer (nullable = true)\n",
            " |-- rmh_dah_20: integer (nullable = true)\n",
            " |-- nch_dah_20: integer (nullable = true)\n",
            " |-- ncd_dah_20: integer (nullable = true)\n",
            " |-- hiv_dah_20: integer (nullable = true)\n",
            " |-- mal_dah_20: integer (nullable = true)\n",
            " |-- tb_dah_20: integer (nullable = true)\n",
            " |-- swap_hss_total_dah_20: integer (nullable = true)\n",
            " |-- oid_dah_20: integer (nullable = true)\n",
            " |-- unalloc_dah_20: integer (nullable = true)\n",
            "\n"
          ]
        }
      ]
    },
    {
      "cell_type": "code",
      "metadata": {
        "colab": {
          "base_uri": "https://localhost:8080/"
        },
        "id": "bzaf1GIBwxwy",
        "outputId": "223ff0ff-ebc9-4ec8-d74e-9a08b6639487"
      },
      "source": [
        "data2.show(5)"
      ],
      "execution_count": 35,
      "outputs": [
        {
          "output_type": "stream",
          "name": "stdout",
          "text": [
            "+----+---------+-------+-----------------+-----------------+---------------+-------------+--------------+--------------------+-------------+------------------+------------------+-------+----------+------+-------------+-------------+--------------------+------------------+----------------+--------------+--------------+----------------+--------------------+------------------+----------------+---------------+----------------+----------------+-------------+--------------+---------------+--------------------+------------------+--------------+---------------+--------------------+------------------+-------------------+------------------+------------------+----------------+-------------------+----------------+--------------+---------------+---------------+--------------+-------------------+-----------------+-------------+--------------------+------------------+--------------+---------------+----------------+----------------+--------------+--------------------+------------------+----------------+-----------------+----------------+---------------------+-------------------+------------------+------------+----------+----------+----------+----------+----------+---------+---------------------+----------+--------------+\n",
            "|year|   source|channel|recipient_isocode|recipient_country|gbd_location_id|wb_regioncode|wb_location_id|          gbd_region|gbd_region_id|   gbd_superregion|gbd_superregion_id|elim_ch|prelim_est|dah_20|rmh_fp_dah_20|rmh_mh_dah_20|rmh_hss_other_dah_20|rmh_hss_hrh_dah_20|rmh_other_dah_20|nch_cnn_dah_20|nch_cnv_dah_20|nch_other_dah_20|nch_hss_other_dah_20|nch_hss_hrh_dah_20|hiv_treat_dah_20|hiv_prev_dah_20|hiv_pmtct_dah_20|hiv_other_dah_20|hiv_ct_dah_20|hiv_ovc_dah_20|hiv_care_dah_20|hiv_hss_other_dah_20|hiv_hss_hrh_dah_20|hiv_amr_dah_20|mal_diag_dah_20|mal_hss_other_dah_20|mal_hss_hrh_dah_20|mal_con_nets_dah_20|mal_con_irs_dah_20|mal_con_oth_dah_20|mal_treat_dah_20|mal_comm_con_dah_20|mal_other_dah_20|mal_amr_dah_20|tb_other_dah_20|tb_treat_dah_20|tb_diag_dah_20|tb_hss_other_dah_20|tb_hss_hrh_dah_20|tb_amr_dah_20|oid_hss_other_dah_20|oid_hss_hrh_dah_20|oid_ebz_dah_20|oid_zika_dah_20|oid_covid_dah_20|oid_other_dah_20|oid_amr_dah_20|ncd_hss_other_dah_20|ncd_hss_hrh_dah_20|ncd_tobac_dah_20|ncd_mental_dah_20|ncd_other_dah_20|swap_hss_other_dah_20|swap_hss_hrh_dah_20|swap_hss_pp_dah_20|other_dah_20|rmh_dah_20|nch_dah_20|ncd_dah_20|hiv_dah_20|mal_dah_20|tb_dah_20|swap_hss_total_dah_20|oid_dah_20|unalloc_dah_20|\n",
            "+----+---------+-------+-----------------+-----------------+---------------+-------------+--------------+--------------------+-------------+------------------+------------------+-------+----------+------+-------------+-------------+--------------------+------------------+----------------+--------------+--------------+----------------+--------------------+------------------+----------------+---------------+----------------+----------------+-------------+--------------+---------------+--------------------+------------------+--------------+---------------+--------------------+------------------+-------------------+------------------+------------------+----------------+-------------------+----------------+--------------+---------------+---------------+--------------+-------------------+-----------------+-------------+--------------------+------------------+--------------+---------------+----------------+----------------+--------------+--------------------+------------------+----------------+-----------------+----------------+---------------------+-------------------+------------------+------------+----------+----------+----------+----------+----------+---------+---------------------+----------+--------------+\n",
            "|1990|Australia|BIL_AUS|              AGO|           Angola|            168|          SSA|           242|Sub-Saharan Afric...|          167|Sub-Saharan Africa|               166|      0|         0|    14|            1|            1|                   0|                 2|               0|             0|             0|               0|                   0|                 0|               0|              7|               0|               0|            0|             0|              0|                   0|                 0|             0|              0|                   0|                 2|                  0|                 0|                 0|               1|                  0|               0|             0|              0|              0|             0|                  0|                0|            0|                   0|                 0|             0|              0|               0|               0|             0|                   0|                 0|               0|                0|               0|                    0|                  0|                 0|           0|         5|         0|         0|         7|         3|        0|                    0|         0|          null|\n",
            "|1990|Australia|BIL_AUS|              BDI|          Burundi|            175|          SSA|           242|Sub-Saharan Afric...|          174|Sub-Saharan Africa|               166|      0|         0|    12|            1|            2|                   0|                 3|               0|             0|             0|               0|                   0|                 0|               0|              5|               0|               0|            0|             0|              0|                   0|                 0|             0|              0|                   0|                 1|                  0|                 0|                 0|            null|                  0|               0|             0|              0|              0|             0|                  0|                0|            0|                   0|                 0|             0|              0|               0|               0|             0|                   0|                 0|               0|                0|               0|                    0|                  0|                 0|           0|         6|         0|         0|         5|         1|        0|                    0|         0|             0|\n",
            "|1990|Australia|BIL_AUS|              BEN|            Benin|            200|          SSA|           242|Sub-Saharan Afric...|          199|Sub-Saharan Africa|               166|      0|         0|    12|            1|            2|                   0|                 2|               0|             0|             0|               0|                   0|                 0|               0|              5|               0|               0|            0|             0|              0|                   0|                 0|             0|              0|                   0|                 1|                  0|                 0|                 0|            null|                  0|               0|             0|              0|              0|             0|                  0|                0|            0|                   0|                 0|             0|              0|               0|               0|             0|                   0|                 0|               0|                0|               0|                    0|                  0|                 0|           0|         6|         0|         0|         5|         2|        0|                    0|         0|             0|\n",
            "|1990|Australia|BIL_AUS|              BFA|     Burkina Faso|            201|          SSA|           242|Sub-Saharan Afric...|          199|Sub-Saharan Africa|               166|      0|         0|    13|            2|            1|                   0|                 2|               0|             0|             0|               0|                   0|                 0|               0|              7|               0|               0|            0|             0|              0|                   0|                 0|             0|              0|                   0|                 1|                  0|                 0|                 0|            null|                  0|               0|             0|              0|              0|             0|                  0|                0|            0|                   0|                 0|             0|              0|               0|               0|             0|                   0|                 0|               0|                0|               0|                    0|                  0|                 0|           0|         5|         0|         0|         7|         2|        0|                    0|         0|             0|\n",
            "|1990|Australia|BIL_AUS|              BWA|         Botswana|            193|          SSA|           242|Sub-Saharan Afric...|          192|Sub-Saharan Africa|               166|      0|         0|    25|            1|         null|                   0|              null|               0|             0|             0|               0|                   0|                 0|               0|             23|               0|               0|            0|             0|              0|                   0|                 0|             0|              0|                   0|              null|                  0|                 0|                 0|            null|                  0|               0|             0|              0|              0|             0|                  0|                0|            0|                   0|                 0|             0|              0|               0|               0|             0|                   0|                 0|               0|                0|               0|                    0|                  0|                 0|           0|         1|         0|         0|        23|      null|        0|                    0|         0|          null|\n",
            "+----+---------+-------+-----------------+-----------------+---------------+-------------+--------------+--------------------+-------------+------------------+------------------+-------+----------+------+-------------+-------------+--------------------+------------------+----------------+--------------+--------------+----------------+--------------------+------------------+----------------+---------------+----------------+----------------+-------------+--------------+---------------+--------------------+------------------+--------------+---------------+--------------------+------------------+-------------------+------------------+------------------+----------------+-------------------+----------------+--------------+---------------+---------------+--------------+-------------------+-----------------+-------------+--------------------+------------------+--------------+---------------+----------------+----------------+--------------+--------------------+------------------+----------------+-----------------+----------------+---------------------+-------------------+------------------+------------+----------+----------+----------+----------+----------+---------+---------------------+----------+--------------+\n",
            "only showing top 5 rows\n",
            "\n"
          ]
        }
      ]
    },
    {
      "cell_type": "code",
      "metadata": {
        "colab": {
          "base_uri": "https://localhost:8080/"
        },
        "id": "RePOWwyGw_HR",
        "outputId": "28532ab4-1750-476b-a4b0-4387064ac993"
      },
      "source": [
        "# wyświetlenie typów danych w poszczególnych kolumnach\n",
        "data.dtypes"
      ],
      "execution_count": 36,
      "outputs": [
        {
          "output_type": "execute_result",
          "data": {
            "text/plain": [
              "[('year', 'string'),\n",
              " ('source', 'string'),\n",
              " ('channel', 'string'),\n",
              " ('recipient_isocode', 'string'),\n",
              " ('recipient_country', 'string'),\n",
              " ('gbd_location_id', 'string'),\n",
              " ('wb_regioncode', 'string'),\n",
              " ('wb_location_id', 'string'),\n",
              " ('gbd_region', 'string'),\n",
              " ('gbd_region_id', 'string'),\n",
              " ('gbd_superregion', 'string'),\n",
              " ('gbd_superregion_id', 'string'),\n",
              " ('elim_ch', 'string'),\n",
              " ('prelim_est', 'string'),\n",
              " ('dah_20', 'string'),\n",
              " ('rmh_fp_dah_20', 'string'),\n",
              " ('rmh_mh_dah_20', 'string'),\n",
              " ('rmh_hss_other_dah_20', 'string'),\n",
              " ('rmh_hss_hrh_dah_20', 'string'),\n",
              " ('rmh_other_dah_20', 'string'),\n",
              " ('nch_cnn_dah_20', 'string'),\n",
              " ('nch_cnv_dah_20', 'string'),\n",
              " ('nch_other_dah_20', 'string'),\n",
              " ('nch_hss_other_dah_20', 'string'),\n",
              " ('nch_hss_hrh_dah_20', 'string'),\n",
              " ('hiv_treat_dah_20', 'string'),\n",
              " ('hiv_prev_dah_20', 'string'),\n",
              " ('hiv_pmtct_dah_20', 'string'),\n",
              " ('hiv_other_dah_20', 'string'),\n",
              " ('hiv_ct_dah_20', 'string'),\n",
              " ('hiv_ovc_dah_20', 'string'),\n",
              " ('hiv_care_dah_20', 'string'),\n",
              " ('hiv_hss_other_dah_20', 'string'),\n",
              " ('hiv_hss_hrh_dah_20', 'string'),\n",
              " ('hiv_amr_dah_20', 'string'),\n",
              " ('mal_diag_dah_20', 'string'),\n",
              " ('mal_hss_other_dah_20', 'string'),\n",
              " ('mal_hss_hrh_dah_20', 'string'),\n",
              " ('mal_con_nets_dah_20', 'string'),\n",
              " ('mal_con_irs_dah_20', 'string'),\n",
              " ('mal_con_oth_dah_20', 'string'),\n",
              " ('mal_treat_dah_20', 'string'),\n",
              " ('mal_comm_con_dah_20', 'string'),\n",
              " ('mal_other_dah_20', 'string'),\n",
              " ('mal_amr_dah_20', 'string'),\n",
              " ('tb_other_dah_20', 'string'),\n",
              " ('tb_treat_dah_20', 'string'),\n",
              " ('tb_diag_dah_20', 'string'),\n",
              " ('tb_hss_other_dah_20', 'string'),\n",
              " ('tb_hss_hrh_dah_20', 'string'),\n",
              " ('tb_amr_dah_20', 'string'),\n",
              " ('oid_hss_other_dah_20', 'string'),\n",
              " ('oid_hss_hrh_dah_20', 'string'),\n",
              " ('oid_ebz_dah_20', 'string'),\n",
              " ('oid_zika_dah_20', 'string'),\n",
              " ('oid_covid_dah_20', 'string'),\n",
              " ('oid_other_dah_20', 'string'),\n",
              " ('oid_amr_dah_20', 'string'),\n",
              " ('ncd_hss_other_dah_20', 'string'),\n",
              " ('ncd_hss_hrh_dah_20', 'string'),\n",
              " ('ncd_tobac_dah_20', 'string'),\n",
              " ('ncd_mental_dah_20', 'string'),\n",
              " ('ncd_other_dah_20', 'string'),\n",
              " ('swap_hss_other_dah_20', 'string'),\n",
              " ('swap_hss_hrh_dah_20', 'string'),\n",
              " ('swap_hss_pp_dah_20', 'string'),\n",
              " ('other_dah_20', 'string'),\n",
              " ('rmh_dah_20', 'string'),\n",
              " ('nch_dah_20', 'string'),\n",
              " ('ncd_dah_20', 'string'),\n",
              " ('hiv_dah_20', 'string'),\n",
              " ('mal_dah_20', 'string'),\n",
              " ('tb_dah_20', 'string'),\n",
              " ('swap_hss_total_dah_20', 'string'),\n",
              " ('oid_dah_20', 'string'),\n",
              " ('unalloc_dah_20', 'string')]"
            ]
          },
          "metadata": {},
          "execution_count": 36
        }
      ]
    },
    {
      "cell_type": "code",
      "metadata": {
        "colab": {
          "base_uri": "https://localhost:8080/"
        },
        "id": "G2usL7V3xIWx",
        "outputId": "360a61e9-e17f-4c6a-d41b-0ee3b36b9687"
      },
      "source": [
        "data2.dtypes"
      ],
      "execution_count": 37,
      "outputs": [
        {
          "output_type": "execute_result",
          "data": {
            "text/plain": [
              "[('year', 'int'),\n",
              " ('source', 'string'),\n",
              " ('channel', 'string'),\n",
              " ('recipient_isocode', 'string'),\n",
              " ('recipient_country', 'string'),\n",
              " ('gbd_location_id', 'int'),\n",
              " ('wb_regioncode', 'string'),\n",
              " ('wb_location_id', 'int'),\n",
              " ('gbd_region', 'string'),\n",
              " ('gbd_region_id', 'int'),\n",
              " ('gbd_superregion', 'string'),\n",
              " ('gbd_superregion_id', 'int'),\n",
              " ('elim_ch', 'int'),\n",
              " ('prelim_est', 'int'),\n",
              " ('dah_20', 'int'),\n",
              " ('rmh_fp_dah_20', 'int'),\n",
              " ('rmh_mh_dah_20', 'int'),\n",
              " ('rmh_hss_other_dah_20', 'int'),\n",
              " ('rmh_hss_hrh_dah_20', 'int'),\n",
              " ('rmh_other_dah_20', 'int'),\n",
              " ('nch_cnn_dah_20', 'int'),\n",
              " ('nch_cnv_dah_20', 'int'),\n",
              " ('nch_other_dah_20', 'int'),\n",
              " ('nch_hss_other_dah_20', 'int'),\n",
              " ('nch_hss_hrh_dah_20', 'int'),\n",
              " ('hiv_treat_dah_20', 'int'),\n",
              " ('hiv_prev_dah_20', 'int'),\n",
              " ('hiv_pmtct_dah_20', 'int'),\n",
              " ('hiv_other_dah_20', 'int'),\n",
              " ('hiv_ct_dah_20', 'int'),\n",
              " ('hiv_ovc_dah_20', 'int'),\n",
              " ('hiv_care_dah_20', 'int'),\n",
              " ('hiv_hss_other_dah_20', 'int'),\n",
              " ('hiv_hss_hrh_dah_20', 'int'),\n",
              " ('hiv_amr_dah_20', 'int'),\n",
              " ('mal_diag_dah_20', 'int'),\n",
              " ('mal_hss_other_dah_20', 'int'),\n",
              " ('mal_hss_hrh_dah_20', 'int'),\n",
              " ('mal_con_nets_dah_20', 'int'),\n",
              " ('mal_con_irs_dah_20', 'int'),\n",
              " ('mal_con_oth_dah_20', 'int'),\n",
              " ('mal_treat_dah_20', 'int'),\n",
              " ('mal_comm_con_dah_20', 'int'),\n",
              " ('mal_other_dah_20', 'int'),\n",
              " ('mal_amr_dah_20', 'int'),\n",
              " ('tb_other_dah_20', 'int'),\n",
              " ('tb_treat_dah_20', 'int'),\n",
              " ('tb_diag_dah_20', 'int'),\n",
              " ('tb_hss_other_dah_20', 'int'),\n",
              " ('tb_hss_hrh_dah_20', 'int'),\n",
              " ('tb_amr_dah_20', 'int'),\n",
              " ('oid_hss_other_dah_20', 'int'),\n",
              " ('oid_hss_hrh_dah_20', 'int'),\n",
              " ('oid_ebz_dah_20', 'int'),\n",
              " ('oid_zika_dah_20', 'int'),\n",
              " ('oid_covid_dah_20', 'int'),\n",
              " ('oid_other_dah_20', 'int'),\n",
              " ('oid_amr_dah_20', 'int'),\n",
              " ('ncd_hss_other_dah_20', 'int'),\n",
              " ('ncd_hss_hrh_dah_20', 'int'),\n",
              " ('ncd_tobac_dah_20', 'int'),\n",
              " ('ncd_mental_dah_20', 'int'),\n",
              " ('ncd_other_dah_20', 'int'),\n",
              " ('swap_hss_other_dah_20', 'int'),\n",
              " ('swap_hss_hrh_dah_20', 'int'),\n",
              " ('swap_hss_pp_dah_20', 'int'),\n",
              " ('other_dah_20', 'int'),\n",
              " ('rmh_dah_20', 'int'),\n",
              " ('nch_dah_20', 'int'),\n",
              " ('ncd_dah_20', 'int'),\n",
              " ('hiv_dah_20', 'int'),\n",
              " ('mal_dah_20', 'int'),\n",
              " ('tb_dah_20', 'int'),\n",
              " ('swap_hss_total_dah_20', 'int'),\n",
              " ('oid_dah_20', 'int'),\n",
              " ('unalloc_dah_20', 'int')]"
            ]
          },
          "metadata": {},
          "execution_count": 37
        }
      ]
    },
    {
      "cell_type": "code",
      "metadata": {
        "colab": {
          "base_uri": "https://localhost:8080/"
        },
        "id": "dSUsbjKHxKn4",
        "outputId": "89cd5165-1c9d-4bcc-a28a-a276908fb755"
      },
      "source": [
        "# wyświetlenie pierwszych 2 wierszy\n",
        "data2.head(5)"
      ],
      "execution_count": 38,
      "outputs": [
        {
          "output_type": "execute_result",
          "data": {
            "text/plain": [
              "[Row(year=1990, source='Australia', channel='BIL_AUS', recipient_isocode='AGO', recipient_country='Angola', gbd_location_id=168, wb_regioncode='SSA', wb_location_id=242, gbd_region='Sub-Saharan Africa, Central', gbd_region_id=167, gbd_superregion='Sub-Saharan Africa', gbd_superregion_id=166, elim_ch=0, prelim_est=0, dah_20=14, rmh_fp_dah_20=1, rmh_mh_dah_20=1, rmh_hss_other_dah_20=0, rmh_hss_hrh_dah_20=2, rmh_other_dah_20=0, nch_cnn_dah_20=0, nch_cnv_dah_20=0, nch_other_dah_20=0, nch_hss_other_dah_20=0, nch_hss_hrh_dah_20=0, hiv_treat_dah_20=0, hiv_prev_dah_20=7, hiv_pmtct_dah_20=0, hiv_other_dah_20=0, hiv_ct_dah_20=0, hiv_ovc_dah_20=0, hiv_care_dah_20=0, hiv_hss_other_dah_20=0, hiv_hss_hrh_dah_20=0, hiv_amr_dah_20=0, mal_diag_dah_20=0, mal_hss_other_dah_20=0, mal_hss_hrh_dah_20=2, mal_con_nets_dah_20=0, mal_con_irs_dah_20=0, mal_con_oth_dah_20=0, mal_treat_dah_20=1, mal_comm_con_dah_20=0, mal_other_dah_20=0, mal_amr_dah_20=0, tb_other_dah_20=0, tb_treat_dah_20=0, tb_diag_dah_20=0, tb_hss_other_dah_20=0, tb_hss_hrh_dah_20=0, tb_amr_dah_20=0, oid_hss_other_dah_20=0, oid_hss_hrh_dah_20=0, oid_ebz_dah_20=0, oid_zika_dah_20=0, oid_covid_dah_20=0, oid_other_dah_20=0, oid_amr_dah_20=0, ncd_hss_other_dah_20=0, ncd_hss_hrh_dah_20=0, ncd_tobac_dah_20=0, ncd_mental_dah_20=0, ncd_other_dah_20=0, swap_hss_other_dah_20=0, swap_hss_hrh_dah_20=0, swap_hss_pp_dah_20=0, other_dah_20=0, rmh_dah_20=5, nch_dah_20=0, ncd_dah_20=0, hiv_dah_20=7, mal_dah_20=3, tb_dah_20=0, swap_hss_total_dah_20=0, oid_dah_20=0, unalloc_dah_20=None),\n",
              " Row(year=1990, source='Australia', channel='BIL_AUS', recipient_isocode='BDI', recipient_country='Burundi', gbd_location_id=175, wb_regioncode='SSA', wb_location_id=242, gbd_region='Sub-Saharan Africa, Eastern', gbd_region_id=174, gbd_superregion='Sub-Saharan Africa', gbd_superregion_id=166, elim_ch=0, prelim_est=0, dah_20=12, rmh_fp_dah_20=1, rmh_mh_dah_20=2, rmh_hss_other_dah_20=0, rmh_hss_hrh_dah_20=3, rmh_other_dah_20=0, nch_cnn_dah_20=0, nch_cnv_dah_20=0, nch_other_dah_20=0, nch_hss_other_dah_20=0, nch_hss_hrh_dah_20=0, hiv_treat_dah_20=0, hiv_prev_dah_20=5, hiv_pmtct_dah_20=0, hiv_other_dah_20=0, hiv_ct_dah_20=0, hiv_ovc_dah_20=0, hiv_care_dah_20=0, hiv_hss_other_dah_20=0, hiv_hss_hrh_dah_20=0, hiv_amr_dah_20=0, mal_diag_dah_20=0, mal_hss_other_dah_20=0, mal_hss_hrh_dah_20=1, mal_con_nets_dah_20=0, mal_con_irs_dah_20=0, mal_con_oth_dah_20=0, mal_treat_dah_20=None, mal_comm_con_dah_20=0, mal_other_dah_20=0, mal_amr_dah_20=0, tb_other_dah_20=0, tb_treat_dah_20=0, tb_diag_dah_20=0, tb_hss_other_dah_20=0, tb_hss_hrh_dah_20=0, tb_amr_dah_20=0, oid_hss_other_dah_20=0, oid_hss_hrh_dah_20=0, oid_ebz_dah_20=0, oid_zika_dah_20=0, oid_covid_dah_20=0, oid_other_dah_20=0, oid_amr_dah_20=0, ncd_hss_other_dah_20=0, ncd_hss_hrh_dah_20=0, ncd_tobac_dah_20=0, ncd_mental_dah_20=0, ncd_other_dah_20=0, swap_hss_other_dah_20=0, swap_hss_hrh_dah_20=0, swap_hss_pp_dah_20=0, other_dah_20=0, rmh_dah_20=6, nch_dah_20=0, ncd_dah_20=0, hiv_dah_20=5, mal_dah_20=1, tb_dah_20=0, swap_hss_total_dah_20=0, oid_dah_20=0, unalloc_dah_20=0),\n",
              " Row(year=1990, source='Australia', channel='BIL_AUS', recipient_isocode='BEN', recipient_country='Benin', gbd_location_id=200, wb_regioncode='SSA', wb_location_id=242, gbd_region='Sub-Saharan Africa, Western', gbd_region_id=199, gbd_superregion='Sub-Saharan Africa', gbd_superregion_id=166, elim_ch=0, prelim_est=0, dah_20=12, rmh_fp_dah_20=1, rmh_mh_dah_20=2, rmh_hss_other_dah_20=0, rmh_hss_hrh_dah_20=2, rmh_other_dah_20=0, nch_cnn_dah_20=0, nch_cnv_dah_20=0, nch_other_dah_20=0, nch_hss_other_dah_20=0, nch_hss_hrh_dah_20=0, hiv_treat_dah_20=0, hiv_prev_dah_20=5, hiv_pmtct_dah_20=0, hiv_other_dah_20=0, hiv_ct_dah_20=0, hiv_ovc_dah_20=0, hiv_care_dah_20=0, hiv_hss_other_dah_20=0, hiv_hss_hrh_dah_20=0, hiv_amr_dah_20=0, mal_diag_dah_20=0, mal_hss_other_dah_20=0, mal_hss_hrh_dah_20=1, mal_con_nets_dah_20=0, mal_con_irs_dah_20=0, mal_con_oth_dah_20=0, mal_treat_dah_20=None, mal_comm_con_dah_20=0, mal_other_dah_20=0, mal_amr_dah_20=0, tb_other_dah_20=0, tb_treat_dah_20=0, tb_diag_dah_20=0, tb_hss_other_dah_20=0, tb_hss_hrh_dah_20=0, tb_amr_dah_20=0, oid_hss_other_dah_20=0, oid_hss_hrh_dah_20=0, oid_ebz_dah_20=0, oid_zika_dah_20=0, oid_covid_dah_20=0, oid_other_dah_20=0, oid_amr_dah_20=0, ncd_hss_other_dah_20=0, ncd_hss_hrh_dah_20=0, ncd_tobac_dah_20=0, ncd_mental_dah_20=0, ncd_other_dah_20=0, swap_hss_other_dah_20=0, swap_hss_hrh_dah_20=0, swap_hss_pp_dah_20=0, other_dah_20=0, rmh_dah_20=6, nch_dah_20=0, ncd_dah_20=0, hiv_dah_20=5, mal_dah_20=2, tb_dah_20=0, swap_hss_total_dah_20=0, oid_dah_20=0, unalloc_dah_20=0),\n",
              " Row(year=1990, source='Australia', channel='BIL_AUS', recipient_isocode='BFA', recipient_country='Burkina Faso', gbd_location_id=201, wb_regioncode='SSA', wb_location_id=242, gbd_region='Sub-Saharan Africa, Western', gbd_region_id=199, gbd_superregion='Sub-Saharan Africa', gbd_superregion_id=166, elim_ch=0, prelim_est=0, dah_20=13, rmh_fp_dah_20=2, rmh_mh_dah_20=1, rmh_hss_other_dah_20=0, rmh_hss_hrh_dah_20=2, rmh_other_dah_20=0, nch_cnn_dah_20=0, nch_cnv_dah_20=0, nch_other_dah_20=0, nch_hss_other_dah_20=0, nch_hss_hrh_dah_20=0, hiv_treat_dah_20=0, hiv_prev_dah_20=7, hiv_pmtct_dah_20=0, hiv_other_dah_20=0, hiv_ct_dah_20=0, hiv_ovc_dah_20=0, hiv_care_dah_20=0, hiv_hss_other_dah_20=0, hiv_hss_hrh_dah_20=0, hiv_amr_dah_20=0, mal_diag_dah_20=0, mal_hss_other_dah_20=0, mal_hss_hrh_dah_20=1, mal_con_nets_dah_20=0, mal_con_irs_dah_20=0, mal_con_oth_dah_20=0, mal_treat_dah_20=None, mal_comm_con_dah_20=0, mal_other_dah_20=0, mal_amr_dah_20=0, tb_other_dah_20=0, tb_treat_dah_20=0, tb_diag_dah_20=0, tb_hss_other_dah_20=0, tb_hss_hrh_dah_20=0, tb_amr_dah_20=0, oid_hss_other_dah_20=0, oid_hss_hrh_dah_20=0, oid_ebz_dah_20=0, oid_zika_dah_20=0, oid_covid_dah_20=0, oid_other_dah_20=0, oid_amr_dah_20=0, ncd_hss_other_dah_20=0, ncd_hss_hrh_dah_20=0, ncd_tobac_dah_20=0, ncd_mental_dah_20=0, ncd_other_dah_20=0, swap_hss_other_dah_20=0, swap_hss_hrh_dah_20=0, swap_hss_pp_dah_20=0, other_dah_20=0, rmh_dah_20=5, nch_dah_20=0, ncd_dah_20=0, hiv_dah_20=7, mal_dah_20=2, tb_dah_20=0, swap_hss_total_dah_20=0, oid_dah_20=0, unalloc_dah_20=0),\n",
              " Row(year=1990, source='Australia', channel='BIL_AUS', recipient_isocode='BWA', recipient_country='Botswana', gbd_location_id=193, wb_regioncode='SSA', wb_location_id=242, gbd_region='Sub-Saharan Africa, Southern', gbd_region_id=192, gbd_superregion='Sub-Saharan Africa', gbd_superregion_id=166, elim_ch=0, prelim_est=0, dah_20=25, rmh_fp_dah_20=1, rmh_mh_dah_20=None, rmh_hss_other_dah_20=0, rmh_hss_hrh_dah_20=None, rmh_other_dah_20=0, nch_cnn_dah_20=0, nch_cnv_dah_20=0, nch_other_dah_20=0, nch_hss_other_dah_20=0, nch_hss_hrh_dah_20=0, hiv_treat_dah_20=0, hiv_prev_dah_20=23, hiv_pmtct_dah_20=0, hiv_other_dah_20=0, hiv_ct_dah_20=0, hiv_ovc_dah_20=0, hiv_care_dah_20=0, hiv_hss_other_dah_20=0, hiv_hss_hrh_dah_20=0, hiv_amr_dah_20=0, mal_diag_dah_20=0, mal_hss_other_dah_20=0, mal_hss_hrh_dah_20=None, mal_con_nets_dah_20=0, mal_con_irs_dah_20=0, mal_con_oth_dah_20=0, mal_treat_dah_20=None, mal_comm_con_dah_20=0, mal_other_dah_20=0, mal_amr_dah_20=0, tb_other_dah_20=0, tb_treat_dah_20=0, tb_diag_dah_20=0, tb_hss_other_dah_20=0, tb_hss_hrh_dah_20=0, tb_amr_dah_20=0, oid_hss_other_dah_20=0, oid_hss_hrh_dah_20=0, oid_ebz_dah_20=0, oid_zika_dah_20=0, oid_covid_dah_20=0, oid_other_dah_20=0, oid_amr_dah_20=0, ncd_hss_other_dah_20=0, ncd_hss_hrh_dah_20=0, ncd_tobac_dah_20=0, ncd_mental_dah_20=0, ncd_other_dah_20=0, swap_hss_other_dah_20=0, swap_hss_hrh_dah_20=0, swap_hss_pp_dah_20=0, other_dah_20=0, rmh_dah_20=1, nch_dah_20=0, ncd_dah_20=0, hiv_dah_20=23, mal_dah_20=None, tb_dah_20=0, swap_hss_total_dah_20=0, oid_dah_20=0, unalloc_dah_20=None)]"
            ]
          },
          "metadata": {},
          "execution_count": 38
        }
      ]
    },
    {
      "cell_type": "code",
      "metadata": {
        "colab": {
          "base_uri": "https://localhost:8080/"
        },
        "id": "2l0wjOIYxPjI",
        "outputId": "2b9ca01f-e06f-4011-ede1-990df990e091"
      },
      "source": [
        "# wyświetlenie ostatnich 2 wierszy\n",
        "data2.tail(5)"
      ],
      "execution_count": 39,
      "outputs": [
        {
          "output_type": "execute_result",
          "data": {
            "text/plain": [
              "[Row(year=2020, source='United_States', channel='UNICEF', recipient_isocode='QZA', recipient_country='Unallocated/Unspecified', gbd_location_id=44598, wb_regioncode='NA', wb_location_id=44621, gbd_region='Unallocated/Unspecified', gbd_region_id=44598, gbd_superregion='Unallocated/Unspecified', gbd_superregion_id=44598, elim_ch=0, prelim_est=1, dah_20=408931, rmh_fp_dah_20=0, rmh_mh_dah_20=0, rmh_hss_other_dah_20=0, rmh_hss_hrh_dah_20=0, rmh_other_dah_20=17509, nch_cnn_dah_20=99028, nch_cnv_dah_20=77748, nch_other_dah_20=52623, nch_hss_other_dah_20=36411, nch_hss_hrh_dah_20=0, hiv_treat_dah_20=2357, hiv_prev_dah_20=4685, hiv_pmtct_dah_20=0, hiv_other_dah_20=0, hiv_ct_dah_20=0, hiv_ovc_dah_20=0, hiv_care_dah_20=2357, hiv_hss_other_dah_20=0, hiv_hss_hrh_dah_20=0, hiv_amr_dah_20=0, mal_diag_dah_20=0, mal_hss_other_dah_20=0, mal_hss_hrh_dah_20=0, mal_con_nets_dah_20=0, mal_con_irs_dah_20=0, mal_con_oth_dah_20=0, mal_treat_dah_20=0, mal_comm_con_dah_20=0, mal_other_dah_20=0, mal_amr_dah_20=0, tb_other_dah_20=0, tb_treat_dah_20=0, tb_diag_dah_20=0, tb_hss_other_dah_20=0, tb_hss_hrh_dah_20=0, tb_amr_dah_20=0, oid_hss_other_dah_20=0, oid_hss_hrh_dah_20=0, oid_ebz_dah_20=0, oid_zika_dah_20=0, oid_covid_dah_20=116214, oid_other_dah_20=0, oid_amr_dah_20=0, ncd_hss_other_dah_20=0, ncd_hss_hrh_dah_20=0, ncd_tobac_dah_20=0, ncd_mental_dah_20=0, ncd_other_dah_20=0, swap_hss_other_dah_20=0, swap_hss_hrh_dah_20=0, swap_hss_pp_dah_20=0, other_dah_20=0, rmh_dah_20=17509, nch_dah_20=265811, ncd_dah_20=0, hiv_dah_20=9398, mal_dah_20=0, tb_dah_20=0, swap_hss_total_dah_20=0, oid_dah_20=116214, unalloc_dah_20=None),\n",
              " Row(year=2020, source='United_States', channel='UNITAID', recipient_isocode='QZA', recipient_country='Unallocated/Unspecified', gbd_location_id=44598, wb_regioncode='NA', wb_location_id=44621, gbd_region='Unallocated/Unspecified', gbd_region_id=44598, gbd_superregion='Unallocated/Unspecified', gbd_superregion_id=44598, elim_ch=0, prelim_est=0, dah_20=3872, rmh_fp_dah_20=0, rmh_mh_dah_20=0, rmh_hss_other_dah_20=0, rmh_hss_hrh_dah_20=0, rmh_other_dah_20=0, nch_cnn_dah_20=0, nch_cnv_dah_20=0, nch_other_dah_20=0, nch_hss_other_dah_20=0, nch_hss_hrh_dah_20=0, hiv_treat_dah_20=427, hiv_prev_dah_20=507, hiv_pmtct_dah_20=0, hiv_other_dah_20=0, hiv_ct_dah_20=84, hiv_ovc_dah_20=0, hiv_care_dah_20=0, hiv_hss_other_dah_20=19, hiv_hss_hrh_dah_20=0, hiv_amr_dah_20=0, mal_diag_dah_20=54, mal_hss_other_dah_20=5, mal_hss_hrh_dah_20=0, mal_con_nets_dah_20=506, mal_con_irs_dah_20=0, mal_con_oth_dah_20=308, mal_treat_dah_20=212, mal_comm_con_dah_20=0, mal_other_dah_20=0, mal_amr_dah_20=0, tb_other_dah_20=40, tb_treat_dah_20=681, tb_diag_dah_20=167, tb_hss_other_dah_20=7, tb_hss_hrh_dah_20=0, tb_amr_dah_20=0, oid_hss_other_dah_20=0, oid_hss_hrh_dah_20=0, oid_ebz_dah_20=0, oid_zika_dah_20=0, oid_covid_dah_20=407, oid_other_dah_20=0, oid_amr_dah_20=0, ncd_hss_other_dah_20=0, ncd_hss_hrh_dah_20=0, ncd_tobac_dah_20=0, ncd_mental_dah_20=0, ncd_other_dah_20=0, swap_hss_other_dah_20=449, swap_hss_hrh_dah_20=0, swap_hss_pp_dah_20=0, other_dah_20=0, rmh_dah_20=0, nch_dah_20=0, ncd_dah_20=0, hiv_dah_20=1037, mal_dah_20=1085, tb_dah_20=895, swap_hss_total_dah_20=449, oid_dah_20=407, unalloc_dah_20=None),\n",
              " Row(year=2020, source='United_States', channel='UNITAID', recipient_isocode='QZA', recipient_country='Unallocated/Unspecified', gbd_location_id=44598, wb_regioncode='NA', wb_location_id=44621, gbd_region='Unallocated/Unspecified', gbd_region_id=44598, gbd_superregion='Unallocated/Unspecified', gbd_superregion_id=44598, elim_ch=1, prelim_est=0, dah_20=1918, rmh_fp_dah_20=0, rmh_mh_dah_20=0, rmh_hss_other_dah_20=0, rmh_hss_hrh_dah_20=0, rmh_other_dah_20=0, nch_cnn_dah_20=0, nch_cnv_dah_20=0, nch_other_dah_20=0, nch_hss_other_dah_20=0, nch_hss_hrh_dah_20=0, hiv_treat_dah_20=180, hiv_prev_dah_20=351, hiv_pmtct_dah_20=0, hiv_other_dah_20=0, hiv_ct_dah_20=579, hiv_ovc_dah_20=0, hiv_care_dah_20=0, hiv_hss_other_dah_20=140, hiv_hss_hrh_dah_20=0, hiv_amr_dah_20=0, mal_diag_dah_20=0, mal_hss_other_dah_20=37, mal_hss_hrh_dah_20=0, mal_con_nets_dah_20=0, mal_con_irs_dah_20=0, mal_con_oth_dah_20=19, mal_treat_dah_20=110, mal_comm_con_dah_20=0, mal_other_dah_20=0, mal_amr_dah_20=0, tb_other_dah_20=0, tb_treat_dah_20=61, tb_diag_dah_20=0, tb_hss_other_dah_20=51, tb_hss_hrh_dah_20=0, tb_amr_dah_20=0, oid_hss_other_dah_20=0, oid_hss_hrh_dah_20=0, oid_ebz_dah_20=0, oid_zika_dah_20=0, oid_covid_dah_20=217, oid_other_dah_20=0, oid_amr_dah_20=0, ncd_hss_other_dah_20=0, ncd_hss_hrh_dah_20=0, ncd_tobac_dah_20=0, ncd_mental_dah_20=0, ncd_other_dah_20=0, swap_hss_other_dah_20=173, swap_hss_hrh_dah_20=0, swap_hss_pp_dah_20=0, other_dah_20=0, rmh_dah_20=0, nch_dah_20=0, ncd_dah_20=0, hiv_dah_20=1250, mal_dah_20=166, tb_dah_20=112, swap_hss_total_dah_20=173, oid_dah_20=217, unalloc_dah_20=0),\n",
              " Row(year=2020, source='United_States', channel='WB_IDA', recipient_isocode='QZA', recipient_country='Unallocated/Unspecified', gbd_location_id=44598, wb_regioncode='NA', wb_location_id=44621, gbd_region='Unallocated/Unspecified', gbd_region_id=44598, gbd_superregion='Unallocated/Unspecified', gbd_superregion_id=44598, elim_ch=0, prelim_est=1, dah_20=198352, rmh_fp_dah_20=0, rmh_mh_dah_20=0, rmh_hss_other_dah_20=4442, rmh_hss_hrh_dah_20=0, rmh_other_dah_20=12895, nch_cnn_dah_20=8918, nch_cnv_dah_20=358, nch_other_dah_20=13518, nch_hss_other_dah_20=3704, nch_hss_hrh_dah_20=0, hiv_treat_dah_20=0, hiv_prev_dah_20=0, hiv_pmtct_dah_20=0, hiv_other_dah_20=5076, hiv_ct_dah_20=0, hiv_ovc_dah_20=0, hiv_care_dah_20=0, hiv_hss_other_dah_20=0, hiv_hss_hrh_dah_20=0, hiv_amr_dah_20=0, mal_diag_dah_20=0, mal_hss_other_dah_20=0, mal_hss_hrh_dah_20=0, mal_con_nets_dah_20=0, mal_con_irs_dah_20=0, mal_con_oth_dah_20=0, mal_treat_dah_20=0, mal_comm_con_dah_20=0, mal_other_dah_20=763, mal_amr_dah_20=0, tb_other_dah_20=2589, tb_treat_dah_20=0, tb_diag_dah_20=0, tb_hss_other_dah_20=836, tb_hss_hrh_dah_20=0, tb_amr_dah_20=0, oid_hss_other_dah_20=0, oid_hss_hrh_dah_20=0, oid_ebz_dah_20=458, oid_zika_dah_20=0, oid_covid_dah_20=44155, oid_other_dah_20=2956, oid_amr_dah_20=0, ncd_hss_other_dah_20=0, ncd_hss_hrh_dah_20=0, ncd_tobac_dah_20=0, ncd_mental_dah_20=0, ncd_other_dah_20=1907, swap_hss_other_dah_20=43296, swap_hss_hrh_dah_20=2996, swap_hss_pp_dah_20=0, other_dah_20=49485, rmh_dah_20=17337, nch_dah_20=26498, ncd_dah_20=1907, hiv_dah_20=5076, mal_dah_20=763, tb_dah_20=3424, swap_hss_total_dah_20=46292, oid_dah_20=47569, unalloc_dah_20=None),\n",
              " Row(year=2020, source='United_States', channel='WHO', recipient_isocode='QZA', recipient_country='Unallocated/Unspecified', gbd_location_id=44598, wb_regioncode='NA', wb_location_id=44621, gbd_region='Unallocated/Unspecified', gbd_region_id=44598, gbd_superregion='Unallocated/Unspecified', gbd_superregion_id=44598, elim_ch=0, prelim_est=1, dah_20=422970, rmh_fp_dah_20=0, rmh_mh_dah_20=0, rmh_hss_other_dah_20=0, rmh_hss_hrh_dah_20=0, rmh_other_dah_20=13250, nch_cnn_dah_20=3554, nch_cnv_dah_20=21055, nch_other_dah_20=8103, nch_hss_other_dah_20=0, nch_hss_hrh_dah_20=0, hiv_treat_dah_20=0, hiv_prev_dah_20=0, hiv_pmtct_dah_20=0, hiv_other_dah_20=11098, hiv_ct_dah_20=0, hiv_ovc_dah_20=0, hiv_care_dah_20=0, hiv_hss_other_dah_20=0, hiv_hss_hrh_dah_20=0, hiv_amr_dah_20=0, mal_diag_dah_20=0, mal_hss_other_dah_20=0, mal_hss_hrh_dah_20=0, mal_con_nets_dah_20=0, mal_con_irs_dah_20=0, mal_con_oth_dah_20=0, mal_treat_dah_20=0, mal_comm_con_dah_20=0, mal_other_dah_20=8991, mal_amr_dah_20=0, tb_other_dah_20=9457, tb_treat_dah_20=0, tb_diag_dah_20=0, tb_hss_other_dah_20=0, tb_hss_hrh_dah_20=0, tb_amr_dah_20=0, oid_hss_other_dah_20=0, oid_hss_hrh_dah_20=0, oid_ebz_dah_20=0, oid_zika_dah_20=0, oid_covid_dah_20=32474, oid_other_dah_20=81463, oid_amr_dah_20=0, ncd_hss_other_dah_20=0, ncd_hss_hrh_dah_20=0, ncd_tobac_dah_20=2674, ncd_mental_dah_20=3606, ncd_other_dah_20=16156, swap_hss_other_dah_20=101175, swap_hss_hrh_dah_20=0, swap_hss_pp_dah_20=92091, other_dah_20=17823, rmh_dah_20=13250, nch_dah_20=32712, ncd_dah_20=22436, hiv_dah_20=11098, mal_dah_20=8991, tb_dah_20=9457, swap_hss_total_dah_20=193266, oid_dah_20=113937, unalloc_dah_20=0)]"
            ]
          },
          "metadata": {},
          "execution_count": 39
        }
      ]
    },
    {
      "cell_type": "code",
      "metadata": {
        "colab": {
          "base_uri": "https://localhost:8080/"
        },
        "id": "sJwkDmAUxSgG",
        "outputId": "304f4eae-64e2-4202-eb79-18f839a77aa0"
      },
      "source": [
        "# dodanie kolumny\n",
        "res = data2.withColumn('Nowa kolumna', data2.year*0 + 1000)\n",
        "\n",
        "res.show(5)"
      ],
      "execution_count": 40,
      "outputs": [
        {
          "output_type": "stream",
          "name": "stdout",
          "text": [
            "+----+---------+-------+-----------------+-----------------+---------------+-------------+--------------+--------------------+-------------+------------------+------------------+-------+----------+------+-------------+-------------+--------------------+------------------+----------------+--------------+--------------+----------------+--------------------+------------------+----------------+---------------+----------------+----------------+-------------+--------------+---------------+--------------------+------------------+--------------+---------------+--------------------+------------------+-------------------+------------------+------------------+----------------+-------------------+----------------+--------------+---------------+---------------+--------------+-------------------+-----------------+-------------+--------------------+------------------+--------------+---------------+----------------+----------------+--------------+--------------------+------------------+----------------+-----------------+----------------+---------------------+-------------------+------------------+------------+----------+----------+----------+----------+----------+---------+---------------------+----------+--------------+------------+\n",
            "|year|   source|channel|recipient_isocode|recipient_country|gbd_location_id|wb_regioncode|wb_location_id|          gbd_region|gbd_region_id|   gbd_superregion|gbd_superregion_id|elim_ch|prelim_est|dah_20|rmh_fp_dah_20|rmh_mh_dah_20|rmh_hss_other_dah_20|rmh_hss_hrh_dah_20|rmh_other_dah_20|nch_cnn_dah_20|nch_cnv_dah_20|nch_other_dah_20|nch_hss_other_dah_20|nch_hss_hrh_dah_20|hiv_treat_dah_20|hiv_prev_dah_20|hiv_pmtct_dah_20|hiv_other_dah_20|hiv_ct_dah_20|hiv_ovc_dah_20|hiv_care_dah_20|hiv_hss_other_dah_20|hiv_hss_hrh_dah_20|hiv_amr_dah_20|mal_diag_dah_20|mal_hss_other_dah_20|mal_hss_hrh_dah_20|mal_con_nets_dah_20|mal_con_irs_dah_20|mal_con_oth_dah_20|mal_treat_dah_20|mal_comm_con_dah_20|mal_other_dah_20|mal_amr_dah_20|tb_other_dah_20|tb_treat_dah_20|tb_diag_dah_20|tb_hss_other_dah_20|tb_hss_hrh_dah_20|tb_amr_dah_20|oid_hss_other_dah_20|oid_hss_hrh_dah_20|oid_ebz_dah_20|oid_zika_dah_20|oid_covid_dah_20|oid_other_dah_20|oid_amr_dah_20|ncd_hss_other_dah_20|ncd_hss_hrh_dah_20|ncd_tobac_dah_20|ncd_mental_dah_20|ncd_other_dah_20|swap_hss_other_dah_20|swap_hss_hrh_dah_20|swap_hss_pp_dah_20|other_dah_20|rmh_dah_20|nch_dah_20|ncd_dah_20|hiv_dah_20|mal_dah_20|tb_dah_20|swap_hss_total_dah_20|oid_dah_20|unalloc_dah_20|Nowa kolumna|\n",
            "+----+---------+-------+-----------------+-----------------+---------------+-------------+--------------+--------------------+-------------+------------------+------------------+-------+----------+------+-------------+-------------+--------------------+------------------+----------------+--------------+--------------+----------------+--------------------+------------------+----------------+---------------+----------------+----------------+-------------+--------------+---------------+--------------------+------------------+--------------+---------------+--------------------+------------------+-------------------+------------------+------------------+----------------+-------------------+----------------+--------------+---------------+---------------+--------------+-------------------+-----------------+-------------+--------------------+------------------+--------------+---------------+----------------+----------------+--------------+--------------------+------------------+----------------+-----------------+----------------+---------------------+-------------------+------------------+------------+----------+----------+----------+----------+----------+---------+---------------------+----------+--------------+------------+\n",
            "|1990|Australia|BIL_AUS|              AGO|           Angola|            168|          SSA|           242|Sub-Saharan Afric...|          167|Sub-Saharan Africa|               166|      0|         0|    14|            1|            1|                   0|                 2|               0|             0|             0|               0|                   0|                 0|               0|              7|               0|               0|            0|             0|              0|                   0|                 0|             0|              0|                   0|                 2|                  0|                 0|                 0|               1|                  0|               0|             0|              0|              0|             0|                  0|                0|            0|                   0|                 0|             0|              0|               0|               0|             0|                   0|                 0|               0|                0|               0|                    0|                  0|                 0|           0|         5|         0|         0|         7|         3|        0|                    0|         0|          null|        1000|\n",
            "|1990|Australia|BIL_AUS|              BDI|          Burundi|            175|          SSA|           242|Sub-Saharan Afric...|          174|Sub-Saharan Africa|               166|      0|         0|    12|            1|            2|                   0|                 3|               0|             0|             0|               0|                   0|                 0|               0|              5|               0|               0|            0|             0|              0|                   0|                 0|             0|              0|                   0|                 1|                  0|                 0|                 0|            null|                  0|               0|             0|              0|              0|             0|                  0|                0|            0|                   0|                 0|             0|              0|               0|               0|             0|                   0|                 0|               0|                0|               0|                    0|                  0|                 0|           0|         6|         0|         0|         5|         1|        0|                    0|         0|             0|        1000|\n",
            "|1990|Australia|BIL_AUS|              BEN|            Benin|            200|          SSA|           242|Sub-Saharan Afric...|          199|Sub-Saharan Africa|               166|      0|         0|    12|            1|            2|                   0|                 2|               0|             0|             0|               0|                   0|                 0|               0|              5|               0|               0|            0|             0|              0|                   0|                 0|             0|              0|                   0|                 1|                  0|                 0|                 0|            null|                  0|               0|             0|              0|              0|             0|                  0|                0|            0|                   0|                 0|             0|              0|               0|               0|             0|                   0|                 0|               0|                0|               0|                    0|                  0|                 0|           0|         6|         0|         0|         5|         2|        0|                    0|         0|             0|        1000|\n",
            "|1990|Australia|BIL_AUS|              BFA|     Burkina Faso|            201|          SSA|           242|Sub-Saharan Afric...|          199|Sub-Saharan Africa|               166|      0|         0|    13|            2|            1|                   0|                 2|               0|             0|             0|               0|                   0|                 0|               0|              7|               0|               0|            0|             0|              0|                   0|                 0|             0|              0|                   0|                 1|                  0|                 0|                 0|            null|                  0|               0|             0|              0|              0|             0|                  0|                0|            0|                   0|                 0|             0|              0|               0|               0|             0|                   0|                 0|               0|                0|               0|                    0|                  0|                 0|           0|         5|         0|         0|         7|         2|        0|                    0|         0|             0|        1000|\n",
            "|1990|Australia|BIL_AUS|              BWA|         Botswana|            193|          SSA|           242|Sub-Saharan Afric...|          192|Sub-Saharan Africa|               166|      0|         0|    25|            1|         null|                   0|              null|               0|             0|             0|               0|                   0|                 0|               0|             23|               0|               0|            0|             0|              0|                   0|                 0|             0|              0|                   0|              null|                  0|                 0|                 0|            null|                  0|               0|             0|              0|              0|             0|                  0|                0|            0|                   0|                 0|             0|              0|               0|               0|             0|                   0|                 0|               0|                0|               0|                    0|                  0|                 0|           0|         1|         0|         0|        23|      null|        0|                    0|         0|          null|        1000|\n",
            "+----+---------+-------+-----------------+-----------------+---------------+-------------+--------------+--------------------+-------------+------------------+------------------+-------+----------+------+-------------+-------------+--------------------+------------------+----------------+--------------+--------------+----------------+--------------------+------------------+----------------+---------------+----------------+----------------+-------------+--------------+---------------+--------------------+------------------+--------------+---------------+--------------------+------------------+-------------------+------------------+------------------+----------------+-------------------+----------------+--------------+---------------+---------------+--------------+-------------------+-----------------+-------------+--------------------+------------------+--------------+---------------+----------------+----------------+--------------+--------------------+------------------+----------------+-----------------+----------------+---------------------+-------------------+------------------+------------+----------+----------+----------+----------+----------+---------+---------------------+----------+--------------+------------+\n",
            "only showing top 5 rows\n",
            "\n"
          ]
        }
      ]
    },
    {
      "cell_type": "code",
      "metadata": {
        "colab": {
          "base_uri": "https://localhost:8080/"
        },
        "id": "aTV8vA1YyeqE",
        "outputId": "57ef3ff1-2aee-499e-9624-aec904404519"
      },
      "source": [
        "# zmiana nazwy kolumny\n",
        "res = res.withColumnRenamed('Nowa kolumna', 'col')\n",
        "\n",
        "res.show(5)"
      ],
      "execution_count": 41,
      "outputs": [
        {
          "output_type": "stream",
          "name": "stdout",
          "text": [
            "+----+---------+-------+-----------------+-----------------+---------------+-------------+--------------+--------------------+-------------+------------------+------------------+-------+----------+------+-------------+-------------+--------------------+------------------+----------------+--------------+--------------+----------------+--------------------+------------------+----------------+---------------+----------------+----------------+-------------+--------------+---------------+--------------------+------------------+--------------+---------------+--------------------+------------------+-------------------+------------------+------------------+----------------+-------------------+----------------+--------------+---------------+---------------+--------------+-------------------+-----------------+-------------+--------------------+------------------+--------------+---------------+----------------+----------------+--------------+--------------------+------------------+----------------+-----------------+----------------+---------------------+-------------------+------------------+------------+----------+----------+----------+----------+----------+---------+---------------------+----------+--------------+----+\n",
            "|year|   source|channel|recipient_isocode|recipient_country|gbd_location_id|wb_regioncode|wb_location_id|          gbd_region|gbd_region_id|   gbd_superregion|gbd_superregion_id|elim_ch|prelim_est|dah_20|rmh_fp_dah_20|rmh_mh_dah_20|rmh_hss_other_dah_20|rmh_hss_hrh_dah_20|rmh_other_dah_20|nch_cnn_dah_20|nch_cnv_dah_20|nch_other_dah_20|nch_hss_other_dah_20|nch_hss_hrh_dah_20|hiv_treat_dah_20|hiv_prev_dah_20|hiv_pmtct_dah_20|hiv_other_dah_20|hiv_ct_dah_20|hiv_ovc_dah_20|hiv_care_dah_20|hiv_hss_other_dah_20|hiv_hss_hrh_dah_20|hiv_amr_dah_20|mal_diag_dah_20|mal_hss_other_dah_20|mal_hss_hrh_dah_20|mal_con_nets_dah_20|mal_con_irs_dah_20|mal_con_oth_dah_20|mal_treat_dah_20|mal_comm_con_dah_20|mal_other_dah_20|mal_amr_dah_20|tb_other_dah_20|tb_treat_dah_20|tb_diag_dah_20|tb_hss_other_dah_20|tb_hss_hrh_dah_20|tb_amr_dah_20|oid_hss_other_dah_20|oid_hss_hrh_dah_20|oid_ebz_dah_20|oid_zika_dah_20|oid_covid_dah_20|oid_other_dah_20|oid_amr_dah_20|ncd_hss_other_dah_20|ncd_hss_hrh_dah_20|ncd_tobac_dah_20|ncd_mental_dah_20|ncd_other_dah_20|swap_hss_other_dah_20|swap_hss_hrh_dah_20|swap_hss_pp_dah_20|other_dah_20|rmh_dah_20|nch_dah_20|ncd_dah_20|hiv_dah_20|mal_dah_20|tb_dah_20|swap_hss_total_dah_20|oid_dah_20|unalloc_dah_20| col|\n",
            "+----+---------+-------+-----------------+-----------------+---------------+-------------+--------------+--------------------+-------------+------------------+------------------+-------+----------+------+-------------+-------------+--------------------+------------------+----------------+--------------+--------------+----------------+--------------------+------------------+----------------+---------------+----------------+----------------+-------------+--------------+---------------+--------------------+------------------+--------------+---------------+--------------------+------------------+-------------------+------------------+------------------+----------------+-------------------+----------------+--------------+---------------+---------------+--------------+-------------------+-----------------+-------------+--------------------+------------------+--------------+---------------+----------------+----------------+--------------+--------------------+------------------+----------------+-----------------+----------------+---------------------+-------------------+------------------+------------+----------+----------+----------+----------+----------+---------+---------------------+----------+--------------+----+\n",
            "|1990|Australia|BIL_AUS|              AGO|           Angola|            168|          SSA|           242|Sub-Saharan Afric...|          167|Sub-Saharan Africa|               166|      0|         0|    14|            1|            1|                   0|                 2|               0|             0|             0|               0|                   0|                 0|               0|              7|               0|               0|            0|             0|              0|                   0|                 0|             0|              0|                   0|                 2|                  0|                 0|                 0|               1|                  0|               0|             0|              0|              0|             0|                  0|                0|            0|                   0|                 0|             0|              0|               0|               0|             0|                   0|                 0|               0|                0|               0|                    0|                  0|                 0|           0|         5|         0|         0|         7|         3|        0|                    0|         0|          null|1000|\n",
            "|1990|Australia|BIL_AUS|              BDI|          Burundi|            175|          SSA|           242|Sub-Saharan Afric...|          174|Sub-Saharan Africa|               166|      0|         0|    12|            1|            2|                   0|                 3|               0|             0|             0|               0|                   0|                 0|               0|              5|               0|               0|            0|             0|              0|                   0|                 0|             0|              0|                   0|                 1|                  0|                 0|                 0|            null|                  0|               0|             0|              0|              0|             0|                  0|                0|            0|                   0|                 0|             0|              0|               0|               0|             0|                   0|                 0|               0|                0|               0|                    0|                  0|                 0|           0|         6|         0|         0|         5|         1|        0|                    0|         0|             0|1000|\n",
            "|1990|Australia|BIL_AUS|              BEN|            Benin|            200|          SSA|           242|Sub-Saharan Afric...|          199|Sub-Saharan Africa|               166|      0|         0|    12|            1|            2|                   0|                 2|               0|             0|             0|               0|                   0|                 0|               0|              5|               0|               0|            0|             0|              0|                   0|                 0|             0|              0|                   0|                 1|                  0|                 0|                 0|            null|                  0|               0|             0|              0|              0|             0|                  0|                0|            0|                   0|                 0|             0|              0|               0|               0|             0|                   0|                 0|               0|                0|               0|                    0|                  0|                 0|           0|         6|         0|         0|         5|         2|        0|                    0|         0|             0|1000|\n",
            "|1990|Australia|BIL_AUS|              BFA|     Burkina Faso|            201|          SSA|           242|Sub-Saharan Afric...|          199|Sub-Saharan Africa|               166|      0|         0|    13|            2|            1|                   0|                 2|               0|             0|             0|               0|                   0|                 0|               0|              7|               0|               0|            0|             0|              0|                   0|                 0|             0|              0|                   0|                 1|                  0|                 0|                 0|            null|                  0|               0|             0|              0|              0|             0|                  0|                0|            0|                   0|                 0|             0|              0|               0|               0|             0|                   0|                 0|               0|                0|               0|                    0|                  0|                 0|           0|         5|         0|         0|         7|         2|        0|                    0|         0|             0|1000|\n",
            "|1990|Australia|BIL_AUS|              BWA|         Botswana|            193|          SSA|           242|Sub-Saharan Afric...|          192|Sub-Saharan Africa|               166|      0|         0|    25|            1|         null|                   0|              null|               0|             0|             0|               0|                   0|                 0|               0|             23|               0|               0|            0|             0|              0|                   0|                 0|             0|              0|                   0|              null|                  0|                 0|                 0|            null|                  0|               0|             0|              0|              0|             0|                  0|                0|            0|                   0|                 0|             0|              0|               0|               0|             0|                   0|                 0|               0|                0|               0|                    0|                  0|                 0|           0|         1|         0|         0|        23|      null|        0|                    0|         0|          null|1000|\n",
            "+----+---------+-------+-----------------+-----------------+---------------+-------------+--------------+--------------------+-------------+------------------+------------------+-------+----------+------+-------------+-------------+--------------------+------------------+----------------+--------------+--------------+----------------+--------------------+------------------+----------------+---------------+----------------+----------------+-------------+--------------+---------------+--------------------+------------------+--------------+---------------+--------------------+------------------+-------------------+------------------+------------------+----------------+-------------------+----------------+--------------+---------------+---------------+--------------+-------------------+-----------------+-------------+--------------------+------------------+--------------+---------------+----------------+----------------+--------------+--------------------+------------------+----------------+-----------------+----------------+---------------------+-------------------+------------------+------------+----------+----------+----------+----------+----------+---------+---------------------+----------+--------------+----+\n",
            "only showing top 5 rows\n",
            "\n"
          ]
        }
      ]
    },
    {
      "cell_type": "code",
      "metadata": {
        "colab": {
          "base_uri": "https://localhost:8080/"
        },
        "id": "fCoaP8ymxpHK",
        "outputId": "44f1e032-a85e-4f04-9371-f5a0beb1a28b"
      },
      "source": [
        "# usunięcie kolumny\n",
        "res = data2.drop('col')\n",
        "res.show(5)"
      ],
      "execution_count": 42,
      "outputs": [
        {
          "output_type": "stream",
          "name": "stdout",
          "text": [
            "+----+---------+-------+-----------------+-----------------+---------------+-------------+--------------+--------------------+-------------+------------------+------------------+-------+----------+------+-------------+-------------+--------------------+------------------+----------------+--------------+--------------+----------------+--------------------+------------------+----------------+---------------+----------------+----------------+-------------+--------------+---------------+--------------------+------------------+--------------+---------------+--------------------+------------------+-------------------+------------------+------------------+----------------+-------------------+----------------+--------------+---------------+---------------+--------------+-------------------+-----------------+-------------+--------------------+------------------+--------------+---------------+----------------+----------------+--------------+--------------------+------------------+----------------+-----------------+----------------+---------------------+-------------------+------------------+------------+----------+----------+----------+----------+----------+---------+---------------------+----------+--------------+\n",
            "|year|   source|channel|recipient_isocode|recipient_country|gbd_location_id|wb_regioncode|wb_location_id|          gbd_region|gbd_region_id|   gbd_superregion|gbd_superregion_id|elim_ch|prelim_est|dah_20|rmh_fp_dah_20|rmh_mh_dah_20|rmh_hss_other_dah_20|rmh_hss_hrh_dah_20|rmh_other_dah_20|nch_cnn_dah_20|nch_cnv_dah_20|nch_other_dah_20|nch_hss_other_dah_20|nch_hss_hrh_dah_20|hiv_treat_dah_20|hiv_prev_dah_20|hiv_pmtct_dah_20|hiv_other_dah_20|hiv_ct_dah_20|hiv_ovc_dah_20|hiv_care_dah_20|hiv_hss_other_dah_20|hiv_hss_hrh_dah_20|hiv_amr_dah_20|mal_diag_dah_20|mal_hss_other_dah_20|mal_hss_hrh_dah_20|mal_con_nets_dah_20|mal_con_irs_dah_20|mal_con_oth_dah_20|mal_treat_dah_20|mal_comm_con_dah_20|mal_other_dah_20|mal_amr_dah_20|tb_other_dah_20|tb_treat_dah_20|tb_diag_dah_20|tb_hss_other_dah_20|tb_hss_hrh_dah_20|tb_amr_dah_20|oid_hss_other_dah_20|oid_hss_hrh_dah_20|oid_ebz_dah_20|oid_zika_dah_20|oid_covid_dah_20|oid_other_dah_20|oid_amr_dah_20|ncd_hss_other_dah_20|ncd_hss_hrh_dah_20|ncd_tobac_dah_20|ncd_mental_dah_20|ncd_other_dah_20|swap_hss_other_dah_20|swap_hss_hrh_dah_20|swap_hss_pp_dah_20|other_dah_20|rmh_dah_20|nch_dah_20|ncd_dah_20|hiv_dah_20|mal_dah_20|tb_dah_20|swap_hss_total_dah_20|oid_dah_20|unalloc_dah_20|\n",
            "+----+---------+-------+-----------------+-----------------+---------------+-------------+--------------+--------------------+-------------+------------------+------------------+-------+----------+------+-------------+-------------+--------------------+------------------+----------------+--------------+--------------+----------------+--------------------+------------------+----------------+---------------+----------------+----------------+-------------+--------------+---------------+--------------------+------------------+--------------+---------------+--------------------+------------------+-------------------+------------------+------------------+----------------+-------------------+----------------+--------------+---------------+---------------+--------------+-------------------+-----------------+-------------+--------------------+------------------+--------------+---------------+----------------+----------------+--------------+--------------------+------------------+----------------+-----------------+----------------+---------------------+-------------------+------------------+------------+----------+----------+----------+----------+----------+---------+---------------------+----------+--------------+\n",
            "|1990|Australia|BIL_AUS|              AGO|           Angola|            168|          SSA|           242|Sub-Saharan Afric...|          167|Sub-Saharan Africa|               166|      0|         0|    14|            1|            1|                   0|                 2|               0|             0|             0|               0|                   0|                 0|               0|              7|               0|               0|            0|             0|              0|                   0|                 0|             0|              0|                   0|                 2|                  0|                 0|                 0|               1|                  0|               0|             0|              0|              0|             0|                  0|                0|            0|                   0|                 0|             0|              0|               0|               0|             0|                   0|                 0|               0|                0|               0|                    0|                  0|                 0|           0|         5|         0|         0|         7|         3|        0|                    0|         0|          null|\n",
            "|1990|Australia|BIL_AUS|              BDI|          Burundi|            175|          SSA|           242|Sub-Saharan Afric...|          174|Sub-Saharan Africa|               166|      0|         0|    12|            1|            2|                   0|                 3|               0|             0|             0|               0|                   0|                 0|               0|              5|               0|               0|            0|             0|              0|                   0|                 0|             0|              0|                   0|                 1|                  0|                 0|                 0|            null|                  0|               0|             0|              0|              0|             0|                  0|                0|            0|                   0|                 0|             0|              0|               0|               0|             0|                   0|                 0|               0|                0|               0|                    0|                  0|                 0|           0|         6|         0|         0|         5|         1|        0|                    0|         0|             0|\n",
            "|1990|Australia|BIL_AUS|              BEN|            Benin|            200|          SSA|           242|Sub-Saharan Afric...|          199|Sub-Saharan Africa|               166|      0|         0|    12|            1|            2|                   0|                 2|               0|             0|             0|               0|                   0|                 0|               0|              5|               0|               0|            0|             0|              0|                   0|                 0|             0|              0|                   0|                 1|                  0|                 0|                 0|            null|                  0|               0|             0|              0|              0|             0|                  0|                0|            0|                   0|                 0|             0|              0|               0|               0|             0|                   0|                 0|               0|                0|               0|                    0|                  0|                 0|           0|         6|         0|         0|         5|         2|        0|                    0|         0|             0|\n",
            "|1990|Australia|BIL_AUS|              BFA|     Burkina Faso|            201|          SSA|           242|Sub-Saharan Afric...|          199|Sub-Saharan Africa|               166|      0|         0|    13|            2|            1|                   0|                 2|               0|             0|             0|               0|                   0|                 0|               0|              7|               0|               0|            0|             0|              0|                   0|                 0|             0|              0|                   0|                 1|                  0|                 0|                 0|            null|                  0|               0|             0|              0|              0|             0|                  0|                0|            0|                   0|                 0|             0|              0|               0|               0|             0|                   0|                 0|               0|                0|               0|                    0|                  0|                 0|           0|         5|         0|         0|         7|         2|        0|                    0|         0|             0|\n",
            "|1990|Australia|BIL_AUS|              BWA|         Botswana|            193|          SSA|           242|Sub-Saharan Afric...|          192|Sub-Saharan Africa|               166|      0|         0|    25|            1|         null|                   0|              null|               0|             0|             0|               0|                   0|                 0|               0|             23|               0|               0|            0|             0|              0|                   0|                 0|             0|              0|                   0|              null|                  0|                 0|                 0|            null|                  0|               0|             0|              0|              0|             0|                  0|                0|            0|                   0|                 0|             0|              0|               0|               0|             0|                   0|                 0|               0|                0|               0|                    0|                  0|                 0|           0|         1|         0|         0|        23|      null|        0|                    0|         0|          null|\n",
            "+----+---------+-------+-----------------+-----------------+---------------+-------------+--------------+--------------------+-------------+------------------+------------------+-------+----------+------+-------------+-------------+--------------------+------------------+----------------+--------------+--------------+----------------+--------------------+------------------+----------------+---------------+----------------+----------------+-------------+--------------+---------------+--------------------+------------------+--------------+---------------+--------------------+------------------+-------------------+------------------+------------------+----------------+-------------------+----------------+--------------+---------------+---------------+--------------+-------------------+-----------------+-------------+--------------------+------------------+--------------+---------------+----------------+----------------+--------------+--------------------+------------------+----------------+-----------------+----------------+---------------------+-------------------+------------------+------------+----------+----------+----------+----------+----------+---------+---------------------+----------+--------------+\n",
            "only showing top 5 rows\n",
            "\n"
          ]
        }
      ]
    },
    {
      "cell_type": "code",
      "metadata": {
        "colab": {
          "base_uri": "https://localhost:8080/"
        },
        "id": "ikXNQ1Riy5pR",
        "outputId": "18d3b8e9-071a-4fe1-e6b5-f57f79f6ea5b"
      },
      "source": [
        "from pyspark.sql.functions import udf\n",
        "\n",
        "# funkcja zwracająca kolejne liczby naturalne od 0\n",
        "i = -1\n",
        "def incr():\n",
        "  global i\n",
        "  i = i+1\n",
        "  return i\n",
        "\n",
        "# utworzenie nowej kolumny\n",
        "newCol = udf(incr, IntegerType())\n",
        "\n",
        "# dodanie nowej kolumny\n",
        "data3 = data2.withColumn('id', newCol())\n",
        "\n",
        "data3.show(5)"
      ],
      "execution_count": 43,
      "outputs": [
        {
          "output_type": "stream",
          "name": "stdout",
          "text": [
            "+----+---------+-------+-----------------+-----------------+---------------+-------------+--------------+--------------------+-------------+------------------+------------------+-------+----------+------+-------------+-------------+--------------------+------------------+----------------+--------------+--------------+----------------+--------------------+------------------+----------------+---------------+----------------+----------------+-------------+--------------+---------------+--------------------+------------------+--------------+---------------+--------------------+------------------+-------------------+------------------+------------------+----------------+-------------------+----------------+--------------+---------------+---------------+--------------+-------------------+-----------------+-------------+--------------------+------------------+--------------+---------------+----------------+----------------+--------------+--------------------+------------------+----------------+-----------------+----------------+---------------------+-------------------+------------------+------------+----------+----------+----------+----------+----------+---------+---------------------+----------+--------------+---+\n",
            "|year|   source|channel|recipient_isocode|recipient_country|gbd_location_id|wb_regioncode|wb_location_id|          gbd_region|gbd_region_id|   gbd_superregion|gbd_superregion_id|elim_ch|prelim_est|dah_20|rmh_fp_dah_20|rmh_mh_dah_20|rmh_hss_other_dah_20|rmh_hss_hrh_dah_20|rmh_other_dah_20|nch_cnn_dah_20|nch_cnv_dah_20|nch_other_dah_20|nch_hss_other_dah_20|nch_hss_hrh_dah_20|hiv_treat_dah_20|hiv_prev_dah_20|hiv_pmtct_dah_20|hiv_other_dah_20|hiv_ct_dah_20|hiv_ovc_dah_20|hiv_care_dah_20|hiv_hss_other_dah_20|hiv_hss_hrh_dah_20|hiv_amr_dah_20|mal_diag_dah_20|mal_hss_other_dah_20|mal_hss_hrh_dah_20|mal_con_nets_dah_20|mal_con_irs_dah_20|mal_con_oth_dah_20|mal_treat_dah_20|mal_comm_con_dah_20|mal_other_dah_20|mal_amr_dah_20|tb_other_dah_20|tb_treat_dah_20|tb_diag_dah_20|tb_hss_other_dah_20|tb_hss_hrh_dah_20|tb_amr_dah_20|oid_hss_other_dah_20|oid_hss_hrh_dah_20|oid_ebz_dah_20|oid_zika_dah_20|oid_covid_dah_20|oid_other_dah_20|oid_amr_dah_20|ncd_hss_other_dah_20|ncd_hss_hrh_dah_20|ncd_tobac_dah_20|ncd_mental_dah_20|ncd_other_dah_20|swap_hss_other_dah_20|swap_hss_hrh_dah_20|swap_hss_pp_dah_20|other_dah_20|rmh_dah_20|nch_dah_20|ncd_dah_20|hiv_dah_20|mal_dah_20|tb_dah_20|swap_hss_total_dah_20|oid_dah_20|unalloc_dah_20| id|\n",
            "+----+---------+-------+-----------------+-----------------+---------------+-------------+--------------+--------------------+-------------+------------------+------------------+-------+----------+------+-------------+-------------+--------------------+------------------+----------------+--------------+--------------+----------------+--------------------+------------------+----------------+---------------+----------------+----------------+-------------+--------------+---------------+--------------------+------------------+--------------+---------------+--------------------+------------------+-------------------+------------------+------------------+----------------+-------------------+----------------+--------------+---------------+---------------+--------------+-------------------+-----------------+-------------+--------------------+------------------+--------------+---------------+----------------+----------------+--------------+--------------------+------------------+----------------+-----------------+----------------+---------------------+-------------------+------------------+------------+----------+----------+----------+----------+----------+---------+---------------------+----------+--------------+---+\n",
            "|1990|Australia|BIL_AUS|              AGO|           Angola|            168|          SSA|           242|Sub-Saharan Afric...|          167|Sub-Saharan Africa|               166|      0|         0|    14|            1|            1|                   0|                 2|               0|             0|             0|               0|                   0|                 0|               0|              7|               0|               0|            0|             0|              0|                   0|                 0|             0|              0|                   0|                 2|                  0|                 0|                 0|               1|                  0|               0|             0|              0|              0|             0|                  0|                0|            0|                   0|                 0|             0|              0|               0|               0|             0|                   0|                 0|               0|                0|               0|                    0|                  0|                 0|           0|         5|         0|         0|         7|         3|        0|                    0|         0|          null|  0|\n",
            "|1990|Australia|BIL_AUS|              BDI|          Burundi|            175|          SSA|           242|Sub-Saharan Afric...|          174|Sub-Saharan Africa|               166|      0|         0|    12|            1|            2|                   0|                 3|               0|             0|             0|               0|                   0|                 0|               0|              5|               0|               0|            0|             0|              0|                   0|                 0|             0|              0|                   0|                 1|                  0|                 0|                 0|            null|                  0|               0|             0|              0|              0|             0|                  0|                0|            0|                   0|                 0|             0|              0|               0|               0|             0|                   0|                 0|               0|                0|               0|                    0|                  0|                 0|           0|         6|         0|         0|         5|         1|        0|                    0|         0|             0|  1|\n",
            "|1990|Australia|BIL_AUS|              BEN|            Benin|            200|          SSA|           242|Sub-Saharan Afric...|          199|Sub-Saharan Africa|               166|      0|         0|    12|            1|            2|                   0|                 2|               0|             0|             0|               0|                   0|                 0|               0|              5|               0|               0|            0|             0|              0|                   0|                 0|             0|              0|                   0|                 1|                  0|                 0|                 0|            null|                  0|               0|             0|              0|              0|             0|                  0|                0|            0|                   0|                 0|             0|              0|               0|               0|             0|                   0|                 0|               0|                0|               0|                    0|                  0|                 0|           0|         6|         0|         0|         5|         2|        0|                    0|         0|             0|  2|\n",
            "|1990|Australia|BIL_AUS|              BFA|     Burkina Faso|            201|          SSA|           242|Sub-Saharan Afric...|          199|Sub-Saharan Africa|               166|      0|         0|    13|            2|            1|                   0|                 2|               0|             0|             0|               0|                   0|                 0|               0|              7|               0|               0|            0|             0|              0|                   0|                 0|             0|              0|                   0|                 1|                  0|                 0|                 0|            null|                  0|               0|             0|              0|              0|             0|                  0|                0|            0|                   0|                 0|             0|              0|               0|               0|             0|                   0|                 0|               0|                0|               0|                    0|                  0|                 0|           0|         5|         0|         0|         7|         2|        0|                    0|         0|             0|  3|\n",
            "|1990|Australia|BIL_AUS|              BWA|         Botswana|            193|          SSA|           242|Sub-Saharan Afric...|          192|Sub-Saharan Africa|               166|      0|         0|    25|            1|         null|                   0|              null|               0|             0|             0|               0|                   0|                 0|               0|             23|               0|               0|            0|             0|              0|                   0|                 0|             0|              0|                   0|              null|                  0|                 0|                 0|            null|                  0|               0|             0|              0|              0|             0|                  0|                0|            0|                   0|                 0|             0|              0|               0|               0|             0|                   0|                 0|               0|                0|               0|                    0|                  0|                 0|           0|         1|         0|         0|        23|      null|        0|                    0|         0|          null|  4|\n",
            "+----+---------+-------+-----------------+-----------------+---------------+-------------+--------------+--------------------+-------------+------------------+------------------+-------+----------+------+-------------+-------------+--------------------+------------------+----------------+--------------+--------------+----------------+--------------------+------------------+----------------+---------------+----------------+----------------+-------------+--------------+---------------+--------------------+------------------+--------------+---------------+--------------------+------------------+-------------------+------------------+------------------+----------------+-------------------+----------------+--------------+---------------+---------------+--------------+-------------------+-----------------+-------------+--------------------+------------------+--------------+---------------+----------------+----------------+--------------+--------------------+------------------+----------------+-----------------+----------------+---------------------+-------------------+------------------+------------+----------+----------+----------+----------+----------+---------+---------------------+----------+--------------+---+\n",
            "only showing top 5 rows\n",
            "\n"
          ]
        }
      ]
    },
    {
      "cell_type": "code",
      "metadata": {
        "colab": {
          "base_uri": "https://localhost:8080/"
        },
        "id": "484WbJYf04aW",
        "outputId": "78415b38-e334-486b-fb07-ccdd05b7d44a"
      },
      "source": [
        "# liczba rekordów\n",
        "\n",
        "data3.count()"
      ],
      "execution_count": 44,
      "outputs": [
        {
          "output_type": "execute_result",
          "data": {
            "text/plain": [
              "384306"
            ]
          },
          "metadata": {},
          "execution_count": 44
        }
      ]
    },
    {
      "cell_type": "code",
      "metadata": {
        "colab": {
          "base_uri": "https://localhost:8080/"
        },
        "id": "9vPtHZ1Y1Sqm",
        "outputId": "d0077c2b-b96d-4629-d075-3550313e5eb1"
      },
      "source": [
        "# usunięcie wierszy bez danych\n",
        "data4 = data3.na.drop()\n",
        "\n",
        "data4.count()"
      ],
      "execution_count": 45,
      "outputs": [
        {
          "output_type": "execute_result",
          "data": {
            "text/plain": [
              "136560"
            ]
          },
          "metadata": {},
          "execution_count": 45
        }
      ]
    },
    {
      "cell_type": "code",
      "metadata": {
        "colab": {
          "base_uri": "https://localhost:8080/"
        },
        "id": "57WytK1B1aWy",
        "outputId": "efe6a6bb-5285-495a-b24d-69d76b76c032"
      },
      "source": [
        "# wstawienie zera w miejsce braku danych\n",
        "data5 = data3.na.fill(data3.select(0 * data3.year).collect()[0][0])\n",
        "\n",
        "data5.count()"
      ],
      "execution_count": 46,
      "outputs": [
        {
          "output_type": "execute_result",
          "data": {
            "text/plain": [
              "384306"
            ]
          },
          "metadata": {},
          "execution_count": 46
        }
      ]
    },
    {
      "cell_type": "code",
      "metadata": {
        "colab": {
          "base_uri": "https://localhost:8080/"
        },
        "id": "olqFCw4u1vPh",
        "outputId": "c2d569b1-3704-4037-b5c7-19c7c959bf89"
      },
      "source": [
        "# wybranie kolumn\n",
        "data5.select(['year', 'source', 'dah_20']).show(5)"
      ],
      "execution_count": 47,
      "outputs": [
        {
          "output_type": "stream",
          "name": "stdout",
          "text": [
            "+----+---------+------+\n",
            "|year|   source|dah_20|\n",
            "+----+---------+------+\n",
            "|1990|Australia|    14|\n",
            "|1990|Australia|    12|\n",
            "|1990|Australia|    12|\n",
            "|1990|Australia|    13|\n",
            "|1990|Australia|    25|\n",
            "+----+---------+------+\n",
            "only showing top 5 rows\n",
            "\n"
          ]
        }
      ]
    },
    {
      "cell_type": "code",
      "metadata": {
        "colab": {
          "base_uri": "https://localhost:8080/"
        },
        "id": "G8Jab6ui2P2P",
        "outputId": "d01f6b34-5f64-4eb3-eec4-788f3389591f"
      },
      "source": [
        "# odfiltrowanie wierszy\n",
        "from pyspark.sql.functions import col\n",
        "\n",
        "data5.filter((col('year') >= 2000) & (col('dah_20') > 20)).select(['year', 'source', 'dah_20']).show(5)"
      ],
      "execution_count": 48,
      "outputs": [
        {
          "output_type": "stream",
          "name": "stdout",
          "text": [
            "+----+---------+------+\n",
            "|year|   source|dah_20|\n",
            "+----+---------+------+\n",
            "|2000|Australia|   333|\n",
            "|2000|Australia|    25|\n",
            "|2000|Australia|    46|\n",
            "|2000|Australia|   106|\n",
            "|2000|Australia|    22|\n",
            "+----+---------+------+\n",
            "only showing top 5 rows\n",
            "\n"
          ]
        }
      ]
    },
    {
      "cell_type": "code",
      "metadata": {
        "colab": {
          "base_uri": "https://localhost:8080/"
        },
        "id": "kOzzIcdF2lNZ",
        "outputId": "c79ac599-7526-4c61-8f55-6cdd1a002852"
      },
      "source": [
        "# dodanie kolumny zawierającej wynik sprawdzenia, czy rok jest większy niż 2000\n",
        "from pyspark.sql import functions as f\n",
        "\n",
        "data5.select('year', 'source', 'dah_20', f.when(data5.year > 2000, '21st century').otherwise('20th century').alias('century')).show(5)"
      ],
      "execution_count": 50,
      "outputs": [
        {
          "output_type": "stream",
          "name": "stdout",
          "text": [
            "+----+---------+------+------------+\n",
            "|year|   source|dah_20|     century|\n",
            "+----+---------+------+------------+\n",
            "|1990|Australia|    14|20th century|\n",
            "|1990|Australia|    12|20th century|\n",
            "|1990|Australia|    12|20th century|\n",
            "|1990|Australia|    13|20th century|\n",
            "|1990|Australia|    25|20th century|\n",
            "+----+---------+------+------------+\n",
            "only showing top 5 rows\n",
            "\n"
          ]
        }
      ]
    },
    {
      "cell_type": "code",
      "metadata": {
        "colab": {
          "base_uri": "https://localhost:8080/"
        },
        "id": "jVqcWOV13Qgl",
        "outputId": "d9333c35-5c46-4d6b-f6da-242d176f5f8c"
      },
      "source": [
        "# dodanie kolumny zawierającej wynik sprawdzenai, czy nazwa kraju zaczyna się od litery 'A'\n",
        "data5.select('year', 'source', 'dah_20', data5.source.rlike('^A').alias('A-country')).show(5)"
      ],
      "execution_count": 51,
      "outputs": [
        {
          "output_type": "stream",
          "name": "stdout",
          "text": [
            "+----+---------+------+---------+\n",
            "|year|   source|dah_20|A-country|\n",
            "+----+---------+------+---------+\n",
            "|1990|Australia|    14|     true|\n",
            "|1990|Australia|    12|     true|\n",
            "|1990|Australia|    12|     true|\n",
            "|1990|Australia|    13|     true|\n",
            "|1990|Australia|    25|     true|\n",
            "+----+---------+------+---------+\n",
            "only showing top 5 rows\n",
            "\n"
          ]
        }
      ]
    },
    {
      "cell_type": "code",
      "metadata": {
        "colab": {
          "base_uri": "https://localhost:8080/"
        },
        "id": "wifLnvPJ37of",
        "outputId": "e8bba942-3627-48fc-af16-d428a1c8ee52"
      },
      "source": [
        "# pogrupowanie danych wg kraju\n",
        "from pyspark.sql.functions import mean, count, min, max\n",
        "\n",
        "data5\\\n",
        "  .select(['year', 'source', 'dah_20'])\\\n",
        "  .groupBy('source')\\\n",
        "  .agg(\n",
        "      count('year').alias('number of countries'),\n",
        "      mean('dah_20').alias('meah dah_20'),\n",
        "      min('year').alias('min year'),\n",
        "      max('year').alias('max year'),\n",
        "  ).show(5)"
      ],
      "execution_count": 52,
      "outputs": [
        {
          "output_type": "stream",
          "name": "stdout",
          "text": [
            "+---------------+-------------------+------------------+--------+--------+\n",
            "|         source|number of countries|       meah dah_20|min year|max year|\n",
            "+---------------+-------------------+------------------+--------+--------+\n",
            "|         Sweden|              19691| 945.3851505764054|    1990|    2020|\n",
            "|Debt_repayments|               4893| 8464.654199877376|    1990|    2020|\n",
            "|        Germany|              17489|1851.7729429927383|    1990|    2020|\n",
            "|         France|              17156|1562.2891116810445|    1990|    2020|\n",
            "|         Greece|               8178| 80.97407679139154|    1990|    2020|\n",
            "+---------------+-------------------+------------------+--------+--------+\n",
            "only showing top 5 rows\n",
            "\n"
          ]
        }
      ]
    },
    {
      "cell_type": "code",
      "metadata": {
        "colab": {
          "base_uri": "https://localhost:8080/",
          "height": 373
        },
        "id": "fkGRYhil4fj5",
        "outputId": "54c0c0eb-d9b2-44a8-dbfe-aad06b0b5ba4"
      },
      "source": [
        "# wyświetlenie wykresu słupkowego na podstawie danych\n",
        "from matplotlib import pyplot as plt\n",
        "\n",
        "res = data5\\\n",
        "  .filter(data5.source.rlike('^[ABC]'))\\\n",
        "  .select(['year', 'source', 'dah_20'])\\\n",
        "  .groupBy('source')\\\n",
        "  .agg(\n",
        "      count('year').alias('number of countries'),\n",
        "      mean('dah_20').alias('mean dah_20'),\n",
        "      mean('year').alias('mean year'), \n",
        "      max('year').alias('max year'))\\\n",
        "  .toPandas()\n",
        "\n",
        "res\\\n",
        "  .plot(kind='bar', x='source', y='number of countries')\n",
        "\n",
        "plt.show()"
      ],
      "execution_count": 25,
      "outputs": [
        {
          "output_type": "display_data",
          "data": {
            "image/png": "[encoded data removed]",
            "text/plain": [
              "<Figure size 432x288 with 1 Axes>"
            ]
          },
          "metadata": {
            "needs_background": "light"
          }
        }
      ]
    },
    {
      "cell_type": "code",
      "metadata": {
        "id": "u2DcNis75gkd"
      },
      "source": [
        "# zapis danych do plików CSV, JSON i Parquet\n",
        "data5.select(['year', 'source', 'dah_20']).write.csv(r'/content/csv_res_file.csv')\n",
        "data5.select(['year', 'source', 'dah_20']).write.save(r'/content/json_res_file.json')\n",
        "data5.select(['year', 'source', 'dah_20']).write.save(r'/content/parquet_res_file.parquet')"
      ],
      "execution_count": 26,
      "outputs": []
    },
    {
      "cell_type": "code",
      "metadata": {
        "id": "l8FkKxT76uqZ"
      },
      "source": [
        ""
      ],
      "execution_count": 26,
      "outputs": []
    }
  ]
}