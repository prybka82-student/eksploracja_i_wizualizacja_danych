{
 "cells": [
  {
   "cell_type": "markdown",
   "id": "ceb68d78-4860-4c8e-b5d7-a6d9aa464383",
   "metadata": {},
   "source": [
    "# Obsługa Wyjątków"
   ]
  },
  {
   "cell_type": "markdown",
   "id": "a471be18-bcea-4f94-bafc-eb5a6233d95b",
   "metadata": {},
   "source": [
    "Wyjątki w Pythonie, podobnie jak w C++ lub Javie, służą do obsługi błędów i innych nietypowych sytuacji, które pojawiają się podczas wykonywania programu.\n",
    "\n",
    "Na przykład dzielenie przez zero generuje wyjątek:"
   ]
  },
  {
   "cell_type": "code",
   "execution_count": 1,
   "id": "dbdfdf29-05f9-4e74-afdf-468f97bf441c",
   "metadata": {},
   "outputs": [
    {
     "ename": "ZeroDivisionError",
     "evalue": "division by zero",
     "output_type": "error",
     "traceback": [
      "\u001b[1;31m---------------------------------------------------------------------------\u001b[0m",
      "\u001b[1;31mZeroDivisionError\u001b[0m                         Traceback (most recent call last)",
      "\u001b[1;32m~\\AppData\\Local\\Temp/ipykernel_14744/1235321923.py\u001b[0m in \u001b[0;36m<module>\u001b[1;34m\u001b[0m\n\u001b[0;32m      2\u001b[0m     \u001b[1;32mreturn\u001b[0m \u001b[1;36m1\u001b[0m \u001b[1;33m/\u001b[0m \u001b[1;36m0\u001b[0m\u001b[1;33m\u001b[0m\u001b[1;33m\u001b[0m\u001b[0m\n\u001b[0;32m      3\u001b[0m \u001b[1;33m\u001b[0m\u001b[0m\n\u001b[1;32m----> 4\u001b[1;33m \u001b[0mf\u001b[0m\u001b[1;33m(\u001b[0m\u001b[1;33m)\u001b[0m\u001b[1;33m\u001b[0m\u001b[1;33m\u001b[0m\u001b[0m\n\u001b[0m",
      "\u001b[1;32m~\\AppData\\Local\\Temp/ipykernel_14744/1235321923.py\u001b[0m in \u001b[0;36mf\u001b[1;34m()\u001b[0m\n\u001b[0;32m      1\u001b[0m \u001b[1;32mdef\u001b[0m \u001b[0mf\u001b[0m\u001b[1;33m(\u001b[0m\u001b[1;33m)\u001b[0m\u001b[1;33m:\u001b[0m\u001b[1;33m\u001b[0m\u001b[1;33m\u001b[0m\u001b[0m\n\u001b[1;32m----> 2\u001b[1;33m     \u001b[1;32mreturn\u001b[0m \u001b[1;36m1\u001b[0m \u001b[1;33m/\u001b[0m \u001b[1;36m0\u001b[0m\u001b[1;33m\u001b[0m\u001b[1;33m\u001b[0m\u001b[0m\n\u001b[0m\u001b[0;32m      3\u001b[0m \u001b[1;33m\u001b[0m\u001b[0m\n\u001b[0;32m      4\u001b[0m \u001b[0mf\u001b[0m\u001b[1;33m(\u001b[0m\u001b[1;33m)\u001b[0m\u001b[1;33m\u001b[0m\u001b[1;33m\u001b[0m\u001b[0m\n",
      "\u001b[1;31mZeroDivisionError\u001b[0m: division by zero"
     ]
    }
   ],
   "source": [
    "def f():\n",
    "    return 1 / 0\n",
    "\n",
    "f()"
   ]
  },
  {
   "cell_type": "markdown",
   "id": "a28413ff-4721-4f9a-9665-1cd097818722",
   "metadata": {},
   "source": [
    "Obejmuje to klasę wyjątku (ZeroDivisionError), komunikat wyjątku (dzielenie przez zero) i ślad stosu ostatnich wywołań (Traceback), które zgłosiły wyjątek.\n",
    "\n",
    "Możesz zgłosić wyjątek za pomocą `raise`:"
   ]
  },
  {
   "cell_type": "code",
   "execution_count": 2,
   "id": "e764224f-770d-430a-8285-bb82d9fc173e",
   "metadata": {},
   "outputs": [
    {
     "ename": "ZeroDivisionError",
     "evalue": "Dzielenie przez zero",
     "output_type": "error",
     "traceback": [
      "\u001b[1;31m---------------------------------------------------------------------------\u001b[0m",
      "\u001b[1;31mZeroDivisionError\u001b[0m                         Traceback (most recent call last)",
      "\u001b[1;32m~\\AppData\\Local\\Temp/ipykernel_14744/663665132.py\u001b[0m in \u001b[0;36m<module>\u001b[1;34m\u001b[0m\n\u001b[1;32m----> 1\u001b[1;33m \u001b[1;32mraise\u001b[0m \u001b[0mZeroDivisionError\u001b[0m\u001b[1;33m(\u001b[0m\u001b[1;34m'Dzielenie przez zero'\u001b[0m\u001b[1;33m)\u001b[0m\u001b[1;33m\u001b[0m\u001b[1;33m\u001b[0m\u001b[0m\n\u001b[0m",
      "\u001b[1;31mZeroDivisionError\u001b[0m: Dzielenie przez zero"
     ]
    }
   ],
   "source": [
    "raise ZeroDivisionError('Dzielenie przez zero')"
   ]
  },
  {
   "cell_type": "markdown",
   "id": "c7fedac6-04cb-4f3e-a90e-16321091f27a",
   "metadata": {},
   "source": [
    "Konstrukcja `try/except` służy do obsługi wyjątków:"
   ]
  },
  {
   "cell_type": "code",
   "execution_count": 3,
   "id": "e860cbf0-91a9-4e85-9990-a0b57b3a026a",
   "metadata": {},
   "outputs": [
    {
     "name": "stdout",
     "output_type": "stream",
     "text": [
      "Dzielenie przez zero!\n"
     ]
    }
   ],
   "source": [
    "try:\n",
    "    1 / 0\n",
    "except ZeroDivisionError:\n",
    "    print('Dzielenie przez zero!')"
   ]
  },
  {
   "cell_type": "markdown",
   "id": "12778272-1403-44ff-9130-387822c86bf1",
   "metadata": {},
   "source": [
    "Powinieneś starać się trzymać blok wewnątrz `try / except` mininimalnym, co pozwala lepiej zlokalizować błąd. To samo dotyczy obsługi określonej klasy wyjątku za pomocą wyjątku. W poniższym przykładzie kod obsługi wyjątków jest niepotrzebnie ogólny:"
   ]
  },
  {
   "cell_type": "code",
   "execution_count": 4,
   "id": "f8ae9b0e-7659-4a49-8fd9-996499d9c100",
   "metadata": {},
   "outputs": [
    {
     "name": "stdout",
     "output_type": "stream",
     "text": [
      "Dzielenie przez zero!\n"
     ]
    }
   ],
   "source": [
    "try:\n",
    "    1 / 0\n",
    "except: # Zbyt ogólny przypadek\n",
    "    print('Dzielenie przez zero!')"
   ]
  },
  {
   "cell_type": "markdown",
   "id": "33f6bd22-9272-4c96-b02e-367a39b3534e",
   "metadata": {},
   "source": [
    "W razie potrzeby możesz poznać szczegóły otrzymanego wyjątku:"
   ]
  },
  {
   "cell_type": "code",
   "execution_count": 6,
   "id": "8f5ff934-bf11-4738-a8c2-2d6070be6a4a",
   "metadata": {},
   "outputs": [
    {
     "name": "stdout",
     "output_type": "stream",
     "text": [
      "<class 'ZeroDivisionError'> division by zero\n"
     ]
    }
   ],
   "source": [
    "try:\n",
    "    1 / 0\n",
    "except ZeroDivisionError as e: # e to jest objekt klasy ZeroDivisionError\n",
    "    print(type(e), e)"
   ]
  },
  {
   "cell_type": "markdown",
   "id": "de0a17e7-7164-4156-849a-b185fa966ac1",
   "metadata": {},
   "source": [
    "Blok `finally` jest przydatny, jeśli musisz wykonać pewne końcowe akcje (zamknąć plik, przerwać połączenie itd.), nawet jeśli zostaną zgłoszone wyjątki:"
   ]
  },
  {
   "cell_type": "code",
   "execution_count": 8,
   "id": "80f4bb11-3441-49de-9fb4-adb660d7c939",
   "metadata": {},
   "outputs": [
    {
     "name": "stdout",
     "output_type": "stream",
     "text": [
      "Sprzątanie po wyjątku.\n",
      "Dzielenie przez zero!\n"
     ]
    }
   ],
   "source": [
    "try:\n",
    "    try:\n",
    "        1 / 0\n",
    "    finally:\n",
    "        print('Sprzątanie po wyjątku.')\n",
    "except ZeroDivisionError:\n",
    "    print('Dzielenie przez zero!')"
   ]
  },
  {
   "cell_type": "markdown",
   "id": "dbd265b7-8c46-4f4c-b4eb-fa730d4a546a",
   "metadata": {},
   "source": [
    "Korzystanie z `with` w większości przypadków pozwala ostatecznie obejść się bez `finally`"
   ]
  },
  {
   "cell_type": "markdown",
   "id": "84ed74f9-bb0e-4ee9-8bd1-3880cfeea9b3",
   "metadata": {},
   "source": [
    "W bloku `except` możesz ponownie zgłosić obsłużony wyjątek z pomocą `raise` bez parametrów. Służy to w szczególności do prowadzenia dziennika działania programu.\n",
    "\n",
    "Lekką alternatywą dla wyjątków są kody powrotne lub specjalne wartości sygnalizujące błędy. W Pythonie zwyczajowo używa się wartości `None`, której zwrot odpowiada jakiejś nietypowej sytuacji. Zalety wyjątków nad kodami błędów to:\n",
    "\n",
    "- Szczegółowe informacje o błędzie, w tym stos wywołań.\n",
    "- Nie ma potrzeby śledzenia wartości zwracanych przez funkcję, nie ma wyraźnej obsługi błędów.\n",
    "\n",
    "Jednocześnie wyjątki są łatwe do nadużycia, używaj ich w duchu wyrafinowanej wersji GOTO. W szczególności wyjątki są czasami wykorzystywane nie do obsługi błędów, ale do implementacji algorytmów, jak w poniższym przykładzie:"
   ]
  },
  {
   "cell_type": "code",
   "execution_count": 9,
   "id": "a3449de4-293b-4854-a11d-bdae44d5d7c4",
   "metadata": {},
   "outputs": [],
   "source": [
    "def get_freq(text):\n",
    "    freq = {}\n",
    "    for w in text.split():\n",
    "        try:\n",
    "            freq[w] += 1\n",
    "        except KeyError:\n",
    "            freq[w] = 1\n",
    "    return freq"
   ]
  },
  {
   "cell_type": "markdown",
   "id": "2c87b5f8-e620-4336-8898-d44ac7fe9f53",
   "metadata": {},
   "source": [
    "Tutaj można użyć metody get i pozbyć się obsługi wyjątków:"
   ]
  },
  {
   "cell_type": "code",
   "execution_count": 10,
   "id": "e1c18769-7145-4e47-8be5-4bc3d45124f7",
   "metadata": {},
   "outputs": [],
   "source": [
    "def get_freq(text):\n",
    "    freq = {}\n",
    "    for w in text.split():\n",
    "        freq[w] = freq.get(w, 0) + 1\n",
    "    return freq"
   ]
  },
  {
   "cell_type": "markdown",
   "id": "dbc8dd2a-ae59-49d6-b8d1-a6e5dec7badb",
   "metadata": {},
   "source": [
    "Lub, jeszcze lepiej, skorzystaj z zaawansowanych funkcji standardowej biblioteki Pythona:"
   ]
  },
  {
   "cell_type": "code",
   "execution_count": 11,
   "id": "3b9447e8-8eb2-462d-9d53-9aa19957e113",
   "metadata": {},
   "outputs": [],
   "source": [
    "from collections import Counter\n",
    "\n",
    "def get_freq(text):\n",
    "    return Counter(text.split())"
   ]
  }
 ],
 "metadata": {
  "kernelspec": {
   "display_name": "Python 3 (ipykernel)",
   "language": "python",
   "name": "python3"
  },
  "language_info": {
   "codemirror_mode": {
    "name": "ipython",
    "version": 3
   },
   "file_extension": ".py",
   "mimetype": "text/x-python",
   "name": "python",
   "nbconvert_exporter": "python",
   "pygments_lexer": "ipython3",
   "version": "3.9.7"
  }
 },
 "nbformat": 4,
 "nbformat_minor": 5
}
