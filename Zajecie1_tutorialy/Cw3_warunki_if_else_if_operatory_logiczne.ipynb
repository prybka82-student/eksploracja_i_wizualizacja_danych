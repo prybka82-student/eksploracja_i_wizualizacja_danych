{
 "cells": [
  {
   "cell_type": "markdown",
   "metadata": {},
   "source": [
    "# Warunki if, elif, else"
   ]
  },
  {
   "cell_type": "markdown",
   "metadata": {},
   "source": [
    "Zadanie obliczenie podatku\n",
    "\n",
    "    Pod1: 15 %\n",
    "    Pod2: 6 %\n",
    "    SZ: 6 %\n",
    "    OS: 13 %\n",
    "\n"
   ]
  },
  {
   "cell_type": "code",
   "execution_count": 9,
   "metadata": {},
   "outputs": [
    {
     "name": "stdin",
     "output_type": "stream",
     "text": [
      " Vasyl Martsenyuk\n"
     ]
    }
   ],
   "source": [
    "name = input()"
   ]
  },
  {
   "cell_type": "code",
   "execution_count": 10,
   "metadata": {},
   "outputs": [
    {
     "data": {
      "text/plain": [
       "'Vasyl Martsenyuk'"
      ]
     },
     "execution_count": 10,
     "metadata": {},
     "output_type": "execute_result"
    }
   ],
   "source": [
    "name"
   ]
  },
  {
   "cell_type": "code",
   "execution_count": 11,
   "metadata": {},
   "outputs": [
    {
     "name": "stdin",
     "output_type": "stream",
     "text": [
      " Pod1\n"
     ]
    }
   ],
   "source": [
    "business_type = input()"
   ]
  },
  {
   "cell_type": "code",
   "execution_count": 12,
   "metadata": {},
   "outputs": [
    {
     "name": "stdin",
     "output_type": "stream",
     "text": [
      " 12000\n"
     ]
    }
   ],
   "source": [
    "income =int(input())"
   ]
  },
  {
   "cell_type": "code",
   "execution_count": 6,
   "metadata": {},
   "outputs": [],
   "source": [
    "zp_sechina = 600000000 // 12"
   ]
  },
  {
   "cell_type": "code",
   "execution_count": 7,
   "metadata": {},
   "outputs": [],
   "source": [
    "minimum_income = 14000"
   ]
  },
  {
   "cell_type": "code",
   "execution_count": 8,
   "metadata": {},
   "outputs": [
    {
     "name": "stdout",
     "output_type": "stream",
     "text": [
      "Vasyl, Pan jest zarejestrowany jako OS Pana  podatek wynosi 1690 zł, dochód -- 11310 zł.\n",
      "Vasyl, Pana pensja jest mniejsza minimalnej na  2690.0\n"
     ]
    }
   ],
   "source": [
    "if business_type == 'Pod1':\n",
    "    tax = income * 0.15\n",
    "    net_income = income - tax \n",
    "    print(f'{name}, Pana podatek wynosi {int(tax)} zł, dochód -- {int(net_income)} zł.')\n",
    "elif business_type == 'Pod2':\n",
    "    tax = income * 0.06\n",
    "    net_income = income - tax \n",
    "    print(f'{name}, Pan jest zarejestrowany jako {business_type} Pana podatek wynosi {int(tax)} zł, dochód -- {int(net_income)} zł.')\n",
    "else:\n",
    "    tax = income * 0.13\n",
    "    net_income = income - tax \n",
    "    print(f'{name.split()[0]}, Pan jest zarejestrowany jako {business_type} Pana  podatek wynosi {int(tax)} zł, dochód -- {int(net_income)} zł.')\n",
    "    if net_income >= zp_sechina:\n",
    "        print(f'{name.split()[0]}, to jest OK, proszę zwrócić uwagę że Pana pensja jest  {net_income} więcej Pana 2 na {net_income - zp_sechina}')\n",
    "    elif net_income <= minimum_income:\n",
    "        print(f'{name.split()[0]}, Pana pensja jest mniejsza minimalnej na  {minimum_income - net_income}')\n",
    "    else:\n",
    "        print(f'{name.split()[0]}, Pana pensja jest mniejsza pensji Pana 2 na  {zp_sechina - net_income}')\n",
    "        \n",
    "    \n",
    "    \n",
    "    "
   ]
  },
  {
   "cell_type": "code",
   "execution_count": null,
   "metadata": {},
   "outputs": [],
   "source": []
  }
 ],
 "metadata": {
  "kernelspec": {
   "display_name": "Python 3 (ipykernel)",
   "language": "python",
   "name": "python3"
  },
  "language_info": {
   "codemirror_mode": {
    "name": "ipython",
    "version": 3
   },
   "file_extension": ".py",
   "mimetype": "text/x-python",
   "name": "python",
   "nbconvert_exporter": "python",
   "pygments_lexer": "ipython3",
   "version": "3.9.7"
  }
 },
 "nbformat": 4,
 "nbformat_minor": 4
}
