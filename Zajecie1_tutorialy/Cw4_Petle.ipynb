{
 "cells": [
  {
   "cell_type": "markdown",
   "metadata": {},
   "source": [
    "# Pętla while"
   ]
  },
  {
   "cell_type": "markdown",
   "metadata": {},
   "source": [
    "Zadanie: policzyć wszystkie samogłoski w ciągu znaków"
   ]
  },
  {
   "cell_type": "code",
   "execution_count": 2,
   "metadata": {},
   "outputs": [],
   "source": [
    "poem = \"\"\"Nigdy z królami nie będziem w aljansach, Nigdy przed mocą nie ugniemy szyi; Bo u Chrystusa my na ordynansach — Słudzy Maryi!\"\"\""
   ]
  },
  {
   "cell_type": "code",
   "execution_count": 3,
   "metadata": {},
   "outputs": [],
   "source": [
    "# while warenek:\n",
    "    #ciało pętli"
   ]
  },
  {
   "cell_type": "code",
   "execution_count": 4,
   "metadata": {},
   "outputs": [],
   "source": [
    "index = 0"
   ]
  },
  {
   "cell_type": "code",
   "execution_count": 5,
   "metadata": {},
   "outputs": [],
   "source": [
    "vowels = 'aeyioąęuó'"
   ]
  },
  {
   "cell_type": "code",
   "execution_count": 6,
   "metadata": {},
   "outputs": [],
   "source": [
    "poem_vowels = ''"
   ]
  },
  {
   "cell_type": "code",
   "execution_count": 7,
   "metadata": {},
   "outputs": [],
   "source": [
    "while index != len(poem):\n",
    "    if poem[index] in vowels:\n",
    "        poem_vowels += poem[index]\n",
    "    index += 1"
   ]
  },
  {
   "cell_type": "code",
   "execution_count": 8,
   "metadata": {},
   "outputs": [
    {
     "data": {
      "text/plain": [
       "42"
      ]
     },
     "execution_count": 8,
     "metadata": {},
     "output_type": "execute_result"
    }
   ],
   "source": [
    "len(poem_vowels)"
   ]
  },
  {
   "cell_type": "code",
   "execution_count": 9,
   "metadata": {},
   "outputs": [
    {
     "data": {
      "text/plain": [
       "'iyóaiieęieaaaiyeoąieuieyyiouyuayaoyaauyayi'"
      ]
     },
     "execution_count": 9,
     "metadata": {},
     "output_type": "execute_result"
    }
   ],
   "source": [
    "poem_vowels"
   ]
  },
  {
   "cell_type": "markdown",
   "metadata": {},
   "source": [
    "# Pętla for"
   ]
  },
  {
   "cell_type": "markdown",
   "metadata": {},
   "source": [
    "Zadanie sumowania"
   ]
  },
  {
   "cell_type": "code",
   "execution_count": 10,
   "metadata": {},
   "outputs": [],
   "source": [
    "male_list = [65, 60, 45, 55]\n",
    "female_list = [75, 34, 68, 90]"
   ]
  },
  {
   "cell_type": "code",
   "execution_count": 11,
   "metadata": {},
   "outputs": [
    {
     "name": "stdout",
     "output_type": "stream",
     "text": [
      "Wiek kobiety jest większy od wieku męszczyzny na 10 lat\n",
      "Wiek męszczyzny jest większy od wieku kobiety na 31 lat\n",
      "Wiek kobiety jest większy od wieku męszczyzny na 3 lat\n",
      "Wiek kobiety jest większy od wieku męszczyzny na 25 lat\n",
      "Wiek kobiety jest większy od wieku męszczyzny na 15 lat\n",
      "Wiek męszczyzny jest większy od wieku kobiety na 26 lat\n",
      "Wiek kobiety jest większy od wieku męszczyzny na 8 lat\n",
      "Wiek kobiety jest większy od wieku męszczyzny na 30 lat\n",
      "Wiek kobiety jest większy od wieku męszczyzny na 30 lat\n",
      "Wiek męszczyzny jest większy od wieku kobiety na 11 lat\n",
      "Wiek kobiety jest większy od wieku męszczyzny na 23 lat\n",
      "Wiek kobiety jest większy od wieku męszczyzny na 45 lat\n",
      "Wiek kobiety jest większy od wieku męszczyzny na 20 lat\n",
      "Wiek męszczyzny jest większy od wieku kobiety na 21 lat\n",
      "Wiek kobiety jest większy od wieku męszczyzny na 13 lat\n",
      "Wiek kobiety jest większy od wieku męszczyzny na 35 lat\n"
     ]
    }
   ],
   "source": [
    "for male_age in male_list:\n",
    "    for female_age in female_list:\n",
    "        if male_age > female_age:\n",
    "            print(f'Wiek męszczyzny jest większy od wieku kobiety na {male_age - female_age} lat')\n",
    "        else:\n",
    "            print(f'Wiek kobiety jest większy od wieku męszczyzny na {female_age - male_age} lat')\n",
    "       "
   ]
  },
  {
   "cell_type": "code",
   "execution_count": null,
   "metadata": {},
   "outputs": [],
   "source": []
  },
  {
   "cell_type": "code",
   "execution_count": null,
   "metadata": {},
   "outputs": [],
   "source": []
  }
 ],
 "metadata": {
  "kernelspec": {
   "display_name": "Python 3 (ipykernel)",
   "language": "python",
   "name": "python3"
  },
  "language_info": {
   "codemirror_mode": {
    "name": "ipython",
    "version": 3
   },
   "file_extension": ".py",
   "mimetype": "text/x-python",
   "name": "python",
   "nbconvert_exporter": "python",
   "pygments_lexer": "ipython3",
   "version": "3.9.7"
  }
 },
 "nbformat": 4,
 "nbformat_minor": 4
}
