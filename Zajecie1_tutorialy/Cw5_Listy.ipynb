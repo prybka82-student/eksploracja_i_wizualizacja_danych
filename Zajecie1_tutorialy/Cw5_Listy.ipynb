{
 "cells": [
  {
   "cell_type": "markdown",
   "metadata": {},
   "source": [
    "# Listy"
   ]
  },
  {
   "cell_type": "code",
   "execution_count": 44,
   "metadata": {
    "tags": []
   },
   "outputs": [
    {
     "data": {
      "text/plain": [
       "[1, 2, 3, 4, 5]"
      ]
     },
     "execution_count": 44,
     "metadata": {},
     "output_type": "execute_result"
    }
   ],
   "source": [
    "[1, 2, 3, 4, 5] #w listach mogą być liczby"
   ]
  },
  {
   "cell_type": "code",
   "execution_count": 45,
   "metadata": {},
   "outputs": [
    {
     "data": {
      "text/plain": [
       "list"
      ]
     },
     "execution_count": 45,
     "metadata": {},
     "output_type": "execute_result"
    }
   ],
   "source": [
    "type([1, 2, 3, 4, 5]) #swradzamy typ danych"
   ]
  },
  {
   "cell_type": "code",
   "execution_count": 46,
   "metadata": {},
   "outputs": [
    {
     "data": {
      "text/plain": [
       "list"
      ]
     },
     "execution_count": 46,
     "metadata": {},
     "output_type": "execute_result"
    }
   ],
   "source": [
    "type(['line1', 'line2']) #w listach mogą znajdować się ciągi znaków"
   ]
  },
  {
   "cell_type": "code",
   "execution_count": 47,
   "metadata": {},
   "outputs": [
    {
     "data": {
      "text/plain": [
       "[1, 1.4, 'line', [1, 2, 3]]"
      ]
     },
     "execution_count": 47,
     "metadata": {},
     "output_type": "execute_result"
    }
   ],
   "source": [
    "[1, 1.4, 'line', [1, 2, 3]] #w listach mogą się znajdować odrazu kilku różnych typów danych"
   ]
  },
  {
   "cell_type": "code",
   "execution_count": 48,
   "metadata": {},
   "outputs": [
    {
     "data": {
      "text/plain": [
       "[]"
      ]
     },
     "execution_count": 48,
     "metadata": {},
     "output_type": "execute_result"
    }
   ],
   "source": [
    "my_list = list() #w taki sposób się tworzy pusta lista\n",
    "my_list"
   ]
  },
  {
   "cell_type": "code",
   "execution_count": 49,
   "metadata": {},
   "outputs": [
    {
     "data": {
      "text/plain": [
       "[]"
      ]
     },
     "execution_count": 49,
     "metadata": {},
     "output_type": "execute_result"
    }
   ],
   "source": [
    "my_list = [] #i w taki sposób się tworzy pusta lista\n",
    "my_list"
   ]
  },
  {
   "cell_type": "code",
   "execution_count": 50,
   "metadata": {},
   "outputs": [
    {
     "name": "stdout",
     "output_type": "stream",
     "text": [
      "<class 'int'> 1\n",
      "<class 'float'> 1.4\n",
      "<class 'str'> line\n",
      "<class 'list'> [1, 2, 3]\n",
      "<class 'float'> 1.4\n"
     ]
    }
   ],
   "source": [
    "my_list = [1, 1.4, 'line', [1, 2, 3], 1.4]\n",
    "#za pomocą pętli sprawdzimy typ każdego elementa\n",
    "for el in my_list:\n",
    "    print(type(el), el)"
   ]
  },
  {
   "cell_type": "code",
   "execution_count": 51,
   "metadata": {},
   "outputs": [
    {
     "data": {
      "text/plain": [
       "5"
      ]
     },
     "execution_count": 51,
     "metadata": {},
     "output_type": "execute_result"
    }
   ],
   "source": [
    "len(my_list) #w taki sposób możemy sprawdzić długość listy czyli liczbę elementów zawartych w liście"
   ]
  },
  {
   "cell_type": "code",
   "execution_count": 53,
   "metadata": {},
   "outputs": [
    {
     "data": {
      "text/plain": [
       "'line'"
      ]
     },
     "execution_count": 53,
     "metadata": {},
     "output_type": "execute_result"
    }
   ],
   "source": [
    "my_list[2] #za pomocą indeksu można dostać element listy"
   ]
  },
  {
   "cell_type": "code",
   "execution_count": 54,
   "metadata": {},
   "outputs": [
    {
     "data": {
      "text/plain": [
       "1"
      ]
     },
     "execution_count": 54,
     "metadata": {},
     "output_type": "execute_result"
    }
   ],
   "source": [
    "my_list.index(1.4) \n",
    "#w taki sposób można się dowiedzieć indeks elementa. \n",
    "#zwróci się indeks najwcześniejszego takiego elementa"
   ]
  },
  {
   "cell_type": "code",
   "execution_count": 55,
   "metadata": {},
   "outputs": [],
   "source": [
    "my_list.append('one_more_line')\n",
    "#w taki sposób dodawamy element w końcu listy"
   ]
  },
  {
   "cell_type": "code",
   "execution_count": 13,
   "metadata": {},
   "outputs": [
    {
     "data": {
      "text/plain": [
       "[1, 1.4, 'line', [1, 2, 3], 1.4, 'one_more_line']"
      ]
     },
     "execution_count": 13,
     "metadata": {},
     "output_type": "execute_result"
    }
   ],
   "source": [
    "my_list"
   ]
  },
  {
   "cell_type": "code",
   "execution_count": 56,
   "metadata": {},
   "outputs": [],
   "source": [
    "my_list.insert(1, 100)\n",
    "# w taki sposób dodawamy element na dokładne miejsce na liście.\n",
    "# czyli najpier określamy miejsce - indeks, później element"
   ]
  },
  {
   "cell_type": "code",
   "execution_count": 57,
   "metadata": {},
   "outputs": [
    {
     "data": {
      "text/plain": [
       "[1, 100, 1.4, 'line', [1, 2, 3], 1.4, 'one_more_line']"
      ]
     },
     "execution_count": 57,
     "metadata": {},
     "output_type": "execute_result"
    }
   ],
   "source": [
    "my_list"
   ]
  },
  {
   "cell_type": "code",
   "execution_count": 58,
   "metadata": {},
   "outputs": [],
   "source": [
    "my_list.remove(100)\n",
    "# usunięcie elementa z listy\n",
    "# będzie usunięty tylko pierwszy taki element na liście"
   ]
  },
  {
   "cell_type": "code",
   "execution_count": 17,
   "metadata": {},
   "outputs": [
    {
     "data": {
      "text/plain": [
       "[1, 1.4, 'line', [1, 2, 3], 1.4, 'one_more_line']"
      ]
     },
     "execution_count": 17,
     "metadata": {},
     "output_type": "execute_result"
    }
   ],
   "source": [
    "my_list"
   ]
  },
  {
   "cell_type": "code",
   "execution_count": 59,
   "metadata": {},
   "outputs": [],
   "source": [
    "number_list = [3, 49, 1, 16]\n",
    "sorted_list = sorted(number_list) # uporządkowanie listy\n",
    "# wynik uporządkowania trzeba zachować do jakiejś zmiennej\n",
    "# gdyż sorted() nie zmienia wejściwą listę"
   ]
  },
  {
   "cell_type": "code",
   "execution_count": 19,
   "metadata": {},
   "outputs": [
    {
     "data": {
      "text/plain": [
       "[1, 3, 16, 49]"
      ]
     },
     "execution_count": 19,
     "metadata": {},
     "output_type": "execute_result"
    }
   ],
   "source": [
    "sorted_list"
   ]
  },
  {
   "cell_type": "code",
   "execution_count": 20,
   "metadata": {},
   "outputs": [
    {
     "data": {
      "text/plain": [
       "[3, 49, 1, 16]"
      ]
     },
     "execution_count": 20,
     "metadata": {},
     "output_type": "execute_result"
    }
   ],
   "source": [
    "number_list"
   ]
  },
  {
   "cell_type": "code",
   "execution_count": 21,
   "metadata": {},
   "outputs": [
    {
     "data": {
      "text/plain": [
       "[1, 3, 16, 49]"
      ]
     },
     "execution_count": 21,
     "metadata": {},
     "output_type": "execute_result"
    }
   ],
   "source": [
    "sorted_list"
   ]
  },
  {
   "cell_type": "code",
   "execution_count": 22,
   "metadata": {},
   "outputs": [
    {
     "data": {
      "text/plain": [
       "['a', 'd', 'm']"
      ]
     },
     "execution_count": 22,
     "metadata": {},
     "output_type": "execute_result"
    }
   ],
   "source": [
    "str_list = ['a', \"m\", \"d\"] #uporządkować można nie tylko liczby, ale ciągi znaków\n",
    "sorted(str_list)"
   ]
  },
  {
   "cell_type": "markdown",
   "metadata": {},
   "source": [
    "Spróbujemy napisać mały program. \n",
    "Program 5 razy prosi użytkownika wprowadzić liczbę i każdą liczbę dodaje do listy. Ostatecznie wyświetla listę z 5 liczb. "
   ]
  },
  {
   "cell_type": "code",
   "execution_count": 23,
   "metadata": {},
   "outputs": [
    {
     "name": "stdin",
     "output_type": "stream",
     "text": [
      "Wprowadź liczbę:  2\n",
      "Wprowadź liczbę:  3\n",
      "Wprowadź liczbę:  6\n",
      "Wprowadź liczbę:  34\n",
      "Wprowadź liczbę:  12\n"
     ]
    },
    {
     "name": "stdout",
     "output_type": "stream",
     "text": [
      "[2, 3, 6, 34, 12]\n"
     ]
    }
   ],
   "source": [
    "my_list = []\n",
    "\n",
    "for num in range(5):\n",
    "    x = int(input('Wprowadź liczbę: '))\n",
    "    my_list.append(x)\n",
    "    \n",
    "print(my_list)"
   ]
  },
  {
   "cell_type": "markdown",
   "metadata": {},
   "source": [
    "Teraz program musi prosić użytkownika 5 razy wprowadzić liczbę parzystą, sprawdzać parzystość. Jeśli tak, to dodawać do listy, jeżeli nie, wyświetlać użytkownikowi *wprowadzana przez użytkownika liczba nie dzieli się przez 2 bez reszty*."
   ]
  },
  {
   "cell_type": "code",
   "execution_count": 24,
   "metadata": {},
   "outputs": [
    {
     "name": "stdin",
     "output_type": "stream",
     "text": [
      "Wprowadź liczbę parzystą:  4\n",
      "Wprowadź liczbę parzystą:  5\n"
     ]
    },
    {
     "name": "stdout",
     "output_type": "stream",
     "text": [
      "5 liczba nie dzieli się przez 2 bez reszty.\n"
     ]
    },
    {
     "name": "stdin",
     "output_type": "stream",
     "text": [
      "Wprowadź liczbę parzystą:  67\n"
     ]
    },
    {
     "name": "stdout",
     "output_type": "stream",
     "text": [
      "67 liczba nie dzieli się przez 2 bez reszty.\n"
     ]
    },
    {
     "name": "stdin",
     "output_type": "stream",
     "text": [
      "Wprowadź liczbę parzystą:  4\n",
      "Wprowadź liczbę parzystą:  88\n"
     ]
    },
    {
     "name": "stdout",
     "output_type": "stream",
     "text": [
      "[4, 4, 88]\n"
     ]
    }
   ],
   "source": [
    "my_list = []\n",
    "\n",
    "for num in range(5):\n",
    "    x = int(input('Wprowadź liczbę parzystą: '))\n",
    "    if x%2 == 0:   \n",
    "        my_list.append(x)\n",
    "    else:\n",
    "        print(f\"{x} liczba nie dzieli się przez 2 bez reszty.\")\n",
    "print(my_list)"
   ]
  },
  {
   "cell_type": "markdown",
   "metadata": {},
   "source": [
    "Mamy taką listę — my_list = ['2%', \"45 %\", '6%', “11”, ‘15 %’] . Trzeba wyczyścić każdy element od symbolu %.\n",
    "\n"
   ]
  },
  {
   "cell_type": "code",
   "execution_count": 25,
   "metadata": {},
   "outputs": [],
   "source": [
    "my_list = ['2 %', \"45%\", '6%']\n",
    "clean_list = []\n",
    "for el in my_list:\n",
    "    clean_el = int(el.replace('%',''))\n",
    "    clean_list.append(clean_el)\n",
    "    "
   ]
  },
  {
   "cell_type": "code",
   "execution_count": 26,
   "metadata": {},
   "outputs": [
    {
     "data": {
      "text/plain": [
       "[2, 45, 6]"
      ]
     },
     "execution_count": 26,
     "metadata": {},
     "output_type": "execute_result"
    }
   ],
   "source": [
    "clean_list"
   ]
  },
  {
   "cell_type": "code",
   "execution_count": 29,
   "metadata": {},
   "outputs": [],
   "source": [
    "#załużmy że mamy dane o liczbach przestępców w jakichś miejscowościach\n",
    "crimes = [30000, 10000, 200]\n",
    "# Chcemy dowiedzieć się w jakiej miescowości sytuacja kryminalistyczna jest najgorsza. "
   ]
  },
  {
   "cell_type": "code",
   "execution_count": 28,
   "metadata": {},
   "outputs": [
    {
     "data": {
      "text/plain": [
       "30000"
      ]
     },
     "execution_count": 28,
     "metadata": {},
     "output_type": "execute_result"
    }
   ],
   "source": [
    "max(crimes) \n",
    "#funkcja max zwraca największą wartość, min — najmniejszą"
   ]
  },
  {
   "cell_type": "markdown",
   "metadata": {},
   "source": [
    "To jest technicznie prawidłowa odpowiedź. Ale nie wszystko jest takie proste. Wskaźniki, takie jak liczba przestępców, sierot, osób uzależnionych od alkoholu itd., muszą koniecznie zostać znormalizowane do liczby wszystkich osób mieszkających w tej miescowości.  Dlatego potrzebujemy jeszcze jednego wiersza w tabeli."
   ]
  },
  {
   "cell_type": "code",
   "execution_count": 31,
   "metadata": {},
   "outputs": [],
   "source": [
    "population = [100000, 50000, 1000] "
   ]
  },
  {
   "cell_type": "code",
   "execution_count": 34,
   "metadata": {},
   "outputs": [],
   "source": [
    "# normalizacja zgodnie z wzorem\n",
    "# liczba przestępstw/ludność * 1000"
   ]
  },
  {
   "cell_type": "code",
   "execution_count": 35,
   "metadata": {},
   "outputs": [
    {
     "name": "stdout",
     "output_type": "stream",
     "text": [
      "[300.0, 200.0, 200.0]\n"
     ]
    }
   ],
   "source": [
    "norm_crimes = []\n",
    "for i in range(len(crimes)):\n",
    "    norm_crimes.append(crimes[i]/population[i]*1000)\n",
    "print(norm_crimes)    "
   ]
  },
  {
   "cell_type": "code",
   "execution_count": 36,
   "metadata": {},
   "outputs": [],
   "source": [
    "# jeśli połączymy wszystkie trzy listy w jedną, to tak naprawdę otrzymamy zwykłą tabelę\n",
    "\n",
    "city_names = ['city1', 'city2', 'city3']\n",
    "crimes = [30000, 10000, 200]\n",
    "population = [100000, 50000, 1000]\n",
    "norm_crimes = [300.0, 200.0, 200.0]"
   ]
  },
  {
   "cell_type": "code",
   "execution_count": 37,
   "metadata": {},
   "outputs": [
    {
     "data": {
      "text/plain": [
       "[['city1', 'city2', 'city3'],\n",
       " [30000, 10000, 200],\n",
       " [100000, 50000, 1000],\n",
       " [300.0, 200.0, 200.0]]"
      ]
     },
     "execution_count": 37,
     "metadata": {},
     "output_type": "execute_result"
    }
   ],
   "source": [
    "[city_names, crimes, population, norm_crimes]"
   ]
  },
  {
   "cell_type": "markdown",
   "metadata": {},
   "source": [
    "Możemy obliczyć sumę wszystkich przestępców, sumę populacji dla wszystkich osiedli i ogólny znormalizowany wskaźnik dla wszystkich osiedli. Aby znaleźć sumę wszystkich liczb na liście, nie musimy przewijać listy i dodawać jednego elementu po drugim. Możemy użyć `sum()`."
   ]
  },
  {
   "cell_type": "code",
   "execution_count": 38,
   "metadata": {},
   "outputs": [
    {
     "data": {
      "text/plain": [
       "40200"
      ]
     },
     "execution_count": 38,
     "metadata": {},
     "output_type": "execute_result"
    }
   ],
   "source": [
    "total_crimes = sum(crimes) # sum() zwraca sumę wszystkich liczb na liście\n",
    "total_crimes"
   ]
  },
  {
   "cell_type": "code",
   "execution_count": 39,
   "metadata": {},
   "outputs": [
    {
     "data": {
      "text/plain": [
       "151000"
      ]
     },
     "execution_count": 39,
     "metadata": {},
     "output_type": "execute_result"
    }
   ],
   "source": [
    "total_population = sum(population)\n",
    "total_population"
   ]
  },
  {
   "cell_type": "code",
   "execution_count": 40,
   "metadata": {},
   "outputs": [
    {
     "data": {
      "text/plain": [
       "266.2251655629139"
      ]
     },
     "execution_count": 40,
     "metadata": {},
     "output_type": "execute_result"
    }
   ],
   "source": [
    "total_norm = total_crimes/total_population * 1000\n",
    "total_norm"
   ]
  },
  {
   "cell_type": "code",
   "execution_count": 41,
   "metadata": {},
   "outputs": [
    {
     "data": {
      "text/plain": [
       "[30000, 10000, 200, 40200]"
      ]
     },
     "execution_count": 41,
     "metadata": {},
     "output_type": "execute_result"
    }
   ],
   "source": [
    "crimes.append(total_crimes)\n",
    "crimes"
   ]
  },
  {
   "cell_type": "code",
   "execution_count": 42,
   "metadata": {},
   "outputs": [
    {
     "data": {
      "text/plain": [
       "[100000, 50000, 1000, 151000]"
      ]
     },
     "execution_count": 42,
     "metadata": {},
     "output_type": "execute_result"
    }
   ],
   "source": [
    "population.append(total_population)\n",
    "population"
   ]
  },
  {
   "cell_type": "code",
   "execution_count": 43,
   "metadata": {},
   "outputs": [
    {
     "data": {
      "text/plain": [
       "[300.0, 200.0, 200.0, 266.2251655629139]"
      ]
     },
     "execution_count": 43,
     "metadata": {},
     "output_type": "execute_result"
    }
   ],
   "source": [
    "norm_crimes.append(total_norm)\n",
    "norm_crimes"
   ]
  },
  {
   "cell_type": "code",
   "execution_count": null,
   "metadata": {},
   "outputs": [],
   "source": []
  }
 ],
 "metadata": {
  "kernelspec": {
   "display_name": "Python 3 (ipykernel)",
   "language": "python",
   "name": "python3"
  },
  "language_info": {
   "codemirror_mode": {
    "name": "ipython",
    "version": 3
   },
   "file_extension": ".py",
   "mimetype": "text/x-python",
   "name": "python",
   "nbconvert_exporter": "python",
   "pygments_lexer": "ipython3",
   "version": "3.9.7"
  }
 },
 "nbformat": 4,
 "nbformat_minor": 4
}
