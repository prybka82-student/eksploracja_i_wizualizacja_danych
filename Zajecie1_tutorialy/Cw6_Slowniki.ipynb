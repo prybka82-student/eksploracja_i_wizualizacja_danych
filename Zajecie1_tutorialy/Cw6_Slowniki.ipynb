{
 "cells": [
  {
   "cell_type": "markdown",
   "metadata": {},
   "source": [
    "# Słowniki"
   ]
  },
  {
   "cell_type": "code",
   "execution_count": 2,
   "metadata": {},
   "outputs": [
    {
     "data": {
      "text/plain": [
       "dict"
      ]
     },
     "execution_count": 2,
     "metadata": {},
     "output_type": "execute_result"
    }
   ],
   "source": [
    "new_dict = {} #tworzymy nowy słownik\n",
    "type(new_dict)"
   ]
  },
  {
   "cell_type": "code",
   "execution_count": 3,
   "metadata": {},
   "outputs": [
    {
     "data": {
      "text/plain": [
       "{}"
      ]
     },
     "execution_count": 3,
     "metadata": {},
     "output_type": "execute_result"
    }
   ],
   "source": [
    "new_dict = dict()#tworzymy nowy słownik \n",
    "new_dict"
   ]
  },
  {
   "cell_type": "code",
   "execution_count": 4,
   "metadata": {},
   "outputs": [],
   "source": [
    "income = {'Jan Kowalski': 9969174545, \n",
    "          'Magdalena Wiśniewska': 6788118841, \n",
    "          'Marcin Zieliński': 4461793274}\n",
    "\n",
    "#imie i nazwisko — klucz\n",
    "#przychód — wartość\n"
   ]
  },
  {
   "cell_type": "code",
   "execution_count": 5,
   "metadata": {},
   "outputs": [
    {
     "data": {
      "text/plain": [
       "9969174545"
      ]
     },
     "execution_count": 5,
     "metadata": {},
     "output_type": "execute_result"
    }
   ],
   "source": [
    "income['Jan Kowalski'] #dostęp do słownika można uzyskać tylko za pomocą klucza"
   ]
  },
  {
   "cell_type": "code",
   "execution_count": 6,
   "metadata": {},
   "outputs": [],
   "source": [
    "income['Robert Lewandowski'] = 9726595  \n",
    "#za pomocą klucza możesz dodać nowe wartości"
   ]
  },
  {
   "cell_type": "code",
   "execution_count": 7,
   "metadata": {},
   "outputs": [
    {
     "data": {
      "text/plain": [
       "{'Jan Kowalski': 9969174545,\n",
       " 'Magdalena Wiśniewska': 6788118841,\n",
       " 'Marcin Zieliński': 4461793274,\n",
       " 'Robert Lewandowski': 9726595}"
      ]
     },
     "execution_count": 7,
     "metadata": {},
     "output_type": "execute_result"
    }
   ],
   "source": [
    "income"
   ]
  },
  {
   "cell_type": "code",
   "execution_count": 8,
   "metadata": {},
   "outputs": [
    {
     "data": {
      "text/plain": [
       "9726595"
      ]
     },
     "execution_count": 8,
     "metadata": {},
     "output_type": "execute_result"
    }
   ],
   "source": [
    "income['Robert Lewandowski']"
   ]
  },
  {
   "cell_type": "code",
   "execution_count": 9,
   "metadata": {},
   "outputs": [
    {
     "ename": "KeyError",
     "evalue": "3",
     "output_type": "error",
     "traceback": [
      "\u001b[1;31m---------------------------------------------------------------------------\u001b[0m",
      "\u001b[1;31mKeyError\u001b[0m                                  Traceback (most recent call last)",
      "\u001b[1;32m~\\AppData\\Local\\Temp/ipykernel_15992/2630124165.py\u001b[0m in \u001b[0;36m<module>\u001b[1;34m\u001b[0m\n\u001b[1;32m----> 1\u001b[1;33m \u001b[0mincome\u001b[0m\u001b[1;33m[\u001b[0m\u001b[1;36m3\u001b[0m\u001b[1;33m]\u001b[0m\u001b[1;33m\u001b[0m\u001b[1;33m\u001b[0m\u001b[0m\n\u001b[0m\u001b[0;32m      2\u001b[0m \u001b[1;33m\u001b[0m\u001b[0m\n\u001b[0;32m      3\u001b[0m \u001b[1;31m# Nie możesz spojrzeć na numer porządkowy Roberta Lewandowskiego i użyć tego numeru, aby się do niego odnieść.\u001b[0m\u001b[1;33m\u001b[0m\u001b[1;33m\u001b[0m\u001b[0m\n\u001b[0;32m      4\u001b[0m \u001b[1;31m# Ta próba się nie powiedzie.\u001b[0m\u001b[1;33m\u001b[0m\u001b[1;33m\u001b[0m\u001b[0m\n\u001b[0;32m      5\u001b[0m \u001b[1;31m# Ten błąd oznacza, że w słowniku nie ma takiego klucza jak 3, czyli liczby, której próbowaliśmy użyć jako indeksu elementu.\u001b[0m\u001b[1;33m\u001b[0m\u001b[1;33m\u001b[0m\u001b[0m\n",
      "\u001b[1;31mKeyError\u001b[0m: 3"
     ]
    }
   ],
   "source": [
    "income[3] \n",
    "\n",
    "# Nie możesz spojrzeć na numer porządkowy Roberta Lewandowskiego i użyć tego numeru, aby się do niego odnieść.\n",
    "# Ta próba się nie powiedzie.\n",
    "# Ten błąd oznacza, że w słowniku nie ma takiego klucza jak 3, czyli liczby, której próbowaliśmy użyć jako indeksu elementu.\n",
    "# Dostęp do słowników można uzyskać tylko za pomocą klucza."
   ]
  },
  {
   "cell_type": "code",
   "execution_count": 10,
   "metadata": {},
   "outputs": [
    {
     "data": {
      "text/plain": [
       "9726595"
      ]
     },
     "execution_count": 10,
     "metadata": {},
     "output_type": "execute_result"
    }
   ],
   "source": [
    "income.get(\"Robert Lewandowski\", 'nie ma klucza')\n",
    "\n",
    "# możesz również użyć metody get(), aby uzyskać wartości\n",
    "# W nawiasach podajesz klucz, którego wartość chcesz uzyskać, oddzielając go przecinkiem\n",
    "# określ, co chcesz uzyskać, jeśli takiego klucza nie ma w słowniku.\n",
    "# W przykładzie otrzymamy w odpowiedzi ciąg \"mie ma klucza\".\n",
    "# Jeśli nie określisz niczego oddzielonego przecinkiem, domyślnie zostanie zwrócone None."
   ]
  },
  {
   "cell_type": "code",
   "execution_count": 11,
   "metadata": {},
   "outputs": [
    {
     "data": {
      "text/plain": [
       "'nie ma klucza'"
      ]
     },
     "execution_count": 11,
     "metadata": {},
     "output_type": "execute_result"
    }
   ],
   "source": [
    "income.get(3, 'nie ma klucza')"
   ]
  },
  {
   "cell_type": "code",
   "execution_count": 12,
   "metadata": {},
   "outputs": [
    {
     "data": {
      "text/plain": [
       "0"
      ]
     },
     "execution_count": 12,
     "metadata": {},
     "output_type": "execute_result"
    }
   ],
   "source": [
    "number_dict = {1:0, 2:1, 3:2, 4:3} #W słownikach klucze i wartości mogą mieć różne typy danych.\n",
    "number_dict[1]"
   ]
  },
  {
   "cell_type": "code",
   "execution_count": 13,
   "metadata": {},
   "outputs": [
    {
     "ename": "KeyError",
     "evalue": "'1'",
     "output_type": "error",
     "traceback": [
      "\u001b[1;31m---------------------------------------------------------------------------\u001b[0m",
      "\u001b[1;31mKeyError\u001b[0m                                  Traceback (most recent call last)",
      "\u001b[1;32m~\\AppData\\Local\\Temp/ipykernel_15992/1137687852.py\u001b[0m in \u001b[0;36m<module>\u001b[1;34m\u001b[0m\n\u001b[1;32m----> 1\u001b[1;33m \u001b[0mnumber_dict\u001b[0m\u001b[1;33m[\u001b[0m\u001b[1;34m'1'\u001b[0m\u001b[1;33m]\u001b[0m\u001b[1;33m\u001b[0m\u001b[1;33m\u001b[0m\u001b[0m\n\u001b[0m\u001b[0;32m      2\u001b[0m \u001b[1;33m\u001b[0m\u001b[0m\n\u001b[0;32m      3\u001b[0m \u001b[1;31m# Tylko jeśli twój klucz jest liczbą, musisz podać go w nawiasach kwadratowych, gdyż uzyskujesz dostęp do niego również jako liczby.\u001b[0m\u001b[1;33m\u001b[0m\u001b[1;33m\u001b[0m\u001b[0m\n\u001b[0;32m      4\u001b[0m \u001b[1;31m# Jeśli umieścisz go w cudzysłowie, będzie to inna wartość.\u001b[0m\u001b[1;33m\u001b[0m\u001b[1;33m\u001b[0m\u001b[0m\n\u001b[0;32m      5\u001b[0m \u001b[1;31m# Znowu pojawi się błąd, że w słowniku nie ma takiego klucza.\u001b[0m\u001b[1;33m\u001b[0m\u001b[1;33m\u001b[0m\u001b[0m\n",
      "\u001b[1;31mKeyError\u001b[0m: '1'"
     ]
    }
   ],
   "source": [
    "number_dict['1']\n",
    "\n",
    "# Tylko jeśli twój klucz jest liczbą, musisz podać go w nawiasach kwadratowych, gdyż uzyskujesz dostęp do niego również jako liczby.\n",
    "# Jeśli umieścisz go w cudzysłowie, będzie to inna wartość.\n",
    "# Znowu pojawi się błąd, że w słowniku nie ma takiego klucza."
   ]
  },
  {
   "cell_type": "code",
   "execution_count": 14,
   "metadata": {},
   "outputs": [
    {
     "data": {
      "text/plain": [
       "{'Jan Kowalski': 9969174545,\n",
       " 'Magdalena Wiśniewska': 6788118841,\n",
       " 'Marcin Zieliński': 4461793274,\n",
       " 'Robert Lewandowski': [18728268, 8648353, 9726595]}"
      ]
     },
     "execution_count": 14,
     "metadata": {},
     "output_type": "execute_result"
    }
   ],
   "source": [
    "income['Robert Lewandowski'] = [18728268, 8648353, 9726595]\n",
    "income\n",
    "\n",
    "#Wartości w słowniku mogą być również listami."
   ]
  },
  {
   "cell_type": "code",
   "execution_count": 15,
   "metadata": {},
   "outputs": [
    {
     "data": {
      "text/plain": [
       "[18728268, 8648353, 9726595]"
      ]
     },
     "execution_count": 15,
     "metadata": {},
     "output_type": "execute_result"
    }
   ],
   "source": [
    "income.pop('Robert Lewandowski')\n",
    "# Możesz usunąć element ze słownika za pomocą .pop().\n",
    "# Klucz elementu musi być podany w nawiasach.\n",
    "# Element zostanie usunięty, a usunięta wartość zostanie zwrócona. "
   ]
  },
  {
   "cell_type": "code",
   "execution_count": 16,
   "metadata": {},
   "outputs": [
    {
     "data": {
      "text/plain": [
       "{'Jan Kowalski': 9969174545,\n",
       " 'Magdalena Wiśniewska': 6788118841,\n",
       " 'Marcin Zieliński': 4461793274}"
      ]
     },
     "execution_count": 16,
     "metadata": {},
     "output_type": "execute_result"
    }
   ],
   "source": [
    "income"
   ]
  },
  {
   "cell_type": "code",
   "execution_count": 17,
   "metadata": {},
   "outputs": [
    {
     "data": {
      "text/plain": [
       "['Jan Kowalski', 'Magdalena Wiśniewska', 'Marcin Zieliński']"
      ]
     },
     "execution_count": 17,
     "metadata": {},
     "output_type": "execute_result"
    }
   ],
   "source": [
    "list(income.keys()) #możemy otrzymać osobną listę wszystkich kluczy"
   ]
  },
  {
   "cell_type": "code",
   "execution_count": 18,
   "metadata": {},
   "outputs": [
    {
     "data": {
      "text/plain": [
       "[9969174545, 6788118841, 4461793274]"
      ]
     },
     "execution_count": 18,
     "metadata": {},
     "output_type": "execute_result"
    }
   ],
   "source": [
    "list(income.values()) #i wszystkie znaczenia słownika"
   ]
  },
  {
   "cell_type": "markdown",
   "metadata": {},
   "source": [
    "Stwórzmy nowy słownik, w którym będziemy przechowywać dochody z ostatnich trzech lat Roberta Lewandowskiego i Łukasza Fabiańskiego. I napiszemy mały kod, który będzie iterował po elementach tego słownika i wydrukuje nam wiadomość o tym, kto miał minimalny dochód przez ostatnie trzy lata. Aby rozwiązać ten problem, potrzebujemy innej metody słownikowej `.items()`. Umożliwia ona iterację w parach zarówno klucza, jak i wartości."
   ]
  },
  {
   "cell_type": "code",
   "execution_count": 21,
   "metadata": {},
   "outputs": [],
   "source": [
    "income_dict = {'Robert Lewandowski': [18728268, 8648353, 9726595], 'Łukasz Fabiański': [11051195, 9917511, 8565296]}"
   ]
  },
  {
   "cell_type": "code",
   "execution_count": 22,
   "metadata": {},
   "outputs": [
    {
     "data": {
      "text/plain": [
       "list"
      ]
     },
     "execution_count": 22,
     "metadata": {},
     "output_type": "execute_result"
    }
   ],
   "source": [
    "type(income_dict['Robert Lewandowski'])"
   ]
  },
  {
   "cell_type": "code",
   "execution_count": 23,
   "metadata": {},
   "outputs": [
    {
     "name": "stdout",
     "output_type": "stream",
     "text": [
      "Minimalny dochód u Robert Lewandowski przez ostatnie trzy lata wyniósł 8648353 zł\n",
      "Minimalny dochód u Łukasz Fabiański przez ostatnie trzy lata wyniósł 8565296 zł\n"
     ]
    }
   ],
   "source": [
    "for key, value in income_dict.items():\n",
    "    print(f\"Minimalny dochód u {key} przez ostatnie trzy lata wyniósł {min(value)} zł\")"
   ]
  },
  {
   "cell_type": "code",
   "execution_count": null,
   "metadata": {},
   "outputs": [],
   "source": []
  }
 ],
 "metadata": {
  "kernelspec": {
   "display_name": "Python 3 (ipykernel)",
   "language": "python",
   "name": "python3"
  },
  "language_info": {
   "codemirror_mode": {
    "name": "ipython",
    "version": 3
   },
   "file_extension": ".py",
   "mimetype": "text/x-python",
   "name": "python",
   "nbconvert_exporter": "python",
   "pygments_lexer": "ipython3",
   "version": "3.9.7"
  }
 },
 "nbformat": 4,
 "nbformat_minor": 4
}
