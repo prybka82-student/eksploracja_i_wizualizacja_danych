{
 "cells": [
  {
   "cell_type": "markdown",
   "metadata": {},
   "source": [
    "# Uporządkowanie"
   ]
  },
  {
   "cell_type": "code",
   "execution_count": 1,
   "metadata": {},
   "outputs": [],
   "source": [
    "my_list=[6,7,3,8,1]"
   ]
  },
  {
   "cell_type": "code",
   "execution_count": 2,
   "metadata": {},
   "outputs": [
    {
     "name": "stdout",
     "output_type": "stream",
     "text": [
      "[6, 7, 3, 8, 1]\n"
     ]
    }
   ],
   "source": [
    "if my_list[0]>my_list[1]:\n",
    "    my_list[0],my_list[1]=my_list[1],my_list[0]\n",
    "print(my_list)"
   ]
  },
  {
   "cell_type": "code",
   "execution_count": 3,
   "metadata": {},
   "outputs": [
    {
     "name": "stdout",
     "output_type": "stream",
     "text": [
      "[6, 3, 7, 8, 1]\n"
     ]
    }
   ],
   "source": [
    "if my_list[1]>my_list[2]:\n",
    "    my_list[1],my_list[2]=my_list[2],my_list[1]\n",
    "print(my_list)"
   ]
  },
  {
   "cell_type": "code",
   "execution_count": 4,
   "metadata": {},
   "outputs": [
    {
     "name": "stdout",
     "output_type": "stream",
     "text": [
      "porównujemy 6 a 7\n",
      "[6, 7, 3, 8, 1]\n",
      "porównujemy 7 a 3\n",
      "[6, 3, 7, 8, 1]\n",
      "porównujemy 7 a 8\n",
      "[6, 3, 7, 8, 1]\n",
      "porównujemy 8 a 1\n",
      "[6, 3, 7, 1, 8]\n"
     ]
    }
   ],
   "source": [
    "my_list=[6,7,3,8,1]\n",
    "for i in range(len(my_list)-1):\n",
    "    print (f\"porównujemy {my_list[i]} a {my_list[i+1]}\")\n",
    "    if my_list[i]>my_list[i+1]:\n",
    "        my_list[i],my_list[i+1]=my_list[i+1],my_list[i]\n",
    "    print(my_list)\n",
    "        "
   ]
  },
  {
   "cell_type": "code",
   "execution_count": 5,
   "metadata": {},
   "outputs": [
    {
     "name": "stdout",
     "output_type": "stream",
     "text": [
      "porównujemy 6 a 7\n",
      "porównujemy 7 a 3\n",
      "porównujemy 7 a 8\n",
      "porównujemy 8 a 1\n",
      "[6, 3, 7, 1, 8]\n",
      "porównujemy 6 a 3\n",
      "porównujemy 6 a 7\n",
      "porównujemy 7 a 1\n",
      "[3, 6, 1, 7, 8]\n",
      "porównujemy 3 a 6\n",
      "porównujemy 6 a 1\n",
      "[3, 1, 6, 7, 8]\n",
      "porównujemy 3 a 1\n",
      "[1, 3, 6, 7, 8]\n"
     ]
    }
   ],
   "source": [
    "my_list=[6,7,3,8,1]\n",
    "for run in range (len(my_list)-1):\n",
    "    for i in range(len(my_list)-1-run):\n",
    "        print (f\"porównujemy {my_list[i]} a {my_list[i+1]}\")\n",
    "        if my_list[i]>my_list[i+1]:\n",
    "            my_list[i],my_list[i+1]=my_list[i+1],my_list[i]\n",
    "    print(my_list)"
   ]
  },
  {
   "cell_type": "code",
   "execution_count": 6,
   "metadata": {},
   "outputs": [],
   "source": [
    "def bubble_sort(my_list):\n",
    "    for run in range (len(my_list)-1):\n",
    "        for i in range(len(my_list)-1-run):\n",
    "            #print (f\"porównujemy {my_list[i]} a {my_list[i+1]}\")\n",
    "            if my_list[i]>my_list[i+1]:\n",
    "                my_list[i],my_list[i+1]=my_list[i+1],my_list[i]\n",
    "    return my_list"
   ]
  },
  {
   "cell_type": "code",
   "execution_count": 7,
   "metadata": {},
   "outputs": [
    {
     "data": {
      "text/plain": [
       "[0, 1, 2, 3, 6, 8, 35, 57, 76]"
      ]
     },
     "execution_count": 7,
     "metadata": {},
     "output_type": "execute_result"
    }
   ],
   "source": [
    "my_list=[1,6,8,3,2,57,76,35,0]\n",
    "bubble_sort(my_list)"
   ]
  },
  {
   "cell_type": "code",
   "execution_count": 12,
   "metadata": {},
   "outputs": [
    {
     "data": {
      "text/plain": [
       "[0, 1, 2, 3, 6, 8, 35, 57, 76]"
      ]
     },
     "execution_count": 12,
     "metadata": {},
     "output_type": "execute_result"
    }
   ],
   "source": [
    "my_list=[1,6,8,3,2,57,76,35,0]\n",
    "my_list.sort() #funkcja wbudowana\n",
    "my_list"
   ]
  },
  {
   "cell_type": "code",
   "execution_count": 13,
   "metadata": {},
   "outputs": [
    {
     "data": {
      "text/plain": [
       "[0, 1, 2, 3, 6, 8, 35, 57, 76]"
      ]
     },
     "execution_count": 13,
     "metadata": {},
     "output_type": "execute_result"
    }
   ],
   "source": [
    "my_list=[1,6,8,3,2,57,76,35,0]\n",
    "sorted(my_list) #funkcja wbudowana"
   ]
  },
  {
   "cell_type": "code",
   "execution_count": 14,
   "metadata": {},
   "outputs": [
    {
     "data": {
      "text/plain": [
       "[1, 6, 8, 3, 2, 57, 76, 35, 0]"
      ]
     },
     "execution_count": 14,
     "metadata": {},
     "output_type": "execute_result"
    }
   ],
   "source": [
    "my_list"
   ]
  },
  {
   "cell_type": "code",
   "execution_count": 15,
   "metadata": {},
   "outputs": [
    {
     "data": {
      "text/plain": [
       "[' ', 'W', 'a', 'a', 'd', 'e', 'i', 'n', 's', 't', 'u', 'ż']"
      ]
     },
     "execution_count": 15,
     "metadata": {},
     "output_type": "execute_result"
    }
   ],
   "source": [
    "string='Ważne studia'\n",
    "sorted(string)"
   ]
  },
  {
   "cell_type": "code",
   "execution_count": 16,
   "metadata": {},
   "outputs": [
    {
     "data": {
      "text/plain": [
       "['income', 'name', 'wife_income']"
      ]
     },
     "execution_count": 16,
     "metadata": {},
     "output_type": "execute_result"
    }
   ],
   "source": [
    "fsb_dict={'name':'J. Kowalski','income':13626718.98,'wife_income':261956.95}\n",
    "sorted(fsb_dict)"
   ]
  },
  {
   "cell_type": "code",
   "execution_count": 17,
   "metadata": {},
   "outputs": [
    {
     "data": {
      "text/plain": [
       "[76, 57, 35, 8, 6, 3, 2, 1, 0]"
      ]
     },
     "execution_count": 17,
     "metadata": {},
     "output_type": "execute_result"
    }
   ],
   "source": [
    "my_list=[1,6,8,3,2,57,76,35,0]\n",
    "sorted(my_list,reverse=True)"
   ]
  },
  {
   "cell_type": "code",
   "execution_count": 18,
   "metadata": {},
   "outputs": [
    {
     "data": {
      "text/plain": [
       "[' ', 'a', 'a', 'd', 'e', 'i', 'n', 's', 't', 'u', 'W', 'ż']"
      ]
     },
     "execution_count": 18,
     "metadata": {},
     "output_type": "execute_result"
    }
   ],
   "source": [
    "string='Ważne studia'\n",
    "sorted(string,key=str.lower)"
   ]
  },
  {
   "cell_type": "code",
   "execution_count": 21,
   "metadata": {},
   "outputs": [],
   "source": [
    "fsb_list=[['Kowalski J.',13626718.98,261956.95],['Zieliński P.',11882496.91,593918.65],['Wisłocki M.',6795228.14,861350.27]]"
   ]
  },
  {
   "cell_type": "code",
   "execution_count": 22,
   "metadata": {
    "tags": []
   },
   "outputs": [
    {
     "data": {
      "text/plain": [
       "[['Kowalski J.', 13626718.98, 261956.95],\n",
       " ['Wisłocki M.', 6795228.14, 861350.27],\n",
       " ['Zieliński P.', 11882496.91, 593918.65]]"
      ]
     },
     "execution_count": 22,
     "metadata": {},
     "output_type": "execute_result"
    }
   ],
   "source": [
    "sorted(fsb_list)"
   ]
  },
  {
   "cell_type": "code",
   "execution_count": 23,
   "metadata": {},
   "outputs": [],
   "source": [
    "def fsb_income(i):\n",
    "    return i[1]"
   ]
  },
  {
   "cell_type": "code",
   "execution_count": 24,
   "metadata": {},
   "outputs": [
    {
     "data": {
      "text/plain": [
       "[['Wisłocki M.', 6795228.14, 861350.27],\n",
       " ['Zieliński P.', 11882496.91, 593918.65],\n",
       " ['Kowalski J.', 13626718.98, 261956.95]]"
      ]
     },
     "execution_count": 24,
     "metadata": {},
     "output_type": "execute_result"
    }
   ],
   "source": [
    "sorted(fsb_list,key=fsb_income)"
   ]
  },
  {
   "cell_type": "code",
   "execution_count": 25,
   "metadata": {},
   "outputs": [],
   "source": [
    "fsb=[{'name':'Kowalski J.','income':13626718.98,'wife_income':261956.95},\n",
    "     {'name':'Zieliński P.','income':11882496.91,'wife_income':593918.65},\n",
    "     {'name':'Kowalski J.','income':6795228.14,'wife_income':861350.27},\n",
    "     {'name':'Lewandowski R.','income':7406264.90,'wife_income':315794.75},\n",
    "     {'name':'Wisłocki M.','income':5912584.62,'wife_income':393095.22}]"
   ]
  },
  {
   "cell_type": "code",
   "execution_count": 26,
   "metadata": {},
   "outputs": [],
   "source": [
    "def fsb_wife_income(i):\n",
    "    return i.get('wife_income')"
   ]
  },
  {
   "cell_type": "code",
   "execution_count": 27,
   "metadata": {},
   "outputs": [
    {
     "data": {
      "text/plain": [
       "[{'name': 'Kowalski J.', 'income': 13626718.98, 'wife_income': 261956.95},\n",
       " {'name': 'Lewandowski R.', 'income': 7406264.9, 'wife_income': 315794.75},\n",
       " {'name': 'Wisłocki M.', 'income': 5912584.62, 'wife_income': 393095.22},\n",
       " {'name': 'Zieliński P.', 'income': 11882496.91, 'wife_income': 593918.65},\n",
       " {'name': 'Kowalski J.', 'income': 6795228.14, 'wife_income': 861350.27}]"
      ]
     },
     "execution_count": 27,
     "metadata": {},
     "output_type": "execute_result"
    }
   ],
   "source": [
    "sorted(fsb,key=fsb_wife_income)"
   ]
  },
  {
   "cell_type": "code",
   "execution_count": null,
   "metadata": {},
   "outputs": [],
   "source": []
  }
 ],
 "metadata": {
  "kernelspec": {
   "display_name": "Python 3 (ipykernel)",
   "language": "python",
   "name": "python3"
  },
  "language_info": {
   "codemirror_mode": {
    "name": "ipython",
    "version": 3
   },
   "file_extension": ".py",
   "mimetype": "text/x-python",
   "name": "python",
   "nbconvert_exporter": "python",
   "pygments_lexer": "ipython3",
   "version": "3.9.7"
  }
 },
 "nbformat": 4,
 "nbformat_minor": 4
}
