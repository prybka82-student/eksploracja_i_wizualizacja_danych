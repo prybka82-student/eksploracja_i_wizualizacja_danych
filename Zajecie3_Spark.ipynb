{
 "cells": [
  {
   "cell_type": "markdown",
   "id": "eb2c539e-59a7-4472-b9d3-99a687fa6088",
   "metadata": {},
   "source": [
    "# Użycie PySpark w celu eksploracji Big Data"
   ]
  },
  {
   "cell_type": "markdown",
   "id": "66f49c74-b166-4ce7-9ee1-62ce09ce6751",
   "metadata": {},
   "source": [
    "<b>PySpark</b> to open source'owy interfejs Apache Spark API używany do rozproszonego przetwarzania dużych zbiorów danych. Został pierwotnie opracowany w języku programowania Scala na Uniwersytecie Kalifornijskim w Berkeley.\n",
    "\n",
    "<b>Spark</b> zapewnia interfejsy API dla Scala, Java, Python i R. System obsługuje ponowne wykorzystanie kodu między obciążeniami, przetwarzanie wsadowe, zapytania interaktywne, analizy w czasie rzeczywistym, uczenie maszynowe i przetwarzanie wykresów. Wykorzystuje buforowanie w pamięci i zoptymalizowane wykonywanie zapytań na danych o dowolnym rozmiarze.\n",
    "\n",
    "Nie ma jednego natywnego systemu plików, takiego jak Hadoop Distributed File System (HDFS), zamiast tego Spark obsługuje wiele popularnych systemów plików, takich jak HDFS, HBase, Cassandra, Amazon S3, Amazon Redshift, Couchbase i inne."
   ]
  },
  {
   "cell_type": "markdown",
   "id": "4b01dd6f-2892-4378-bc92-58003de808aa",
   "metadata": {},
   "source": [
    "<b>Korzyści</b> z używania Apache Spark:\n",
    "\n",
    "- Uruchamia programy w pamięci do 100 razy szybciej niż Hadoop MapReduce i 10 razy szybciej na dysku, ponieważ Spark wykonuje przetwarzanie w pamięci głównej węzłów roboczych i zapobiega niepotrzebnym we/wy.\n",
    "- Spark jest niezwykle przyjazny dla użytkownika, ponieważ ma interfejsy API napisane w popularnych językach, co ułatwia programistom: ukrywa złożoność przetwarzania rozproszonego za prostymi instrukcjami wysokiego poziomu, co znacznie zmniejsza ilość wymaganego kodu.\n",
    "- System można wdrożyć za pomocą Mesos, Hadoop przez Yarn lub własnego menedżera klastra Spark.\n",
    "- Spark wykonuje obliczenia w czasie rzeczywistym i zapewnia małe opóźnienia ze względu na ich wykonanie rezydentne (w pamięci)."
   ]
  },
  {
   "cell_type": "markdown",
   "id": "5abd3bd4-3bbb-4245-bcb4-cd3305991df8",
   "metadata": {},
   "source": [
    "## Konfigurowanie środowiska w Anaconda lub Google Colab"
   ]
  },
  {
   "cell_type": "markdown",
   "id": "06a7b056-b609-49da-ae55-9e5b2c19ea0c",
   "metadata": {},
   "source": [
    "Aby uruchomić pyspark na komputerze lokalnym, potrzebujemy Javy i innego oprogramowania. W ogólnej sytuacji instalujemu JDK (sprawdzono na wersji Java 12), odpowiednio ustalamy zmienne środowiskowe `JAVA_HOME`, `PATH`. Dalej instalujemy Apache Hadoop (wraz z odpowiednim Winutils.exe), ustalamy zmienne środowiskowe `HADOOP_HOME`, `PATH`. Z innej strony zamiast skomplikowanej procedury konfiguracyjnej możemy skorzystać z Google Colaboratory, które doskonale odpowiada naszym wymaganiom sprzętowym, a także zawiera szeroką gamę bibliotek do analizy danych i uczenia maszynowego. \n",
    "\n",
    "Tak więc wszystko, co musimy zrobić, to zainstalować pakiety pyspark i Py4J. Py4J umożliwia programom Pythona uruchomionym w interpreterze Pythona dynamiczny dostęp do obiektów Java z wirtualnej maszyny języka Java."
   ]
  },
  {
   "cell_type": "code",
   "execution_count": null,
   "id": "ffe4c1f4-de5c-4fc7-9531-7062f0d9fa2a",
   "metadata": {},
   "outputs": [],
   "source": [
    "# Polecenie do zainstalowania powyższych pakietów:\n",
    "\n",
    "! pip install pyspark == 3.0.1 py4j == 0.10.9"
   ]
  },
  {
   "cell_type": "markdown",
   "id": "63ae544c-3c4d-4c07-a23d-9b2108c1e6fe",
   "metadata": {},
   "source": [
    "## Sesja Spark\n",
    "SparkSession jest punktem wejścia do PySpark od wersji 2.0: był wcześniej używany dla tego SparkContext. SparkSession to sposób na zainicjowanie podstawowych funkcji PySpark w celu programowego tworzenia PySpark RDD, DataFrame i Dataset. Może być używany zamiast SQLContext, HiveContext i innych kontekstów zdefiniowanych przed wersją 2,0.\n",
    "\n",
    "Należy również pamiętać, że SparkSession wewnętrznie tworzy SparkConfig i SparkContext z konfiguracją dostarczoną z SparkSession. SparkSession można utworzyć za pomocą `SparkSession.builder`, który jest implementacją wzorca projektowego Builder."
   ]
  },
  {
   "cell_type": "markdown",
   "id": "62d45efc-c636-40c3-9d82-79e158c89317",
   "metadata": {},
   "source": [
    "## Tworzenie SparkSession\n",
    "Aby utworzyć SparkSession, musisz użyć metody `builder()`.\n",
    "\n",
    "- `getOrCreate()` zwraca istniejącą SparkSession; jeśli nie istnieje, tworzona jest nowa SparkSession.\n",
    "- `master()`: jeśli pracujesz z klastrem, jako argument musisz podać nazwę menedżera klastra. Zazwyczaj będzie to `yarn` lub `mesos`, w zależności od konfiguracji klastra, a w trybie offline używany jest `local[x]`. Tutaj `x` musi być liczbą całkowitą większą niż 0. Ta wartość wskazuje, ile partycji zostanie utworzonych przy użyciu RDD, DataFrame i Dataset. Idealnie, `x` powinien odpowiadać liczbie rdzeni procesora.\n",
    "- `appName()` służy do ustawienia nazwy aplikacji.\n",
    "\n",
    "Przykład tworzenia SparkSession:"
   ]
  },
  {
   "cell_type": "code",
   "execution_count": 6,
   "id": "2e93e318-a6e9-4416-92c7-b512a858c7b0",
   "metadata": {},
   "outputs": [],
   "source": [
    "from pyspark.sql import SparkSession\n",
    "\n",
    "spark = SparkSession.builder\\\n",
    "        .master(\"local[*]\")\\\n",
    "        .appName('PySpark_Tutorial')\\\n",
    "        .getOrCreate()\n",
    "\n",
    "# gdzie \"*\" znaczy wszystkie rdzenie procesora."
   ]
  },
  {
   "cell_type": "markdown",
   "id": "7871f26d-0445-4ce2-946f-9427e7facf55",
   "metadata": {},
   "source": [
    "## Czytanie danych\n",
    "Za pomocą `spark.read` możemy odczytywać dane z plików różnych formatów, takich jak CSV, JSON, Parquet i inne. Oto kilka przykładów pobierania danych z plików:"
   ]
  },
  {
   "cell_type": "code",
   "execution_count": 8,
   "id": "1cd797e3-3b58-4d1a-9b5c-cd1cef0091ea",
   "metadata": {},
   "outputs": [],
   "source": [
    "# Czytanie CSV plika\n",
    "csv_file = 'data/1.csv'\n",
    "df = spark.read.csv(csv_file)\n",
    "\n",
    "# Czytanie JSON plika\n",
    "json_file = 'data/unece.json'\n",
    "data = spark.read.json(json_file)\n",
    "\n",
    "# Czytanie parquet plika\n",
    "parquet_file = 'data/pems_parquet/pems_sorted/station=402260/part-r-00000-ddaee723-f3f6-4f25-a34b-3312172aa6d7.snappy.parquet'\n",
    "data1 = spark.read.parquet(parquet_file)"
   ]
  },
  {
   "cell_type": "markdown",
   "id": "8e251d7b-a9e1-48ef-af68-ba16f0a5b323",
   "metadata": {},
   "source": [
    "## Pobieranie danych za pomocą URL"
   ]
  },
  {
   "cell_type": "code",
   "execution_count": 53,
   "id": "58070f1d-a92f-4b8d-89a3-e79c8e9cda30",
   "metadata": {},
   "outputs": [],
   "source": [
    "from pyspark import SparkFiles\n",
    "\n",
    "spark.sparkContext.addFile('https://storage.covid19datahub.io/level/1.csv')\n",
    "#spark.sparkContext.addFile('https://storage.covid19datahub.io/country/UKR.csv')\n",
    "\n",
    "df = spark.read.csv(SparkFiles.get(\"1.csv\"), header=True)\n",
    "#df = spark.read.csv(SparkFiles.get(\"UKR.csv\"), header=True)"
   ]
  },
  {
   "cell_type": "markdown",
   "id": "9d0d97ef-1271-40d4-a1f8-a7e1149253f8",
   "metadata": {},
   "source": [
    "# Strukturyzacja danych za pomocą schematu Spark"
   ]
  },
  {
   "cell_type": "markdown",
   "id": "da39e04a-9f1d-4cf4-a5d2-300e48b98ccb",
   "metadata": {},
   "source": [
    "Kod do odczytu danych w formacie pliku CSV:"
   ]
  },
  {
   "cell_type": "code",
   "execution_count": 10,
   "id": "31283be5-09cb-4ec0-a0ec-d7c4d3fbc874",
   "metadata": {},
   "outputs": [
    {
     "name": "stdout",
     "output_type": "stream",
     "text": [
      "root\n",
      " |-- id: string (nullable = true)\n",
      " |-- date: string (nullable = true)\n",
      " |-- confirmed: string (nullable = true)\n",
      " |-- deaths: string (nullable = true)\n",
      " |-- recovered: string (nullable = true)\n",
      " |-- tests: string (nullable = true)\n",
      " |-- vaccines: string (nullable = true)\n",
      " |-- people_vaccinated: string (nullable = true)\n",
      " |-- people_fully_vaccinated: string (nullable = true)\n",
      " |-- hosp: string (nullable = true)\n",
      " |-- icu: string (nullable = true)\n",
      " |-- vent: string (nullable = true)\n",
      " |-- school_closing: string (nullable = true)\n",
      " |-- workplace_closing: string (nullable = true)\n",
      " |-- cancel_events: string (nullable = true)\n",
      " |-- gatherings_restrictions: string (nullable = true)\n",
      " |-- transport_closing: string (nullable = true)\n",
      " |-- stay_home_restrictions: string (nullable = true)\n",
      " |-- internal_movement_restrictions: string (nullable = true)\n",
      " |-- international_movement_restrictions: string (nullable = true)\n",
      " |-- information_campaigns: string (nullable = true)\n",
      " |-- testing_policy: string (nullable = true)\n",
      " |-- contact_tracing: string (nullable = true)\n",
      " |-- facial_coverings: string (nullable = true)\n",
      " |-- vaccination_policy: string (nullable = true)\n",
      " |-- elderly_people_protection: string (nullable = true)\n",
      " |-- government_response_index: string (nullable = true)\n",
      " |-- stringency_index: string (nullable = true)\n",
      " |-- containment_health_index: string (nullable = true)\n",
      " |-- economic_support_index: string (nullable = true)\n",
      " |-- administrative_area_level: string (nullable = true)\n",
      " |-- administrative_area_level_1: string (nullable = true)\n",
      " |-- administrative_area_level_2: string (nullable = true)\n",
      " |-- administrative_area_level_3: string (nullable = true)\n",
      " |-- latitude: string (nullable = true)\n",
      " |-- longitude: string (nullable = true)\n",
      " |-- population: string (nullable = true)\n",
      " |-- iso_alpha_3: string (nullable = true)\n",
      " |-- iso_alpha_2: string (nullable = true)\n",
      " |-- iso_numeric: string (nullable = true)\n",
      " |-- iso_currency: string (nullable = true)\n",
      " |-- key_local: string (nullable = true)\n",
      " |-- key_google_mobility: string (nullable = true)\n",
      " |-- key_apple_mobility: string (nullable = true)\n",
      " |-- key_jhu_csse: string (nullable = true)\n",
      " |-- key_nuts: string (nullable = true)\n",
      " |-- key_gadm: string (nullable = true)\n",
      "\n"
     ]
    }
   ],
   "source": [
    "data = spark.read.csv(\n",
    "    'data/1.csv',\n",
    "    sep=',',\n",
    "    header=True,\n",
    ")\n",
    "\n",
    "data.printSchema()"
   ]
  },
  {
   "cell_type": "markdown",
   "id": "6eef2c2d-5a49-474c-86b5-ed017c9bddda",
   "metadata": {},
   "source": [
    "Przyjrzyjmy się teraz schematowi danych przy użyciu metody `PrintSchema`.\n",
    "\n",
    "Schemat Spark wyświetla strukturę ramki danych lub zestawu danych. Możemy go zdefiniować za pomocą klasy `StructType`, która jest kolekcją obiektów `StructField`. Z kolei ustawiają nazwę kolumny (`String`), jej typ (`DataType`), czy dopuszczalna jest wartość NULL (`Boolean`) i metadane (`MetaData`).\n",
    "\n",
    "Może to być całkiem przydatne, nawet jeśli Spark automatycznie wywnioskuje schemat z danych, ponieważ czasami zakładany typ może być błędny lub musimy zdefiniować własne nazwy kolumn i typy danych. Dzieje się tak często podczas pracy z całkowicie lub częściowo nieustrukturyzowanymi danymi.\n",
    "Zobaczmy, jak możemy ustrukturyzować nasze dane:"
   ]
  },
  {
   "cell_type": "code",
   "execution_count": 11,
   "id": "b5081df2-8950-4b56-bb7f-5b413b6913bd",
   "metadata": {},
   "outputs": [
    {
     "name": "stdout",
     "output_type": "stream",
     "text": [
      "root\n",
      " |-- confirmed: integer (nullable = true)\n",
      " |-- people_vaccinated: integer (nullable = true)\n",
      " |-- economic_support_index: double (nullable = true)\n",
      " |-- iso_currency: string (nullable = true)\n",
      "\n"
     ]
    }
   ],
   "source": [
    "from pyspark.sql.types import *\n",
    "\n",
    "data_schema = [\n",
    "               StructField('confirmed', IntegerType(), True),\n",
    "               StructField('people_vaccinated', IntegerType(), True),\n",
    "               StructField('economic_support_index', DoubleType(), True),\n",
    "               StructField('iso_currency', StringType(), True),\n",
    "            ]\n",
    "\n",
    "final_struc = StructType(fields = data_schema)\n",
    "\n",
    "data = spark.read.csv(\n",
    "    'data/1.csv',\n",
    "    sep=',',\n",
    "    header=True,\n",
    "    schema=final_struc \n",
    ")\n",
    "\n",
    "data.printSchema()"
   ]
  },
  {
   "cell_type": "markdown",
   "id": "856d995e-014f-49ce-9f8d-dba7ddb162a3",
   "metadata": {},
   "source": [
    "Powyższy kod tworzy strukturę danych za pomocą `StructType` i `StructField`. Następnie jest przekazywany jako parametr schematu do metody `spark.read.csv()`. Rzuć okiem na wynikowy schemat uporządkowanych danych powyżej"
   ]
  },
  {
   "cell_type": "markdown",
   "id": "93f9cb36-86fb-48cf-89c7-190112f2801e",
   "metadata": {},
   "source": [
    "# Różne metody kontroli danych\n",
    "Dostępne są następujące metody kontroli danych: schema, dtypes, show, head, first, take, description, columns, count, different, printSchema. Przyjrzyjmy się im na przykładzie.\n",
    "\n",
    "`schema()`: Ta metoda zwraca schemat danych (ramka danych). Przykład znajduje się poniżej."
   ]
  },
  {
   "cell_type": "code",
   "execution_count": 12,
   "id": "d73fbe20-89df-4b11-a7e9-cdd3f597ef35",
   "metadata": {},
   "outputs": [
    {
     "data": {
      "text/plain": [
       "StructType(List(StructField(confirmed,IntegerType,true),StructField(people_vaccinated,IntegerType,true),StructField(economic_support_index,DoubleType,true),StructField(iso_currency,StringType,true)))"
      ]
     },
     "execution_count": 12,
     "metadata": {},
     "output_type": "execute_result"
    }
   ],
   "source": [
    "data.schema"
   ]
  },
  {
   "cell_type": "markdown",
   "id": "2cf9e510-6619-4c27-b1be-d0f6e4d98942",
   "metadata": {},
   "source": [
    "`dtypes` zwraca listę krotek z nazwami kolumn i typami danych."
   ]
  },
  {
   "cell_type": "code",
   "execution_count": 13,
   "id": "8e7ae6f3-3057-4018-841b-89e237709110",
   "metadata": {},
   "outputs": [
    {
     "data": {
      "text/plain": [
       "[('confirmed', 'int'),\n",
       " ('people_vaccinated', 'int'),\n",
       " ('economic_support_index', 'double'),\n",
       " ('iso_currency', 'string')]"
      ]
     },
     "execution_count": 13,
     "metadata": {},
     "output_type": "execute_result"
    }
   ],
   "source": [
    "data.dtypes"
   ]
  },
  {
   "cell_type": "markdown",
   "id": "441074d2-1d8a-4094-b20b-bec1cbfaf9b6",
   "metadata": {},
   "source": [
    "`head(n)` zwraca n wierszy jako listę. Oto przykład:"
   ]
  },
  {
   "cell_type": "code",
   "execution_count": 18,
   "id": "d02d5ccd-cb9c-4140-9181-407c9e337315",
   "metadata": {},
   "outputs": [
    {
     "data": {
      "text/plain": [
       "[Row(confirmed=None, people_vaccinated=None, economic_support_index=None, iso_currency=None),\n",
       " Row(confirmed=None, people_vaccinated=None, economic_support_index=None, iso_currency=None),\n",
       " Row(confirmed=None, people_vaccinated=None, economic_support_index=None, iso_currency=None)]"
      ]
     },
     "execution_count": 18,
     "metadata": {},
     "output_type": "execute_result"
    }
   ],
   "source": [
    "data.head(3)"
   ]
  },
  {
   "cell_type": "markdown",
   "id": "14ca5232-3d5d-48bb-acbb-4be7f55bc43c",
   "metadata": {
    "tags": []
   },
   "source": [
    "- `show()` domyślnie wyświetla pierwsze 20 wierszy, a także przyjmuje liczbę jako parametr określający ich liczbę.\n",
    "- `first()` zwraca pierwszy wiersz danych.\n",
    "- `take(n)` zwraca pierwsze `n` wierszy.\n",
    "- `describe()` oblicza niektóre wartości statystyczne dla kolumn liczbowych.\n",
    "- `columns` zwraca listę zawierającą nazwy kolumn.\n",
    "- `count()` zwraca całkowitą liczbę wierszy w zestawie danych.\n",
    "- `differ()` to liczba odmiennych wierszy w używanym zbiorze danych.\n",
    "- `printSchema()` wyświetla schemat danych."
   ]
  },
  {
   "cell_type": "markdown",
   "id": "fa69ba3f-8e09-4c70-ac58-4f7fc77efe26",
   "metadata": {},
   "source": [
    "# Manipulacja kolumnami\n",
    "Zobaczmy, jakie metody są używane do dodawania, aktualizowania i usuwania kolumn danych.\n",
    "\n",
    "1. Dodawanie kolumny: użyj `withColumn`, aby dodać nową kolumnę do istniejących. Metoda przyjmuje dwa parametry: nazwę kolumny i dane. Przykład:"
   ]
  },
  {
   "cell_type": "code",
   "execution_count": 23,
   "id": "3bc73924-1b50-461f-92cd-b14422dc8613",
   "metadata": {},
   "outputs": [
    {
     "name": "stdout",
     "output_type": "stream",
     "text": [
      "+---------+-----------------+----------------------+------------+--------------+\n",
      "|confirmed|people_vaccinated|economic_support_index|iso_currency|copy_confirmed|\n",
      "+---------+-----------------+----------------------+------------+--------------+\n",
      "|     null|             null|                  null|        null|          null|\n",
      "|     null|             null|                  null|        null|          null|\n",
      "|     null|             null|                  null|        null|          null|\n",
      "|     null|             null|                  null|        null|          null|\n",
      "|     null|             null|                  null|        null|          null|\n",
      "+---------+-----------------+----------------------+------------+--------------+\n",
      "only showing top 5 rows\n",
      "\n"
     ]
    }
   ],
   "source": [
    "data = data.withColumn('copy_confirmed', data.confirmed)\n",
    "\n",
    "data.show(5)"
   ]
  },
  {
   "cell_type": "markdown",
   "id": "eccc62c4-55f4-4449-a4af-5d7eb1061c0d",
   "metadata": {},
   "source": [
    "2. Aktualizacja kolumny: użyj `withColumnRenamed`, aby zmienić nazwę istniejącej kolumny. Metoda przyjmuje dwa parametry: nazwę istniejącej kolumny i jej nową nazwę. Przykład:"
   ]
  },
  {
   "cell_type": "code",
   "execution_count": 25,
   "id": "e88abaf0-bcd0-4baa-87d4-9602168c9912",
   "metadata": {},
   "outputs": [
    {
     "name": "stdout",
     "output_type": "stream",
     "text": [
      "+---------+-----------------+----------------------+------------+----------------------+\n",
      "|confirmed|people_vaccinated|economic_support_index|iso_currency|copy_confirmed_changed|\n",
      "+---------+-----------------+----------------------+------------+----------------------+\n",
      "|     null|             null|                  null|        null|                  null|\n",
      "|     null|             null|                  null|        null|                  null|\n",
      "|     null|             null|                  null|        null|                  null|\n",
      "|     null|             null|                  null|        null|                  null|\n",
      "|     null|             null|                  null|        null|                  null|\n",
      "+---------+-----------------+----------------------+------------+----------------------+\n",
      "only showing top 5 rows\n",
      "\n"
     ]
    }
   ],
   "source": [
    "data = data.withColumnRenamed('copy_confirmed', 'confirmed_changed')\n",
    "\n",
    "data.show(5)"
   ]
  },
  {
   "cell_type": "markdown",
   "id": "b0cfc34f-6cfb-42fc-aae8-708c8f0b880c",
   "metadata": {},
   "source": [
    "3. Upuszczanie kolumny: Użyj metody `drop`, która pobiera nazwę kolumny i zwraca dane."
   ]
  },
  {
   "cell_type": "code",
   "execution_count": 26,
   "id": "215d1e6a-8a05-4802-874d-9df403e3f33a",
   "metadata": {},
   "outputs": [
    {
     "name": "stdout",
     "output_type": "stream",
     "text": [
      "+---------+-----------------+----------------------+------------+\n",
      "|confirmed|people_vaccinated|economic_support_index|iso_currency|\n",
      "+---------+-----------------+----------------------+------------+\n",
      "|     null|             null|                  null|        null|\n",
      "|     null|             null|                  null|        null|\n",
      "|     null|             null|                  null|        null|\n",
      "|     null|             null|                  null|        null|\n",
      "|     null|             null|                  null|        null|\n",
      "+---------+-----------------+----------------------+------------+\n",
      "only showing top 5 rows\n",
      "\n"
     ]
    }
   ],
   "source": [
    "data = data.drop('copy_confirmed_changed')\n",
    "\n",
    "data.show(5)"
   ]
  },
  {
   "cell_type": "markdown",
   "id": "b1e0d110-05af-4943-ab90-a2eeda97873a",
   "metadata": {},
   "source": [
    "# Radzenie sobie z brakującymi wartościami\n",
    "Często napotykamy brakujące wartości podczas pracy z danymi czasu rzeczywistego. Te brakujące wartości są oznaczone jako `NaN`, spacje lub inne symbole zastępcze. Istnieją różne metody radzenia sobie z brakami danych, niektóre z najbardziej popularnych to:\n",
    "\n",
    "- Usunięcie: usuń wiersze z brakującymi wartościami w dowolnej z kolumn.\n",
    "- Zastąpienie średniej / mediany: Zastąp brakujące wartości za pomocą średniej lub mediany z odpowiedniej kolumny. Jest prosty, szybki i dobrze współpracuje z małymi zestawami danych liczbowych.\n",
    "- Zastępowanie najczęstszych wartości: Jak sugeruje nazwa, użyj najczęściej występującej wartości w kolumnie, aby zastąpić brakujące wartości. Działa to dobrze w przypadku atrybutów kategorycznych, ale może również wprowadzić błąd w danych.\n",
    "- Zastępowanie za pomocą KNN: Metoda K-nearestneighbor to algorytm klasyfikacji, który oblicza podobieństwo cech nowych punktów danych do istniejących przy użyciu różnych metryk odległości, takich jak Euclidean, Mahalanobis, Manhattan, Minkowski, Hamming i inne. To podejście jest dokładniejsze niż wyżej wymienione metody, ale jest intensywne obliczeniowo i dość wrażliwe na wartości odstające.\n",
    "\n",
    "Zobaczmy, jak możemy wykorzystać PySpark do rozwiązania problemu brakujących wartości:"
   ]
  },
  {
   "cell_type": "code",
   "execution_count": 43,
   "id": "a22ac3a7-52cf-4b9f-9f97-54c62e38342f",
   "metadata": {},
   "outputs": [
    {
     "ename": "NameError",
     "evalue": "name 'old_value' is not defined",
     "output_type": "error",
     "traceback": [
      "\u001b[1;31m---------------------------------------------------------------------------\u001b[0m",
      "\u001b[1;31mNameError\u001b[0m                                 Traceback (most recent call last)",
      "\u001b[1;32m~\\AppData\\Local\\Temp/ipykernel_20556/3187650180.py\u001b[0m in \u001b[0;36m<module>\u001b[1;34m\u001b[0m\n\u001b[0;32m      8\u001b[0m \u001b[1;33m\u001b[0m\u001b[0m\n\u001b[0;32m      9\u001b[0m \u001b[1;31m# Zastąp brakujące wartości nowymi\u001b[0m\u001b[1;33m\u001b[0m\u001b[1;33m\u001b[0m\u001b[0m\n\u001b[1;32m---> 10\u001b[1;33m \u001b[0mdata\u001b[0m\u001b[1;33m.\u001b[0m\u001b[0mna\u001b[0m\u001b[1;33m.\u001b[0m\u001b[0mreplace\u001b[0m\u001b[1;33m(\u001b[0m\u001b[0mold_value\u001b[0m\u001b[1;33m,\u001b[0m \u001b[0mnew_vallue\u001b[0m\u001b[1;33m)\u001b[0m\u001b[1;33m\u001b[0m\u001b[1;33m\u001b[0m\u001b[0m\n\u001b[0m",
      "\u001b[1;31mNameError\u001b[0m: name 'old_value' is not defined"
     ]
    }
   ],
   "source": [
    "from pyspark.sql import functions as f\n",
    "\n",
    "# Usuń wiersze z brakującymi wartościami w dowolnej z kolumn\n",
    "data.na.drop()\n",
    "\n",
    "# Zastąp brakujące wartości za pomocą średniej\n",
    "data.na.fill(data.select(f.mean(data['confirmed'])).collect()[0][0])\n",
    "\n",
    "# Zastąp brakujące wartości nowymi\n",
    "data.na.replace(old_value, new_vallue)"
   ]
  },
  {
   "cell_type": "markdown",
   "id": "0573b6cc-a76a-4d2a-bf7c-23967495addd",
   "metadata": {},
   "source": [
    "# Pobieranie danych\n",
    "PySpark i PySpark SQL zapewniają szeroki zakres metod i funkcji do łatwego wyszukiwania danych. Oto lista najczęściej używanych metod:\n",
    "- Select\n",
    "- Filter\n",
    "- Between\n",
    "- When\n",
    "- Like\n",
    "- GroupBy\n",
    "- Agregowanie"
   ]
  },
  {
   "cell_type": "markdown",
   "id": "70802069-2ebd-4417-9f53-b4549c7a12a6",
   "metadata": {},
   "source": [
    "### Select\n",
    "Służy do wybierania jednej lub więcej kolumn przy użyciu ich nazw. Oto prosty przykład:"
   ]
  },
  {
   "cell_type": "code",
   "execution_count": 30,
   "id": "99f0e004-5a92-41f9-8846-9397667e2342",
   "metadata": {},
   "outputs": [
    {
     "name": "stdout",
     "output_type": "stream",
     "text": [
      "+---------+\n",
      "|confirmed|\n",
      "+---------+\n",
      "|     null|\n",
      "|     null|\n",
      "|     null|\n",
      "|     null|\n",
      "|     null|\n",
      "+---------+\n",
      "only showing top 5 rows\n",
      "\n",
      "+---------+-----------------+------------+\n",
      "|confirmed|people_vaccinated|iso_currency|\n",
      "+---------+-----------------+------------+\n",
      "|     null|             null|        null|\n",
      "|     null|             null|        null|\n",
      "|     null|             null|        null|\n",
      "|     null|             null|        null|\n",
      "|     null|             null|        null|\n",
      "+---------+-----------------+------------+\n",
      "only showing top 5 rows\n",
      "\n"
     ]
    }
   ],
   "source": [
    "# wybór jednej kolumny\n",
    "data.select('confirmed').show(5)\n",
    "\n",
    "# wybór kilku kolumn\n",
    "data.select(['confirmed', 'people_vaccinated', 'iso_currency']).show(5)"
   ]
  },
  {
   "cell_type": "markdown",
   "id": "e1873afd-c227-4613-934d-33cfa8af676f",
   "metadata": {},
   "source": [
    "### Filter\n",
    "Ta metoda filtruje dane na podstawie określonego warunku. Możesz także określić wiele warunków za pomocą operatorów `AND (&)`, `OR (|)` i `NOT (~)`. Oto przykład uzyskania danych o cenach akcji za styczeń 2020 r."
   ]
  },
  {
   "cell_type": "code",
   "execution_count": 41,
   "id": "bbf52891-6af7-4051-99dc-bfdc5e914650",
   "metadata": {},
   "outputs": [
    {
     "name": "stdout",
     "output_type": "stream",
     "text": [
      "+---------+-----------------+----------------------+------------+\n",
      "|confirmed|people_vaccinated|economic_support_index|iso_currency|\n",
      "+---------+-----------------+----------------------+------------+\n",
      "|  3357425|             null|                  null|        null|\n",
      "|  3357425|             null|                  null|        null|\n",
      "|  3357425|             null|                  null|        null|\n",
      "|  3357425|             null|                  null|        null|\n",
      "|  3357425|             null|                  null|        null|\n",
      "+---------+-----------------+----------------------+------------+\n",
      "only showing top 5 rows\n",
      "\n"
     ]
    }
   ],
   "source": [
    "from pyspark.sql.functions import col\n",
    "\n",
    "data.filter( (col('confirmed') >= 1000) & (col('confirmed') <= 10000000) ).show(5)"
   ]
  },
  {
   "cell_type": "markdown",
   "id": "1584fc87-3e71-47a3-b5aa-79686fea402a",
   "metadata": {},
   "source": [
    "### Between\n",
    "Ta metoda zwraca `True`, jeśli testowana wartość należy do określonego zakresu, w przeciwnym razie — `False`. Rzućmy okiem na przykład filtrowania danych, w którym wartości wahają się od 1000000 do 5000000 ."
   ]
  },
  {
   "cell_type": "code",
   "execution_count": 36,
   "id": "9509421e-9aad-425f-9208-ff3d846b0965",
   "metadata": {},
   "outputs": [
    {
     "name": "stdout",
     "output_type": "stream",
     "text": [
      "+---------+-----------------+----------------------+------------+\n",
      "|confirmed|people_vaccinated|economic_support_index|iso_currency|\n",
      "+---------+-----------------+----------------------+------------+\n",
      "|  3357425|             null|                  null|        null|\n",
      "|  3357425|             null|                  null|        null|\n",
      "|  3357425|             null|                  null|        null|\n",
      "|  3357425|             null|                  null|        null|\n",
      "|  3357425|             null|                  null|        null|\n",
      "|  3357425|             null|                  null|        null|\n",
      "|  3357425|             null|                  null|        null|\n",
      "|  3357425|             null|                  null|        null|\n",
      "|  3357425|             null|                  null|        null|\n",
      "|  3357425|             null|                  null|        null|\n",
      "|  3357425|             null|                  null|        null|\n",
      "|  3357425|             null|                  null|        null|\n",
      "|  3357425|             null|                  null|        null|\n",
      "|  3357425|             null|                  null|        null|\n",
      "|  3357425|             null|                  null|        null|\n",
      "|  3357425|             null|                  null|        null|\n",
      "|  3357425|             null|                  null|        null|\n",
      "|  3357425|             null|                  null|        null|\n",
      "|  3357425|             null|                  null|        null|\n",
      "|  3357425|             null|                  null|        null|\n",
      "+---------+-----------------+----------------------+------------+\n",
      "only showing top 20 rows\n",
      "\n"
     ]
    }
   ],
   "source": [
    "data.filter(data.confirmed.between(1000000, 5000000)).show()"
   ]
  },
  {
   "cell_type": "markdown",
   "id": "b1818492-df0d-46f1-878c-c0276db18cd5",
   "metadata": {},
   "source": [
    "### When\n",
    "Zwraca 0 lub 1 w zależności od określonego warunku."
   ]
  },
  {
   "cell_type": "code",
   "execution_count": 42,
   "id": "194277f8-5f2e-40bc-a1cf-b34744e09a0c",
   "metadata": {},
   "outputs": [
    {
     "name": "stdout",
     "output_type": "stream",
     "text": [
      "+---------+-----------------+--------------------------------------------------+\n",
      "|confirmed|people_vaccinated|CASE WHEN (iso_currency = 98739) THEN 1 ELSE 0 END|\n",
      "+---------+-----------------+--------------------------------------------------+\n",
      "|     null|             null|                                                 0|\n",
      "|     null|             null|                                                 0|\n",
      "|     null|             null|                                                 0|\n",
      "|     null|             null|                                                 0|\n",
      "|     null|             null|                                                 0|\n",
      "+---------+-----------------+--------------------------------------------------+\n",
      "only showing top 5 rows\n",
      "\n"
     ]
    }
   ],
   "source": [
    "data.select('confirmed', 'people_vaccinated', \n",
    "            f.when(data.iso_currency == '98739', 1).otherwise(0)\n",
    ").show(5)"
   ]
  },
  {
   "cell_type": "markdown",
   "id": "d3b1aa5b-ef9a-4690-8aa5-3fd608b3738f",
   "metadata": {},
   "source": [
    "### Like\n",
    "Ta metoda jest podobna do operatora Like w SQL. Poniższy kod demonstruje użycie `rlike()` do pobierania nazw iso_currency zaczynających się na cyfry 9 lub 7."
   ]
  },
  {
   "cell_type": "code",
   "execution_count": 45,
   "id": "777cf1da-2a9a-4627-a59f-5cbc1fe0313c",
   "metadata": {},
   "outputs": [
    {
     "name": "stdout",
     "output_type": "stream",
     "text": [
      "+------------+----------------------------------+\n",
      "|iso_currency|iso_urrency zaczyba sie na 9 lub 7|\n",
      "+------------+----------------------------------+\n",
      "|         450|                             false|\n",
      "|       27121|                             false|\n",
      "|          19|                             false|\n",
      "|         884|                             false|\n",
      "|         909|                              true|\n",
      "|        1412|                             false|\n",
      "|        4320|                             false|\n",
      "|         542|                             false|\n",
      "|        1888|                             false|\n",
      "|        4311|                             false|\n",
      "|        5095|                             false|\n",
      "|        9537|                              true|\n",
      "|        3690|                             false|\n",
      "|       10922|                             false|\n",
      "|         394|                             false|\n",
      "|        6035|                             false|\n",
      "|        6393|                             false|\n",
      "|       11886|                             false|\n",
      "|       19543|                             false|\n",
      "|        7865|                              true|\n",
      "+------------+----------------------------------+\n",
      "only showing top 20 rows\n",
      "\n"
     ]
    }
   ],
   "source": [
    "data.select(\n",
    "    'iso_currency', \n",
    "    data.iso_currency.rlike('^[9,7]').alias('iso_urrency zaczyba sie na 9 lub 7')\n",
    ").distinct().show()"
   ]
  },
  {
   "cell_type": "markdown",
   "id": "befeee40-27a7-4f96-a63b-0bcb2786482a",
   "metadata": {},
   "source": [
    "### GroupBy\n",
    "Sama nazwa sugeruje, że ta funkcja grupuje dane według wybranej kolumny i wykonuje różne operacje, takie jak obliczanie sumy, średniej, minimalnej, maksymalnej wartości itp. Poniższy przykład wyjaśnia, jak uzyskać średnią confirmed, people_vaccinated  według iso_currency."
   ]
  },
  {
   "cell_type": "code",
   "execution_count": 48,
   "id": "c33a7d78-d545-4dc9-ac0e-c79d1b8799b3",
   "metadata": {},
   "outputs": [
    {
     "name": "stdout",
     "output_type": "stream",
     "text": [
      "+------------+--------------+----------------------+\n",
      "|iso_currency|avg(confirmed)|avg(people_vaccinated)|\n",
      "+------------+--------------+----------------------+\n",
      "|         467|          null|                  null|\n",
      "|         675|    1.962488E7|                  null|\n",
      "|         296|     3357425.0|                  null|\n",
      "|        1090|          null|                  null|\n",
      "|        1572|          null|                  null|\n",
      "|        2136|          null|                  null|\n",
      "|        1512|          null|                  null|\n",
      "|       65897|          null|                  null|\n",
      "|        3606|          null|                  null|\n",
      "|       21452|          null|                  null|\n",
      "|        6240|          null|                  null|\n",
      "|       10096|          null|                  null|\n",
      "|        4821|   7.8833522E7|                  null|\n",
      "|       15269|          null|                  null|\n",
      "|       15634|          null|                  null|\n",
      "|       16504|          null|                  null|\n",
      "|         691|          null|                  null|\n",
      "|        3414|          null|                  null|\n",
      "|       22254|          null|                  null|\n",
      "|       23918|          null|                  null|\n",
      "+------------+--------------+----------------------+\n",
      "only showing top 20 rows\n",
      "\n"
     ]
    }
   ],
   "source": [
    "data.select(['confirmed', 'people_vaccinated', 'iso_currency'])\\\n",
    "    .groupBy('iso_currency')\\\n",
    "    .mean()\\\n",
    "    .show()"
   ]
  },
  {
   "cell_type": "markdown",
   "id": "aa210dab-554a-47d4-a6a5-d0ae61816357",
   "metadata": {},
   "source": [
    "### Agregacja\n",
    "PySpark zapewnia wbudowane standardowe funkcje agregacji zdefiniowane w API DataFrame, które mogą się przydać, gdy musimy zagregować wartości Twoich kolumn. Innymi słowy, takie funkcje działają na kilka wierszy i oblicza pojedynczą wartość powrotną dla każdej grupy.\n",
    "\n",
    "Poniższy przykład pokazuje, jak wyświetlić najniższe, najwyższe i średnie confirmed, people_vaccinated dla każdej iso_currency."
   ]
  },
  {
   "cell_type": "code",
   "execution_count": 49,
   "id": "f36fa37e-729b-4ebe-87ac-ad812d2bb511",
   "metadata": {},
   "outputs": [
    {
     "name": "stdout",
     "output_type": "stream",
     "text": [
      "+------------+-------+-------+------------------+------------------+------------------+------------------------------+------------------------------+------------------------------+\n",
      "|iso_currency|from   |to     |minimum vaccinated|maximum vaccinated|average vaccinated|minimum economic_support_index|maximum economic_support_index|average economic_support_index|\n",
      "+------------+-------+-------+------------------+------------------+------------------+------------------------------+------------------------------+------------------------------+\n",
      "|296         |3357425|3357425|null              |null              |null              |13283.0                       |13283.0                       |13283.0                       |\n",
      "|870         |3357425|3357425|null              |null              |null              |34455.0                       |34455.0                       |34455.0                       |\n",
      "|926         |3357425|3357425|null              |null              |null              |35719.0                       |35719.0                       |35719.0                       |\n",
      "|7           |3357425|3357425|null              |null              |null              |65.0                          |73.0                          |68.42857142857143             |\n",
      "|124         |3357425|3357425|null              |null              |null              |4143.0                        |4162.0                        |4152.5                        |\n",
      "|447         |3357425|3357425|null              |null              |null              |19096.0                       |19096.0                       |19096.0                       |\n",
      "|591         |3357425|3357425|null              |null              |null              |24047.0                       |24224.0                       |24135.5                       |\n",
      "|574         |3357425|3357425|null              |null              |null              |23561.0                       |23561.0                       |23561.0                       |\n",
      "|613         |3357425|3357425|null              |null              |null              |25403.0                       |25403.0                       |25403.0                       |\n",
      "|169         |3357425|3357425|null              |null              |null              |6574.0                        |6574.0                        |6574.0                        |\n",
      "|205         |3357425|3357425|null              |null              |null              |8928.0                        |8928.0                        |8928.0                        |\n",
      "|740         |3357425|3357425|null              |null              |null              |30186.0                       |30186.0                       |30186.0                       |\n",
      "|442         |3357425|3357425|null              |null              |null              |18837.0                       |18837.0                       |18837.0                       |\n",
      "|462         |3357425|3357425|null              |null              |null              |19774.0                       |19877.0                       |19825.5                       |\n",
      "|15          |3357425|3357425|null              |null              |null              |273.0                         |273.0                         |273.0                         |\n",
      "|54          |3357425|3357425|null              |null              |null              |1812.0                        |1812.0                        |1812.0                        |\n",
      "|155         |3357425|3357425|null              |null              |null              |5920.0                        |5920.0                        |5920.0                        |\n",
      "|851         |3357425|3357425|null              |null              |null              |33973.0                       |33973.0                       |33973.0                       |\n",
      "|862         |3357425|3357425|null              |null              |null              |34240.0                       |34240.0                       |34240.0                       |\n",
      "|154         |3357425|3357425|null              |null              |null              |5697.0                        |5879.0                        |5776.333333333333             |\n",
      "+------------+-------+-------+------------------+------------------+------------------+------------------------------+------------------------------+------------------------------+\n",
      "only showing top 20 rows\n",
      "\n"
     ]
    }
   ],
   "source": [
    "from pyspark.sql import functions as f\n",
    "\n",
    "data.filter((col('confirmed') >= 1000000) & (col('confirmed') <= 5000000))\\\n",
    "    .groupBy(\"iso_currency\") \\\n",
    "    .agg(f.min(\"confirmed\").alias(\"from\"), \n",
    "         f.max(\"confirmed\").alias(\"to\"), \n",
    "         \n",
    "         f.min(\"people_vaccinated\").alias(\"minimum vaccinated\"),\n",
    "         f.max(\"people_vaccinated\").alias(\"maximum vaccinated\"), \n",
    "         f.avg(\"people_vaccinated\").alias(\"average vaccinated\"), \n",
    "\n",
    "         f.min(\"economic_support_index\").alias(\"minimum economic_support_index\"),\n",
    "         f.max(\"economic_support_index\").alias(\"maximum economic_support_index\"), \n",
    "         f.avg(\"economic_support_index\").alias(\"average economic_support_index\"), \n",
    "\n",
    "      ).show(truncate=False)"
   ]
  },
  {
   "cell_type": "markdown",
   "id": "18f1b342-c629-4683-8e61-b84b3958e63e",
   "metadata": {},
   "source": [
    "## Wizualizacja danych\n",
    "Do wizualizacji danych wykorzystamy biblioteki `matplotlib` i `pandas`. Metoda `toPandas()` umożliwia nam przekształcenie danych w ramkę danych pandas, której używamy, gdy wywołujemy metodę renderowania `plot()`. Poniższy kod pokazuje, jak wyświetlić histogram, który wyświetla średnie confirmed, people_vaccinated, economic_support_index dla każdej iso_currency."
   ]
  },
  {
   "cell_type": "code",
   "execution_count": 51,
   "id": "5490935b-bc76-43b0-9980-4e00d2955bf9",
   "metadata": {},
   "outputs": [
    {
     "data": {
      "image/png": "[encoded data removed]",
      "text/plain": [
       "<Figure size 864x432 with 1 Axes>"
      ]
     },
     "metadata": {
      "needs_background": "light"
     },
     "output_type": "display_data"
    }
   ],
   "source": [
    "from matplotlib import pyplot as plt\n",
    "\n",
    "currency_df =  data.select(['iso_currency', \n",
    "                       'confirmed', \n",
    "                       'people_vaccinated', \n",
    "                       'economic_support_index']\n",
    "                     )\\\n",
    "                     .groupBy('iso_currency')\\\n",
    "                     .mean()\\\n",
    "                     .toPandas()\n",
    "\n",
    "ind = list(range(12))\n",
    "ind.pop(6)\n",
    "\n",
    "currency_df.iloc[ind ,:].plot(kind='bar', x='iso_currency', y=currency_df.columns.tolist()[1:], \n",
    "                         figsize=(12, 6), ylabel='People', xlabel='iso currency')\n",
    "plt.show()"
   ]
  },
  {
   "cell_type": "markdown",
   "id": "ed56be24-7149-4fb8-886f-0ffdd5a8cbc8",
   "metadata": {},
   "source": [
    "## Zapisywanie/zapisywanie danych do pliku\n",
    "Metoda `write.save()` służy do zapisywania danych w różnych formatach, takich jak CSV, JSVON, Parquet i inne. Przyjrzyjmy się, jak zapisywać dane do plików o różnych formatach. Za pomocą metody `select()` możemy zapisać zarówno wszystkie wiersze, jak i tylko wybrane."
   ]
  },
  {
   "cell_type": "code",
   "execution_count": null,
   "id": "48d4f0ee-5bf0-4954-b882-b261bd012fcd",
   "metadata": {},
   "outputs": [],
   "source": [
    "# CSV\n",
    "data.write.csv('dataset.csv')\n",
    "\n",
    "# JSON\n",
    "data.write.save('dataset.json', format='json')\n",
    "\n",
    "# Parquet\n",
    "data.write.save('dataset.parquet', format='parquet')\n",
    "\n",
    "# Zapisywanie wybranych kolumn\n",
    "\n",
    "# CSV\n",
    "data.select(['iso_currency','confirmed','people_vaccinated','economic_support_index'])\\\n",
    "    .write.csv('dataset.csv')\n",
    "\n",
    "# JSON\n",
    "data.select(['iso_currency','confirmed','people_vaccinated','economic_support_index'])\\\n",
    "    .write.save('dataset.json', format='json')\n",
    "\n",
    "# Parquet\n",
    "data.select(['iso_currency','confirmed','people_vaccinated','economic_support_index'])\\\n",
    "    .write.save('dataset.parquet', format='parquet')"
   ]
  }
 ],
 "metadata": {
  "kernelspec": {
   "display_name": "Python 3 (ipykernel)",
   "language": "python",
   "name": "python3"
  },
  "language_info": {
   "codemirror_mode": {
    "name": "ipython",
    "version": 3
   },
   "file_extension": ".py",
   "mimetype": "text/x-python",
   "name": "python",
   "nbconvert_exporter": "python",
   "pygments_lexer": "ipython3",
   "version": "3.9.7"
  }
 },
 "nbformat": 4,
 "nbformat_minor": 5
}
